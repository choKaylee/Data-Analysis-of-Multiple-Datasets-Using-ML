{
 "cells": [
  {
   "cell_type": "markdown",
   "id": "afdcb098-fca0-407f-b859-07ee2fe1f780",
   "metadata": {},
   "source": [
    "# Problem Set 1\n",
    "## Name: Kaylee Cho\n",
    "### Date: 2023/04/05"
   ]
  },
  {
   "cell_type": "code",
   "execution_count": 1,
   "id": "125f59d5-10cc-48a9-9bdc-8a767045f131",
   "metadata": {},
   "outputs": [],
   "source": [
    "import pandas as pd\n",
    "import numpy as np\n",
    "import matplotlib.pyplot as plt\n",
    "from sklearn.neural_network import MLPClassifier"
   ]
  },
  {
   "cell_type": "markdown",
   "id": "66ad6938-33d1-41f1-8067-7e85b18bff8a",
   "metadata": {},
   "source": [
    "### 1.1 COMPUTING (6pts)"
   ]
  },
  {
   "cell_type": "markdown",
   "id": "53334381-a86e-4301-9afb-84854d5b7316",
   "metadata": {},
   "source": [
    "1) How many seconds are there in year? "
   ]
  },
  {
   "cell_type": "code",
   "execution_count": 3,
   "id": "c0fa9e65-adf9-4c0b-90e0-1da470c1fc4c",
   "metadata": {},
   "outputs": [
    {
     "name": "stdout",
     "output_type": "stream",
     "text": [
      "31536000\n"
     ]
    }
   ],
   "source": [
    "secs = 365 * 24 * 60 * 60\n",
    "print(secs)"
   ]
  },
  {
   "cell_type": "markdown",
   "id": "a5b41bb3-2088-4a4e-bb92-e6c6e3343711",
   "metadata": {},
   "source": [
    "2) How mant secs is a typical human lifetime?"
   ]
  },
  {
   "cell_type": "code",
   "execution_count": 4,
   "id": "e81ec9d6-3394-4477-b47a-d1d0c08bf870",
   "metadata": {},
   "outputs": [
    {
     "name": "stdout",
     "output_type": "stream",
     "text": [
      "2522880000\n"
     ]
    }
   ],
   "source": [
    "typical_human_age = 80\n",
    "lifetime_in_seconds = secs * 80\n",
    "print(lifetime_in_seconds)"
   ]
  },
  {
   "cell_type": "markdown",
   "id": "24540160-9f84-426e-9943-0188d6ea7fa5",
   "metadata": {},
   "source": [
    "3) What is your age in secs?"
   ]
  },
  {
   "cell_type": "code",
   "execution_count": 5,
   "id": "e41c2a15-2cc5-42ec-af02-61894a0ef819",
   "metadata": {},
   "outputs": [
    {
     "name": "stdout",
     "output_type": "stream",
     "text": [
      "630720000\n"
     ]
    }
   ],
   "source": [
    "my_age = 20 * secs\n",
    "print(my_age)"
   ]
  },
  {
   "cell_type": "markdown",
   "id": "c1e0b4b9-634c-4314-bd8e-ee42edad7332",
   "metadata": {},
   "source": [
    "4) Create a logical variable that is true if you are more than 700M seconds old. Use logical operators, not if/else!"
   ]
  },
  {
   "cell_type": "code",
   "execution_count": 7,
   "id": "8606cf7f-c901-4db2-b375-1f67de8b2aec",
   "metadata": {},
   "outputs": [
    {
     "name": "stdout",
     "output_type": "stream",
     "text": [
      "Am I older than 700M seconds?\n",
      "False\n"
     ]
    }
   ],
   "source": [
    "age = my_age > 700000000\n",
    "print(\"Am I older than 700M seconds?\")\n",
    "print(age)"
   ]
  },
  {
   "cell_type": "markdown",
   "id": "01c0497f-67b7-4c14-a95a-d96346d763be",
   "metadata": {},
   "source": [
    "5) Compute the following mathematical formulas:"
   ]
  },
  {
   "cell_type": "code",
   "execution_count": 2,
   "id": "50e3ae86-a22d-4769-8b97-6862cf320a86",
   "metadata": {},
   "outputs": [
    {
     "data": {
      "text/plain": [
       "0.24"
      ]
     },
     "execution_count": 2,
     "metadata": {},
     "output_type": "execute_result"
    }
   ],
   "source": [
    "result = 0.4 * (float(1) - 0.4)\n",
    "result"
   ]
  },
  {
   "cell_type": "markdown",
   "id": "6c87dc74-0a48-4d96-8b34-c7f40eabdfa1",
   "metadata": {},
   "source": [
    "### Lists (5pts)"
   ]
  },
  {
   "cell_type": "markdown",
   "id": "588abc2e-15ae-406a-a725-1432a678f16d",
   "metadata": {},
   "source": [
    "1) Create a list 'movies' that contains the names of at least six movies you like"
   ]
  },
  {
   "cell_type": "code",
   "execution_count": 32,
   "id": "a20ac049-6c0c-4f7e-b0f1-e3eba19c854b",
   "metadata": {},
   "outputs": [
    {
     "name": "stdout",
     "output_type": "stream",
     "text": [
      "['Harry Potter', 'Joker', 'La La Land', 'Avengers', 'Doctor Strange', 'Sound of Music']\n"
     ]
    }
   ],
   "source": [
    "movies = [\"Harry Potter\", \"Joker\", \"La La Land\", \"Avengers\", \"Doctor Strange\", \"Sound of Music\"]\n",
    "print(movies)"
   ]
  },
  {
   "cell_type": "markdown",
   "id": "15256cd0-1c70-402f-b6b5-b7cbf37f6d3f",
   "metadata": {},
   "source": [
    "2) Using indexing and slicing, Create a list of three first movies in the list."
   ]
  },
  {
   "cell_type": "code",
   "execution_count": 34,
   "id": "2e30c47d-0e6c-46f3-a929-0de276cf3c4b",
   "metadata": {},
   "outputs": [
    {
     "data": {
      "text/plain": [
       "['Harry Potter', 'Joker', 'La La Land']"
      ]
     },
     "execution_count": 34,
     "metadata": {},
     "output_type": "execute_result"
    }
   ],
   "source": [
    "movies[0:3]"
   ]
  },
  {
   "cell_type": "markdown",
   "id": "68f35a08-46d9-44c0-9cc4-f2444e202aeb",
   "metadata": {},
   "source": [
    "3) Use slicing and list concatenation to create a list of the first two and the last two movies"
   ]
  },
  {
   "cell_type": "code",
   "execution_count": 40,
   "id": "7a68488a-6d50-4272-90c6-1c642c074fd5",
   "metadata": {},
   "outputs": [
    {
     "name": "stdout",
     "output_type": "stream",
     "text": [
      "['Harry Potter', 'Joker']\n",
      "['Doctor Strange', 'Sound of Music']\n"
     ]
    }
   ],
   "source": [
    "first = movies[:2]\n",
    "last = movies[4:]\n",
    "print(first)\n",
    "print(last)"
   ]
  },
  {
   "cell_type": "markdown",
   "id": "98e373c3-74fc-4006-b5cc-0688f33b5882",
   "metadata": {},
   "source": [
    "4) Use slicing to list the movies in the opposite order"
   ]
  },
  {
   "cell_type": "code",
   "execution_count": 42,
   "id": "2c0494d7-3603-41c0-be9e-ef2c1fe5f036",
   "metadata": {},
   "outputs": [
    {
     "data": {
      "text/plain": [
       "['Sound of Music',\n",
       " 'Doctor Strange',\n",
       " 'Avengers',\n",
       " 'La La Land',\n",
       " 'Joker',\n",
       " 'Harry Potter']"
      ]
     },
     "execution_count": 42,
     "metadata": {},
     "output_type": "execute_result"
    }
   ],
   "source": [
    "movies[::-1]"
   ]
  },
  {
   "cell_type": "markdown",
   "id": "1604b8fb-46e1-4542-983d-91232bd3fc27",
   "metadata": {},
   "source": [
    "### Loops (8pts)"
   ]
  },
  {
   "cell_type": "markdown",
   "id": "fa49770a-bb64-4b42-a23c-091be39e590e",
   "metadata": {},
   "source": [
    "1) Create a list 'numbers' that is the numbers 70 through 79 in the following manner: create an empty list and add numbers to it in a loop (do not use list comprehension or 'list' function here!)"
   ]
  },
  {
   "cell_type": "code",
   "execution_count": 50,
   "id": "503ea4cd-cc9c-4e85-831c-7801e3580da1",
   "metadata": {},
   "outputs": [
    {
     "name": "stdout",
     "output_type": "stream",
     "text": [
      "[70, 71, 72, 73, 74, 75, 76, 77, 78, 79]\n"
     ]
    }
   ],
   "source": [
    "numbers = []\n",
    "numbers.extend(range(70, 80))\n",
    "print(numbers)"
   ]
  },
  {
   "cell_type": "markdown",
   "id": "2029d6d1-7615-4a37-96d6-f170cbbe9746",
   "metadata": {},
   "source": [
    "2) Use a loop to compute the mean value of the list: add the values to their sum in a loop, and at the end divide the sum by the number of the values. (Do not use mean function!)"
   ]
  },
  {
   "cell_type": "code",
   "execution_count": 55,
   "id": "0b4e9a28-aa64-4dcd-a333-96af6510307b",
   "metadata": {},
   "outputs": [
    {
     "name": "stdout",
     "output_type": "stream",
     "text": [
      "74.5\n"
     ]
    }
   ],
   "source": [
    "total = 0\n",
    "n = 0\n",
    "for i in numbers:\n",
    "    total += i\n",
    "    n += 1\n",
    "print(total/n)"
   ]
  },
  {
   "cell_type": "markdown",
   "id": "383c5ef5-63f5-430b-bbc0-7662ca70df3a",
   "metadata": {},
   "source": [
    "3) Use loop to compute sum of all integers from 1 till 100."
   ]
  },
  {
   "cell_type": "code",
   "execution_count": 57,
   "id": "c98e8f42-9628-4226-8655-239c61f201da",
   "metadata": {},
   "outputs": [
    {
     "name": "stdout",
     "output_type": "stream",
     "text": [
      "5050\n"
     ]
    }
   ],
   "source": [
    "total = 0\n",
    "for i in range(1, 101):\n",
    "    total += i\n",
    "print(total)"
   ]
  },
  {
   "cell_type": "markdown",
   "id": "474b351b-3c83-41a1-9873-de8fd1b34d16",
   "metadata": {},
   "source": [
    "4) Assign ppl to seats. Adam (33), Ashin(12), Inukai(45), Tanaka(2), and Ikki(17)."
   ]
  },
  {
   "cell_type": "code",
   "execution_count": 89,
   "id": "3d95a64c-8595-4a06-bb76-f445dc89890e",
   "metadata": {},
   "outputs": [
    {
     "name": "stdout",
     "output_type": "stream",
     "text": [
      "Adam: 33\n",
      "Ashin: 12\n",
      "Inukai: 45\n",
      "Tanaka: 2\n",
      "Ikki: 17\n"
     ]
    }
   ],
   "source": [
    "name = [\"Adam\", \"Ashin\", \"Inukai\", \"Tanaka\", \"Ikki\"]\n",
    "seat = [33, 12, 45, 2, 17]\n",
    "for i in range(0, 5):\n",
    "    print(name[i] + \":\", seat [i])"
   ]
  },
  {
   "cell_type": "markdown",
   "id": "2073136d-feaf-44c9-a6d3-21b1997aa1d8",
   "metadata": {},
   "source": [
    "### Dicts (6pts)"
   ]
  },
  {
   "cell_type": "markdown",
   "id": "411ac818-7a7b-4968-ad3b-a58537f8a206",
   "metadata": {},
   "source": [
    "#### [1]"
   ]
  },
  {
   "cell_type": "code",
   "execution_count": 16,
   "id": "8c435be2-348c-4ab8-9c9d-df1686a1e19f",
   "metadata": {},
   "outputs": [
    {
     "name": "stdout",
     "output_type": "stream",
     "text": [
      "{'i': 1, 'love': 1, 'cute': 2, 'dogs': 2, 'all': 1, 'are': 1}\n"
     ]
    }
   ],
   "source": [
    "# \n",
    "counts = {}\n",
    "words = []\n",
    "word = \"I love cute dogs All dogs are cute\".split()\n",
    "for i in word:\n",
    "    count = 0\n",
    "    low = i.lower()\n",
    "    counts[low] = 0     #create dictionary with 0 word count\n",
    "for i in word:\n",
    "    low = i.lower()\n",
    "    if low not in counts:\n",
    "        counts[low] = 1\n",
    "    else:\n",
    "        counts[low] += 1\n",
    "print(counts)"
   ]
  },
  {
   "cell_type": "markdown",
   "id": "90e6f787-78e8-4d6f-b55e-dd7cfe142fc1",
   "metadata": {},
   "source": [
    "### Functions and Data Transformations (5pts)"
   ]
  },
  {
   "cell_type": "markdown",
   "id": "135b44e3-b9a9-497d-9ab9-8a824e65065e",
   "metadata": {},
   "source": [
    "1) Write a function that takes in time in the numeric form of HHMM, and returns it in the numeric form of HH.HH. For instance, 1015 -> 10.25 (10 hrs 15 mins -> 10.25 hrs). Demonstrate it works using values 1015 and 345."
   ]
  },
  {
   "cell_type": "code",
   "execution_count": 42,
   "id": "39021549-9175-4e68-9ba8-d373b706e8da",
   "metadata": {},
   "outputs": [
    {
     "name": "stdout",
     "output_type": "stream",
     "text": [
      "10.25\n"
     ]
    }
   ],
   "source": [
    "def transform(time: int):\n",
    "    time = str(time)\n",
    "    minute = time[-2: ]\n",
    "    fraction = int(minute)/60\n",
    "    hour = time[: -2]\n",
    "    output = float(hour) + fraction\n",
    "    return output\n",
    "\n",
    "def main():\n",
    "    print(transform(1015))\n",
    "    \n",
    "if __name__ == '__main__':\n",
    "    main()"
   ]
  },
  {
   "cell_type": "markdown",
   "id": "5e9a1f01-2f4e-4dc5-97b5-90b3fa771fe1",
   "metadata": {},
   "source": [
    "### Basic Data Frames (50pts)"
   ]
  },
  {
   "cell_type": "markdown",
   "id": "fbb3d0c8-1e33-45d2-aab8-35c790abbece",
   "metadata": {},
   "source": [
    "#### Setup (4pts) "
   ]
  },
  {
   "cell_type": "markdown",
   "id": "cd059309-7eb4-4625-912d-8afd5de6c426",
   "metadata": {},
   "source": [
    "1) Load the data"
   ]
  },
  {
   "cell_type": "code",
   "execution_count": 3,
   "id": "06a47474-d2c6-4e9f-afdb-e61cbf2e5742",
   "metadata": {},
   "outputs": [],
   "source": [
    "import pandas as pd\n",
    "import numpy as np\n",
    "import matplotlib.pyplot as plt\n",
    "from sklearn.neural_network import MLPClassifier"
   ]
  },
  {
   "cell_type": "code",
   "execution_count": 4,
   "id": "363891a0-e4a9-4496-821b-8e4b7f640d8a",
   "metadata": {},
   "outputs": [
    {
     "data": {
      "text/html": [
       "<div>\n",
       "<style scoped>\n",
       "    .dataframe tbody tr th:only-of-type {\n",
       "        vertical-align: middle;\n",
       "    }\n",
       "\n",
       "    .dataframe tbody tr th {\n",
       "        vertical-align: top;\n",
       "    }\n",
       "\n",
       "    .dataframe thead th {\n",
       "        text-align: right;\n",
       "    }\n",
       "</style>\n",
       "<table border=\"1\" class=\"dataframe\">\n",
       "  <thead>\n",
       "    <tr style=\"text-align: right;\">\n",
       "      <th></th>\n",
       "      <th>year</th>\n",
       "      <th>month</th>\n",
       "      <th>day</th>\n",
       "      <th>dep_time</th>\n",
       "      <th>sched_dep_time</th>\n",
       "      <th>dep_delay</th>\n",
       "      <th>arr_time</th>\n",
       "      <th>sched_arr_time</th>\n",
       "      <th>arr_delay</th>\n",
       "      <th>carrier</th>\n",
       "      <th>flight</th>\n",
       "      <th>tailnum</th>\n",
       "      <th>origin</th>\n",
       "      <th>dest</th>\n",
       "      <th>air_time</th>\n",
       "      <th>distance</th>\n",
       "      <th>hour</th>\n",
       "      <th>minute</th>\n",
       "      <th>time_hour</th>\n",
       "    </tr>\n",
       "  </thead>\n",
       "  <tbody>\n",
       "    <tr>\n",
       "      <th>0</th>\n",
       "      <td>2013</td>\n",
       "      <td>1</td>\n",
       "      <td>1</td>\n",
       "      <td>517.0</td>\n",
       "      <td>515</td>\n",
       "      <td>2.0</td>\n",
       "      <td>830.0</td>\n",
       "      <td>819</td>\n",
       "      <td>11.0</td>\n",
       "      <td>UA</td>\n",
       "      <td>1545</td>\n",
       "      <td>N14228</td>\n",
       "      <td>EWR</td>\n",
       "      <td>IAH</td>\n",
       "      <td>227.0</td>\n",
       "      <td>1400</td>\n",
       "      <td>5</td>\n",
       "      <td>15</td>\n",
       "      <td>2013-01-01T10:00:00Z</td>\n",
       "    </tr>\n",
       "    <tr>\n",
       "      <th>1</th>\n",
       "      <td>2013</td>\n",
       "      <td>1</td>\n",
       "      <td>1</td>\n",
       "      <td>533.0</td>\n",
       "      <td>529</td>\n",
       "      <td>4.0</td>\n",
       "      <td>850.0</td>\n",
       "      <td>830</td>\n",
       "      <td>20.0</td>\n",
       "      <td>UA</td>\n",
       "      <td>1714</td>\n",
       "      <td>N24211</td>\n",
       "      <td>LGA</td>\n",
       "      <td>IAH</td>\n",
       "      <td>227.0</td>\n",
       "      <td>1416</td>\n",
       "      <td>5</td>\n",
       "      <td>29</td>\n",
       "      <td>2013-01-01T10:00:00Z</td>\n",
       "    </tr>\n",
       "    <tr>\n",
       "      <th>2</th>\n",
       "      <td>2013</td>\n",
       "      <td>1</td>\n",
       "      <td>1</td>\n",
       "      <td>542.0</td>\n",
       "      <td>540</td>\n",
       "      <td>2.0</td>\n",
       "      <td>923.0</td>\n",
       "      <td>850</td>\n",
       "      <td>33.0</td>\n",
       "      <td>AA</td>\n",
       "      <td>1141</td>\n",
       "      <td>N619AA</td>\n",
       "      <td>JFK</td>\n",
       "      <td>MIA</td>\n",
       "      <td>160.0</td>\n",
       "      <td>1089</td>\n",
       "      <td>5</td>\n",
       "      <td>40</td>\n",
       "      <td>2013-01-01T10:00:00Z</td>\n",
       "    </tr>\n",
       "    <tr>\n",
       "      <th>3</th>\n",
       "      <td>2013</td>\n",
       "      <td>1</td>\n",
       "      <td>1</td>\n",
       "      <td>544.0</td>\n",
       "      <td>545</td>\n",
       "      <td>-1.0</td>\n",
       "      <td>1004.0</td>\n",
       "      <td>1022</td>\n",
       "      <td>-18.0</td>\n",
       "      <td>B6</td>\n",
       "      <td>725</td>\n",
       "      <td>N804JB</td>\n",
       "      <td>JFK</td>\n",
       "      <td>BQN</td>\n",
       "      <td>183.0</td>\n",
       "      <td>1576</td>\n",
       "      <td>5</td>\n",
       "      <td>45</td>\n",
       "      <td>2013-01-01T10:00:00Z</td>\n",
       "    </tr>\n",
       "    <tr>\n",
       "      <th>4</th>\n",
       "      <td>2013</td>\n",
       "      <td>1</td>\n",
       "      <td>1</td>\n",
       "      <td>554.0</td>\n",
       "      <td>600</td>\n",
       "      <td>-6.0</td>\n",
       "      <td>812.0</td>\n",
       "      <td>837</td>\n",
       "      <td>-25.0</td>\n",
       "      <td>DL</td>\n",
       "      <td>461</td>\n",
       "      <td>N668DN</td>\n",
       "      <td>LGA</td>\n",
       "      <td>ATL</td>\n",
       "      <td>116.0</td>\n",
       "      <td>762</td>\n",
       "      <td>6</td>\n",
       "      <td>0</td>\n",
       "      <td>2013-01-01T11:00:00Z</td>\n",
       "    </tr>\n",
       "    <tr>\n",
       "      <th>...</th>\n",
       "      <td>...</td>\n",
       "      <td>...</td>\n",
       "      <td>...</td>\n",
       "      <td>...</td>\n",
       "      <td>...</td>\n",
       "      <td>...</td>\n",
       "      <td>...</td>\n",
       "      <td>...</td>\n",
       "      <td>...</td>\n",
       "      <td>...</td>\n",
       "      <td>...</td>\n",
       "      <td>...</td>\n",
       "      <td>...</td>\n",
       "      <td>...</td>\n",
       "      <td>...</td>\n",
       "      <td>...</td>\n",
       "      <td>...</td>\n",
       "      <td>...</td>\n",
       "      <td>...</td>\n",
       "    </tr>\n",
       "    <tr>\n",
       "      <th>336771</th>\n",
       "      <td>2013</td>\n",
       "      <td>9</td>\n",
       "      <td>30</td>\n",
       "      <td>NaN</td>\n",
       "      <td>1455</td>\n",
       "      <td>NaN</td>\n",
       "      <td>NaN</td>\n",
       "      <td>1634</td>\n",
       "      <td>NaN</td>\n",
       "      <td>9E</td>\n",
       "      <td>3393</td>\n",
       "      <td>NaN</td>\n",
       "      <td>JFK</td>\n",
       "      <td>DCA</td>\n",
       "      <td>NaN</td>\n",
       "      <td>213</td>\n",
       "      <td>14</td>\n",
       "      <td>55</td>\n",
       "      <td>2013-09-30T18:00:00Z</td>\n",
       "    </tr>\n",
       "    <tr>\n",
       "      <th>336772</th>\n",
       "      <td>2013</td>\n",
       "      <td>9</td>\n",
       "      <td>30</td>\n",
       "      <td>NaN</td>\n",
       "      <td>2200</td>\n",
       "      <td>NaN</td>\n",
       "      <td>NaN</td>\n",
       "      <td>2312</td>\n",
       "      <td>NaN</td>\n",
       "      <td>9E</td>\n",
       "      <td>3525</td>\n",
       "      <td>NaN</td>\n",
       "      <td>LGA</td>\n",
       "      <td>SYR</td>\n",
       "      <td>NaN</td>\n",
       "      <td>198</td>\n",
       "      <td>22</td>\n",
       "      <td>0</td>\n",
       "      <td>2013-10-01T02:00:00Z</td>\n",
       "    </tr>\n",
       "    <tr>\n",
       "      <th>336773</th>\n",
       "      <td>2013</td>\n",
       "      <td>9</td>\n",
       "      <td>30</td>\n",
       "      <td>NaN</td>\n",
       "      <td>1210</td>\n",
       "      <td>NaN</td>\n",
       "      <td>NaN</td>\n",
       "      <td>1330</td>\n",
       "      <td>NaN</td>\n",
       "      <td>MQ</td>\n",
       "      <td>3461</td>\n",
       "      <td>N535MQ</td>\n",
       "      <td>LGA</td>\n",
       "      <td>BNA</td>\n",
       "      <td>NaN</td>\n",
       "      <td>764</td>\n",
       "      <td>12</td>\n",
       "      <td>10</td>\n",
       "      <td>2013-09-30T16:00:00Z</td>\n",
       "    </tr>\n",
       "    <tr>\n",
       "      <th>336774</th>\n",
       "      <td>2013</td>\n",
       "      <td>9</td>\n",
       "      <td>30</td>\n",
       "      <td>NaN</td>\n",
       "      <td>1159</td>\n",
       "      <td>NaN</td>\n",
       "      <td>NaN</td>\n",
       "      <td>1344</td>\n",
       "      <td>NaN</td>\n",
       "      <td>MQ</td>\n",
       "      <td>3572</td>\n",
       "      <td>N511MQ</td>\n",
       "      <td>LGA</td>\n",
       "      <td>CLE</td>\n",
       "      <td>NaN</td>\n",
       "      <td>419</td>\n",
       "      <td>11</td>\n",
       "      <td>59</td>\n",
       "      <td>2013-09-30T15:00:00Z</td>\n",
       "    </tr>\n",
       "    <tr>\n",
       "      <th>336775</th>\n",
       "      <td>2013</td>\n",
       "      <td>9</td>\n",
       "      <td>30</td>\n",
       "      <td>NaN</td>\n",
       "      <td>840</td>\n",
       "      <td>NaN</td>\n",
       "      <td>NaN</td>\n",
       "      <td>1020</td>\n",
       "      <td>NaN</td>\n",
       "      <td>MQ</td>\n",
       "      <td>3531</td>\n",
       "      <td>N839MQ</td>\n",
       "      <td>LGA</td>\n",
       "      <td>RDU</td>\n",
       "      <td>NaN</td>\n",
       "      <td>431</td>\n",
       "      <td>8</td>\n",
       "      <td>40</td>\n",
       "      <td>2013-09-30T12:00:00Z</td>\n",
       "    </tr>\n",
       "  </tbody>\n",
       "</table>\n",
       "<p>336776 rows × 19 columns</p>\n",
       "</div>"
      ],
      "text/plain": [
       "        year  month  day  dep_time  sched_dep_time  dep_delay  arr_time  \\\n",
       "0       2013      1    1     517.0             515        2.0     830.0   \n",
       "1       2013      1    1     533.0             529        4.0     850.0   \n",
       "2       2013      1    1     542.0             540        2.0     923.0   \n",
       "3       2013      1    1     544.0             545       -1.0    1004.0   \n",
       "4       2013      1    1     554.0             600       -6.0     812.0   \n",
       "...      ...    ...  ...       ...             ...        ...       ...   \n",
       "336771  2013      9   30       NaN            1455        NaN       NaN   \n",
       "336772  2013      9   30       NaN            2200        NaN       NaN   \n",
       "336773  2013      9   30       NaN            1210        NaN       NaN   \n",
       "336774  2013      9   30       NaN            1159        NaN       NaN   \n",
       "336775  2013      9   30       NaN             840        NaN       NaN   \n",
       "\n",
       "        sched_arr_time  arr_delay carrier  flight tailnum origin dest  \\\n",
       "0                  819       11.0      UA    1545  N14228    EWR  IAH   \n",
       "1                  830       20.0      UA    1714  N24211    LGA  IAH   \n",
       "2                  850       33.0      AA    1141  N619AA    JFK  MIA   \n",
       "3                 1022      -18.0      B6     725  N804JB    JFK  BQN   \n",
       "4                  837      -25.0      DL     461  N668DN    LGA  ATL   \n",
       "...                ...        ...     ...     ...     ...    ...  ...   \n",
       "336771            1634        NaN      9E    3393     NaN    JFK  DCA   \n",
       "336772            2312        NaN      9E    3525     NaN    LGA  SYR   \n",
       "336773            1330        NaN      MQ    3461  N535MQ    LGA  BNA   \n",
       "336774            1344        NaN      MQ    3572  N511MQ    LGA  CLE   \n",
       "336775            1020        NaN      MQ    3531  N839MQ    LGA  RDU   \n",
       "\n",
       "        air_time  distance  hour  minute             time_hour  \n",
       "0          227.0      1400     5      15  2013-01-01T10:00:00Z  \n",
       "1          227.0      1416     5      29  2013-01-01T10:00:00Z  \n",
       "2          160.0      1089     5      40  2013-01-01T10:00:00Z  \n",
       "3          183.0      1576     5      45  2013-01-01T10:00:00Z  \n",
       "4          116.0       762     6       0  2013-01-01T11:00:00Z  \n",
       "...          ...       ...   ...     ...                   ...  \n",
       "336771       NaN       213    14      55  2013-09-30T18:00:00Z  \n",
       "336772       NaN       198    22       0  2013-10-01T02:00:00Z  \n",
       "336773       NaN       764    12      10  2013-09-30T16:00:00Z  \n",
       "336774       NaN       419    11      59  2013-09-30T15:00:00Z  \n",
       "336775       NaN       431     8      40  2013-09-30T12:00:00Z  \n",
       "\n",
       "[336776 rows x 19 columns]"
      ]
     },
     "execution_count": 4,
     "metadata": {},
     "output_type": "execute_result"
    }
   ],
   "source": [
    "nyc_flights = \"nycflights13.csv\"\n",
    "nyc_data = pd.read_csv(nyc_flights, sep = \"\\t\")\n",
    "nyc_data"
   ]
  },
  {
   "cell_type": "markdown",
   "id": "f2104d75-124d-41e6-b808-943da58447ae",
   "metadata": {},
   "source": [
    "2) Do basic checks:"
   ]
  },
  {
   "cell_type": "markdown",
   "id": "7b9863d5-52d4-40cf-9299-6347f399d64a",
   "metadata": {},
   "source": [
    "(a)"
   ]
  },
  {
   "cell_type": "code",
   "execution_count": 5,
   "id": "b0162ad8-cbbf-49cf-b5c7-cb48dfc07b11",
   "metadata": {},
   "outputs": [
    {
     "name": "stdout",
     "output_type": "stream",
     "text": [
      "year                int64\n",
      "month               int64\n",
      "day                 int64\n",
      "dep_time          float64\n",
      "sched_dep_time      int64\n",
      "dep_delay         float64\n",
      "arr_time          float64\n",
      "sched_arr_time      int64\n",
      "arr_delay         float64\n",
      "carrier            object\n",
      "flight              int64\n",
      "tailnum            object\n",
      "origin             object\n",
      "dest               object\n",
      "air_time          float64\n",
      "distance            int64\n",
      "hour                int64\n",
      "minute              int64\n",
      "time_hour          object\n",
      "dtype: object\n"
     ]
    }
   ],
   "source": [
    "var = nyc_data.dtypes\n",
    "print(var)"
   ]
  },
  {
   "cell_type": "markdown",
   "id": "62d232e3-8084-4de2-bac9-17f024ef6424",
   "metadata": {},
   "source": [
    "(b)"
   ]
  },
  {
   "cell_type": "code",
   "execution_count": 6,
   "id": "b645f016-c04c-41db-8c00-a71b27635635",
   "metadata": {},
   "outputs": [
    {
     "name": "stdout",
     "output_type": "stream",
     "text": [
      "(336776, 19)\n"
     ]
    }
   ],
   "source": [
    "col_var = nyc_data.shape\n",
    "print(col_var)"
   ]
  },
  {
   "cell_type": "markdown",
   "id": "8a1e124a-bfa8-4961-a144-7ade2d0a94a3",
   "metadata": {},
   "source": [
    "(c) Print the first few lines of data. Does it look reasonable? Yes, it does look reasonable."
   ]
  },
  {
   "cell_type": "markdown",
   "id": "41971664-1705-445e-b506-9ac322e658a3",
   "metadata": {},
   "source": [
    "nyc_data.head(5)"
   ]
  },
  {
   "cell_type": "markdown",
   "id": "6791afc2-b39d-4d3c-bc39-0964d55a64af",
   "metadata": {},
   "source": [
    "### Basic data explortation (9pts)"
   ]
  },
  {
   "cell_type": "markdown",
   "id": "74e3f363-300d-40de-981e-29dcc2bdb034",
   "metadata": {},
   "source": [
    "1) How many NYC airports are included in the data? Which airports are these?"
   ]
  },
  {
   "cell_type": "code",
   "execution_count": 6,
   "id": "6d38889b-d769-4152-8996-f5cddaf32c61",
   "metadata": {},
   "outputs": [
    {
     "name": "stdout",
     "output_type": "stream",
     "text": [
      "['EWR', 'LGA', 'JFK']\n"
     ]
    }
   ],
   "source": [
    "nyc_air = []\n",
    "for origin in nyc_data['origin']:\n",
    "    nyc_air.append(origin)\n",
    "nyc_air = list(dict.fromkeys(nyc_air))\n",
    "print(nyc_air)"
   ]
  },
  {
   "cell_type": "markdown",
   "id": "1004c44f-a4f9-476d-8b9f-081c7cd58b60",
   "metadata": {},
   "source": [
    "2. Into how many airports did the airlines fly from NYC in 2013?"
   ]
  },
  {
   "cell_type": "code",
   "execution_count": 11,
   "id": "6ada0e16-5502-4d7d-8e53-0473a75d3029",
   "metadata": {},
   "outputs": [
    {
     "name": "stdout",
     "output_type": "stream",
     "text": [
      "105\n"
     ]
    }
   ],
   "source": [
    "arr_air = []\n",
    "for dest in nyc_data['dest']:\n",
    "    arr_air.append(dest)\n",
    "arr_air = list(dict.fromkeys(arr_air))\n",
    "print(len(arr_air))"
   ]
  },
  {
   "cell_type": "markdown",
   "id": "669e5daa-2c60-4595-812f-61753cce526c",
   "metadata": {},
   "source": [
    "3. How many flights were there from NYC to Seattle?"
   ]
  },
  {
   "cell_type": "code",
   "execution_count": 14,
   "id": "c32469d4-58f9-493f-8742-ab6be842eea5",
   "metadata": {},
   "outputs": [
    {
     "name": "stdout",
     "output_type": "stream",
     "text": [
      "3923\n"
     ]
    }
   ],
   "source": [
    "count = 0\n",
    "for dest in nyc_data['dest']:\n",
    "    if dest == \"SEA\":\n",
    "        count += 1\n",
    "print(count)"
   ]
  },
  {
   "cell_type": "markdown",
   "id": "149ba4c5-4bfa-4379-9834-88ecea6bd4b0",
   "metadata": {},
   "source": [
    "4. Were there any flights from NYC to Spokane (GEG)?\n",
    "The code doesn't print out anything. Therefore, there were no flights from NYC to Spokane."
   ]
  },
  {
   "cell_type": "code",
   "execution_count": 19,
   "id": "687ef819-947c-46f4-ac2b-98b3e5ff76df",
   "metadata": {},
   "outputs": [],
   "source": [
    "for dest in nyc_data['dest']:\n",
    "    if dest == \"GEG\":\n",
    "        print(\"TRUE\")"
   ]
  },
  {
   "cell_type": "markdown",
   "id": "a9720d24-eb90-4d9d-96fe-d79122e564bd",
   "metadata": {},
   "source": [
    "### Compute new variables (8pts)"
   ]
  },
  {
   "cell_type": "markdown",
   "id": "c9aa4b7f-3047-4bf4-9a80-fd525475f35d",
   "metadata": {},
   "source": [
    "1. Create new column for the flight data - flight furation in hrs. Use variable \"arr time\" and \"dep time\"."
   ]
  },
  {
   "cell_type": "code",
   "execution_count": 56,
   "id": "bb84653b-e393-460f-80c7-a412419a7543",
   "metadata": {},
   "outputs": [
    {
     "name": "stdout",
     "output_type": "stream",
     "text": [
      "        year  month  day  dep_time  sched_dep_time  dep_delay  arr_time  \\\n",
      "0       2013      1    1     517.0             515        2.0     830.0   \n",
      "1       2013      1    1     533.0             529        4.0     850.0   \n",
      "2       2013      1    1     542.0             540        2.0     923.0   \n",
      "3       2013      1    1     544.0             545       -1.0    1004.0   \n",
      "4       2013      1    1     554.0             600       -6.0     812.0   \n",
      "...      ...    ...  ...       ...             ...        ...       ...   \n",
      "336771  2013      9   30       NaN            1455        NaN       NaN   \n",
      "336772  2013      9   30       NaN            2200        NaN       NaN   \n",
      "336773  2013      9   30       NaN            1210        NaN       NaN   \n",
      "336774  2013      9   30       NaN            1159        NaN       NaN   \n",
      "336775  2013      9   30       NaN             840        NaN       NaN   \n",
      "\n",
      "        sched_arr_time  arr_delay carrier  flight tailnum origin dest  \\\n",
      "0                  819       11.0      UA    1545  N14228    EWR  IAH   \n",
      "1                  830       20.0      UA    1714  N24211    LGA  IAH   \n",
      "2                  850       33.0      AA    1141  N619AA    JFK  MIA   \n",
      "3                 1022      -18.0      B6     725  N804JB    JFK  BQN   \n",
      "4                  837      -25.0      DL     461  N668DN    LGA  ATL   \n",
      "...                ...        ...     ...     ...     ...    ...  ...   \n",
      "336771            1634        NaN      9E    3393     NaN    JFK  DCA   \n",
      "336772            2312        NaN      9E    3525     NaN    LGA  SYR   \n",
      "336773            1330        NaN      MQ    3461  N535MQ    LGA  BNA   \n",
      "336774            1344        NaN      MQ    3572  N511MQ    LGA  CLE   \n",
      "336775            1020        NaN      MQ    3531  N839MQ    LGA  RDU   \n",
      "\n",
      "        air_time  distance  hour  minute             time_hour  duration  \n",
      "0          313.0      1400     5      15  2013-01-01T10:00:00Z     313.0  \n",
      "1          317.0      1416     5      29  2013-01-01T10:00:00Z     317.0  \n",
      "2          381.0      1089     5      40  2013-01-01T10:00:00Z     381.0  \n",
      "3          460.0      1576     5      45  2013-01-01T10:00:00Z     460.0  \n",
      "4          258.0       762     6       0  2013-01-01T11:00:00Z     258.0  \n",
      "...          ...       ...   ...     ...                   ...       ...  \n",
      "336771       NaN       213    14      55  2013-09-30T18:00:00Z       NaN  \n",
      "336772       NaN       198    22       0  2013-10-01T02:00:00Z       NaN  \n",
      "336773       NaN       764    12      10  2013-09-30T16:00:00Z       NaN  \n",
      "336774       NaN       419    11      59  2013-09-30T15:00:00Z       NaN  \n",
      "336775       NaN       431     8      40  2013-09-30T12:00:00Z       NaN  \n",
      "\n",
      "[336776 rows x 20 columns]\n"
     ]
    }
   ],
   "source": [
    "nyc_data['duration'] = nyc_data['arr_time'] - nyc_data['dep_time']\n",
    "print(nyc_data)"
   ]
  },
  {
   "cell_type": "markdown",
   "id": "0e37362c-eb32-4827-8d40-38a49ff9148a",
   "metadata": {},
   "source": [
    "2. What is the minimum value of the duration you computed? Explain why do you get negative values!"
   ]
  },
  {
   "cell_type": "code",
   "execution_count": 59,
   "id": "bedad348-3f05-4e42-82f9-174ee618b7f2",
   "metadata": {},
   "outputs": [
    {
     "data": {
      "text/plain": [
       "-2346.0"
      ]
     },
     "execution_count": 59,
     "metadata": {},
     "output_type": "execute_result"
    }
   ],
   "source": [
    "nyc_data['duration'].min()"
   ]
  },
  {
   "cell_type": "markdown",
   "id": "da6692a3-d7bf-4e10-9623-885c821ae4b7",
   "metadata": {},
   "source": [
    "> It's because if the arriving time is around 1:30 and the departure time is around 23:30, the subtracttion dep_time - arr_time would be negative value something like -22."
   ]
  },
  {
   "cell_type": "markdown",
   "id": "091baefe-e69d-43fe-8962-201b6cc0075f",
   "metadata": {},
   "source": [
    "### 2.4 Flight delays (29pts)"
   ]
  },
  {
   "cell_type": "markdown",
   "id": "6b2dca80-8eaf-4e3b-951c-ab99007719dc",
   "metadata": {},
   "source": [
    "1. Create a new data frame, a subset of the flights data that only contains two variables: departure delay and arrival delay."
   ]
  },
  {
   "cell_type": "code",
   "execution_count": 65,
   "id": "00459f47-c0c0-46f5-9202-3f6b583d5bdf",
   "metadata": {},
   "outputs": [
    {
     "name": "stdout",
     "output_type": "stream",
     "text": [
      "        dep_delay  arr_delay\n",
      "0             2.0       11.0\n",
      "1             4.0       20.0\n",
      "2             2.0       33.0\n",
      "3            -1.0      -18.0\n",
      "4            -6.0      -25.0\n",
      "...           ...        ...\n",
      "336771        NaN        NaN\n",
      "336772        NaN        NaN\n",
      "336773        NaN        NaN\n",
      "336774        NaN        NaN\n",
      "336775        NaN        NaN\n",
      "\n",
      "[336776 rows x 2 columns]\n"
     ]
    }
   ],
   "source": [
    "delay_data = nyc_data[['dep_delay', 'arr_delay']].copy()\n",
    "print(delay_data, sep = '\\t')"
   ]
  },
  {
   "cell_type": "markdown",
   "id": "38dad633-00a7-4ae5-959f-5abfddc60cc5",
   "metadata": {},
   "source": [
    "2. Print a small random sample of the delay data frame."
   ]
  },
  {
   "cell_type": "code",
   "execution_count": 66,
   "id": "ad3f38f7-249c-4757-9b33-92238f4e6428",
   "metadata": {},
   "outputs": [
    {
     "data": {
      "text/html": [
       "<div>\n",
       "<style scoped>\n",
       "    .dataframe tbody tr th:only-of-type {\n",
       "        vertical-align: middle;\n",
       "    }\n",
       "\n",
       "    .dataframe tbody tr th {\n",
       "        vertical-align: top;\n",
       "    }\n",
       "\n",
       "    .dataframe thead th {\n",
       "        text-align: right;\n",
       "    }\n",
       "</style>\n",
       "<table border=\"1\" class=\"dataframe\">\n",
       "  <thead>\n",
       "    <tr style=\"text-align: right;\">\n",
       "      <th></th>\n",
       "      <th>dep_delay</th>\n",
       "      <th>arr_delay</th>\n",
       "    </tr>\n",
       "  </thead>\n",
       "  <tbody>\n",
       "    <tr>\n",
       "      <th>326418</th>\n",
       "      <td>20.0</td>\n",
       "      <td>2.0</td>\n",
       "    </tr>\n",
       "    <tr>\n",
       "      <th>63234</th>\n",
       "      <td>3.0</td>\n",
       "      <td>2.0</td>\n",
       "    </tr>\n",
       "    <tr>\n",
       "      <th>288770</th>\n",
       "      <td>-1.0</td>\n",
       "      <td>14.0</td>\n",
       "    </tr>\n",
       "    <tr>\n",
       "      <th>291839</th>\n",
       "      <td>6.0</td>\n",
       "      <td>-8.0</td>\n",
       "    </tr>\n",
       "    <tr>\n",
       "      <th>72943</th>\n",
       "      <td>-5.0</td>\n",
       "      <td>-23.0</td>\n",
       "    </tr>\n",
       "  </tbody>\n",
       "</table>\n",
       "</div>"
      ],
      "text/plain": [
       "        dep_delay  arr_delay\n",
       "326418       20.0        2.0\n",
       "63234         3.0        2.0\n",
       "288770       -1.0       14.0\n",
       "291839        6.0       -8.0\n",
       "72943        -5.0      -23.0"
      ]
     },
     "execution_count": 66,
     "metadata": {},
     "output_type": "execute_result"
    }
   ],
   "source": [
    "delay_data.sample(5)"
   ]
  },
  {
   "cell_type": "markdown",
   "id": "fdab2308-60d1-4048-9056-b43bbf2e2e14",
   "metadata": {},
   "source": [
    "3. What is the data type of the flight delay value?"
   ]
  },
  {
   "cell_type": "code",
   "execution_count": 68,
   "id": "d9b2aaec-c037-4577-b95c-585eaf525793",
   "metadata": {},
   "outputs": [
    {
     "name": "stdout",
     "output_type": "stream",
     "text": [
      "dep_delay    float64\n",
      "arr_delay    float64\n",
      "dtype: object\n"
     ]
    }
   ],
   "source": [
    "delay = delay_data.dtypes\n",
    "print(delay)"
   ]
  },
  {
   "cell_type": "markdown",
   "id": "2f95d909-eb9b-4501-a417-afed0fc1953c",
   "metadata": {},
   "source": [
    "4. Filter to keep the \"slow flights\": cases where the plane leaves early but arrives late. How many cases do you have?"
   ]
  },
  {
   "cell_type": "code",
   "execution_count": 92,
   "id": "07f6737c-4cc3-4ff2-a7e7-0b3b23c76091",
   "metadata": {},
   "outputs": [
    {
     "data": {
      "text/html": [
       "<div>\n",
       "<style scoped>\n",
       "    .dataframe tbody tr th:only-of-type {\n",
       "        vertical-align: middle;\n",
       "    }\n",
       "\n",
       "    .dataframe tbody tr th {\n",
       "        vertical-align: top;\n",
       "    }\n",
       "\n",
       "    .dataframe thead th {\n",
       "        text-align: right;\n",
       "    }\n",
       "</style>\n",
       "<table border=\"1\" class=\"dataframe\">\n",
       "  <thead>\n",
       "    <tr style=\"text-align: right;\">\n",
       "      <th></th>\n",
       "      <th>dep_delay</th>\n",
       "      <th>arr_delay</th>\n",
       "    </tr>\n",
       "  </thead>\n",
       "  <tbody>\n",
       "    <tr>\n",
       "      <th>5</th>\n",
       "      <td>-4.0</td>\n",
       "      <td>12.0</td>\n",
       "    </tr>\n",
       "    <tr>\n",
       "      <th>6</th>\n",
       "      <td>-5.0</td>\n",
       "      <td>19.0</td>\n",
       "    </tr>\n",
       "    <tr>\n",
       "      <th>9</th>\n",
       "      <td>-2.0</td>\n",
       "      <td>8.0</td>\n",
       "    </tr>\n",
       "    <tr>\n",
       "      <th>12</th>\n",
       "      <td>-2.0</td>\n",
       "      <td>7.0</td>\n",
       "    </tr>\n",
       "    <tr>\n",
       "      <th>14</th>\n",
       "      <td>-1.0</td>\n",
       "      <td>31.0</td>\n",
       "    </tr>\n",
       "    <tr>\n",
       "      <th>...</th>\n",
       "      <td>...</td>\n",
       "      <td>...</td>\n",
       "    </tr>\n",
       "    <tr>\n",
       "      <th>336585</th>\n",
       "      <td>-1.0</td>\n",
       "      <td>10.0</td>\n",
       "    </tr>\n",
       "    <tr>\n",
       "      <th>336586</th>\n",
       "      <td>-6.0</td>\n",
       "      <td>5.0</td>\n",
       "    </tr>\n",
       "    <tr>\n",
       "      <th>336588</th>\n",
       "      <td>-7.0</td>\n",
       "      <td>12.0</td>\n",
       "    </tr>\n",
       "    <tr>\n",
       "      <th>336646</th>\n",
       "      <td>-5.0</td>\n",
       "      <td>10.0</td>\n",
       "    </tr>\n",
       "    <tr>\n",
       "      <th>336758</th>\n",
       "      <td>-2.0</td>\n",
       "      <td>8.0</td>\n",
       "    </tr>\n",
       "  </tbody>\n",
       "</table>\n",
       "<p>35648 rows × 2 columns</p>\n",
       "</div>"
      ],
      "text/plain": [
       "        dep_delay  arr_delay\n",
       "5            -4.0       12.0\n",
       "6            -5.0       19.0\n",
       "9            -2.0        8.0\n",
       "12           -2.0        7.0\n",
       "14           -1.0       31.0\n",
       "...           ...        ...\n",
       "336585       -1.0       10.0\n",
       "336586       -6.0        5.0\n",
       "336588       -7.0       12.0\n",
       "336646       -5.0       10.0\n",
       "336758       -2.0        8.0\n",
       "\n",
       "[35648 rows x 2 columns]"
      ]
     },
     "execution_count": 92,
     "metadata": {},
     "output_type": "execute_result"
    }
   ],
   "source": [
    "# negative departure delay and positive arrival delay => \"slow flights\"\n",
    "import numpy as np\n",
    "\n",
    "slow_flights = (delay_data['arr_delay'] > 0) & (delay_data['dep_delay'] < 0)\n",
    "slow = delay_data[slow_flights]\n",
    "slow[['dep_delay', 'arr_delay']]"
   ]
  },
  {
   "cell_type": "markdown",
   "id": "2a6479e1-a2db-4186-b7c9-bdba405c93a9",
   "metadata": {},
   "source": [
    "5. What is the longest \"extra flight time\", i.e. difference between arrival delay and departure delay?"
   ]
  },
  {
   "cell_type": "code",
   "execution_count": 95,
   "id": "a08204d7-8a96-45c5-9a50-aa116e694978",
   "metadata": {},
   "outputs": [
    {
     "name": "stdout",
     "output_type": "stream",
     "text": [
      "196.0\n"
     ]
    }
   ],
   "source": [
    "# arr_delay - dep_delay => extra flight time\n",
    "# make new column called \"extra delay\"\n",
    "delay_data['extra_delay'] = delay_data['arr_delay'] - delay_data['dep_delay']\n",
    "print(delay_data['extra_delay'].max())"
   ]
  },
  {
   "cell_type": "markdown",
   "id": "2cc631ec-963e-4b59-b232-1a645b75a531",
   "metadata": {},
   "source": [
    "6. How many of flights were delayed (positive arrival delay?)"
   ]
  },
  {
   "cell_type": "code",
   "execution_count": 102,
   "id": "f5975afb-65c9-4ee5-816b-59ff8309e8d7",
   "metadata": {},
   "outputs": [
    {
     "name": "stdout",
     "output_type": "stream",
     "text": [
      "dep_delay      133004\n",
      "arr_delay      133004\n",
      "extra_delay    133004\n",
      "dtype: int64\n"
     ]
    }
   ],
   "source": [
    "delayed = delay_data['arr_delay'] > 0\n",
    "delayed_flights = delay_data[delayed]\n",
    "print(delayed_flights.count())"
   ]
  },
  {
   "cell_type": "markdown",
   "id": "fc0f4976-8882-4ba0-ade1-993922da4a4e",
   "metadata": {},
   "source": [
    "7. What percentage of flights were delayed by more than 15 mins (at arrival)? Do not use loops or the function sum."
   ]
  },
  {
   "cell_type": "code",
   "execution_count": 111,
   "id": "34d62dda-0329-4f47-9f77-e7643372cbac",
   "metadata": {},
   "outputs": [
    {
     "name": "stdout",
     "output_type": "stream",
     "text": [
      "23.714968259884035\n"
     ]
    }
   ],
   "source": [
    "arr_delays = delay_data['arr_delay'] > 15\n",
    "arrival_delayed = delay_data[arr_delays]\n",
    "delay_num = arrival_delayed['arr_delay'].count()\n",
    "percentage = delay_num/delay_data['arr_delay'].count()\n",
    "print(percentage * 100)"
   ]
  }
 ],
 "metadata": {
  "kernelspec": {
   "display_name": "Python 3 (ipykernel)",
   "language": "python",
   "name": "python3"
  },
  "language_info": {
   "codemirror_mode": {
    "name": "ipython",
    "version": 3
   },
   "file_extension": ".py",
   "mimetype": "text/x-python",
   "name": "python",
   "nbconvert_exporter": "python",
   "pygments_lexer": "ipython3",
   "version": "3.9.5"
  }
 },
 "nbformat": 4,
 "nbformat_minor": 5
}
