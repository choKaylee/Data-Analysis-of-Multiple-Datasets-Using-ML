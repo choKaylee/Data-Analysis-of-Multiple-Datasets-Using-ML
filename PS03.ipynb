{
 "cells": [
  {
   "cell_type": "markdown",
   "id": "a46ee226-40a9-426b-a9f7-5d040c998c81",
   "metadata": {},
   "source": [
    "# PS3: Distributions, Variance\n",
    "## April 22, 2023\n",
    "### Name: Kaylee Cho"
   ]
  },
  {
   "cell_type": "markdown",
   "id": "b1ab0f42-e58b-4cfb-8e05-457fa0dc6b21",
   "metadata": {},
   "source": [
    "## Bionomial distribution (35pts)"
   ]
  },
  {
   "cell_type": "code",
   "execution_count": 157,
   "id": "3c0ae7ad-11ec-41c7-8b92-55343b825365",
   "metadata": {},
   "outputs": [],
   "source": [
    "import numpy as np\n",
    "import matplotlib.pyplot as plt\n",
    "import numpy as np\n",
    "import seaborn as sns\n",
    "import math as math"
   ]
  },
  {
   "cell_type": "code",
   "execution_count": 158,
   "id": "d6a668bb-0d25-4f37-8dda-470fa8aaddc4",
   "metadata": {},
   "outputs": [
    {
     "data": {
      "text/plain": [
       "array([2, 1, 2, 2, 2])"
      ]
     },
     "execution_count": 158,
     "metadata": {},
     "output_type": "execute_result"
    }
   ],
   "source": [
    "np.random.seed(0)\n",
    "N = 3    # Number of Trials\n",
    "S = 5    # Sample Size\n",
    "P = 0.6  # \"Success\" rate or probability\n",
    "x = np.random.binomial(N, P, size=5)\n",
    "x"
   ]
  },
  {
   "cell_type": "markdown",
   "id": "a07d22ed-f4da-441c-a9fe-8755e9d4259a",
   "metadata": {},
   "source": [
    "**1) What is the expected value of this RV EX?**"
   ]
  },
  {
   "cell_type": "code",
   "execution_count": 159,
   "id": "30aab607-e839-4301-84f9-66b97de22512",
   "metadata": {},
   "outputs": [
    {
     "data": {
      "text/plain": [
       "1.7999999999999998"
      ]
     },
     "execution_count": 159,
     "metadata": {},
     "output_type": "execute_result"
    }
   ],
   "source": [
    "# RV E V = number of trials * probability\n",
    "expected_value = N * P\n",
    "expected_value"
   ]
  },
  {
   "cell_type": "markdown",
   "id": "51222d76-4369-401d-bc3b-8e43dd33daa1",
   "metadata": {},
   "source": [
    "**2) What is the probability you get 0,1,2, or 3 \"successes?\"**"
   ]
  },
  {
   "cell_type": "code",
   "execution_count": 160,
   "id": "9f644d90-426f-46eb-b114-fa638fa8d86b",
   "metadata": {},
   "outputs": [
    {
     "name": "stdout",
     "output_type": "stream",
     "text": [
      "probability of 0 successes: 0.06400000000000002\n",
      "probability of 1 successes: 0.28800000000000003\n",
      "probability of 2 successes: 0.43200000000000005\n",
      "probability of 3 successes: 0.21599999999999997\n",
      "1.0\n"
     ]
    }
   ],
   "source": [
    "prob_0 = math.comb(N, 0) * P**0 * (1-P)**(N-0)\n",
    "print(\"probability of 0 successes:\", prob_0)\n",
    "prob_1 = math.comb(N, 1) * P**1 * (1-P)**(N-1)\n",
    "print(\"probability of 1 successes:\", prob_1)\n",
    "prob_2 = math.comb(N, 2) * P**2 * (1-P)**(N-2)\n",
    "print(\"probability of 2 successes:\", prob_2)\n",
    "prob_3 = math.comb(N, 3) * P**3 * (1-P)**(N-3)\n",
    "print(\"probability of 3 successes:\", prob_3)\n",
    "# should sum up to 1\n",
    "prob_check = prob_0 + prob_1 + prob_2 + prob_3\n",
    "print(prob_check)"
   ]
  },
  {
   "cell_type": "markdown",
   "id": "1a262268-2071-4b5a-b236-4d0bef08ed8d",
   "metadata": {},
   "source": [
    "**3) What is variance of this RV Var X?**"
   ]
  },
  {
   "cell_type": "code",
   "execution_count": 161,
   "id": "2f2fbca5-f3ee-4127-b22b-d56b766d26ad",
   "metadata": {},
   "outputs": [
    {
     "data": {
      "text/plain": [
       "0.72"
      ]
     },
     "execution_count": 161,
     "metadata": {},
     "output_type": "execute_result"
    }
   ],
   "source": [
    "var_x = (prob_0 * ((N * P) ** 2)) + (prob_1 * ((1 - (N * P)) ** 2)) + (prob_2 * ((2 - (N * P)) ** 2)) + (prob_3 * ((3 - (N * P)) ** 2))\n",
    "var_x"
   ]
  },
  {
   "cell_type": "markdown",
   "id": "8ed3c752-4510-464e-ab00-57b0fbe38d35",
   "metadata": {},
   "source": [
    "**4) Now pick a sample size R (ex: 1000) and create a sample of size R of such random values.**"
   ]
  },
  {
   "cell_type": "code",
   "execution_count": 162,
   "id": "aa5fc3a4-2b1b-4c06-bd7d-675fc472421c",
   "metadata": {},
   "outputs": [
    {
     "data": {
      "text/plain": [
       "array([2, 1, 2, 2, 2])"
      ]
     },
     "execution_count": 162,
     "metadata": {},
     "output_type": "execute_result"
    }
   ],
   "source": [
    "np.random.seed(0)\n",
    "N = 3    # Number of Trials\n",
    "S = 10000    # Sample Size\n",
    "P = 0.6  # \"Success\" rate or probability\n",
    "x = np.random.binomial(N, P, size=5)\n",
    "x"
   ]
  },
  {
   "cell_type": "markdown",
   "id": "4f704c0b-e39e-469d-b5a5-3c9f5e9558fc",
   "metadata": {},
   "source": [
    "**5) Compute the mean of your sample.**"
   ]
  },
  {
   "cell_type": "code",
   "execution_count": 163,
   "id": "ba3a115b-3595-4481-b5a0-ebca06e1b726",
   "metadata": {},
   "outputs": [
    {
     "data": {
      "text/plain": [
       "1.8"
      ]
     },
     "execution_count": 163,
     "metadata": {},
     "output_type": "execute_result"
    }
   ],
   "source": [
    "mean = np.mean(x)\n",
    "mean"
   ]
  },
  {
   "cell_type": "markdown",
   "id": "327b0c66-a0d9-4695-9eb0-7da6a607bb45",
   "metadata": {},
   "source": [
    "**6) Compute the variance of your sample.**"
   ]
  },
  {
   "cell_type": "code",
   "execution_count": 164,
   "id": "6dfc398e-43c5-4188-91f7-1ff4593e63d9",
   "metadata": {},
   "outputs": [
    {
     "data": {
      "text/plain": [
       "0.72"
      ]
     },
     "execution_count": 164,
     "metadata": {},
     "output_type": "execute_result"
    }
   ],
   "source": [
    "var_sample = (prob_0 * ((N * P) ** 2)) + (prob_1 * ((1 - (N * P)) ** 2)) + (prob_2 * ((2 - (N * P)) ** 2)) + (prob_3 * ((3 - (N * P)) ** 2))\n",
    "var_sample"
   ]
  },
  {
   "cell_type": "markdown",
   "id": "31883506-86ca-4f84-a5a2-038de7dfd36c",
   "metadata": {},
   "source": [
    "**7) Given your sample size, what are the expected number of cases with 0, 1, 2, and 3 successes?**"
   ]
  },
  {
   "cell_type": "code",
   "execution_count": 165,
   "id": "fdaa7c77-ca19-4c4c-9026-10eb11fece41",
   "metadata": {},
   "outputs": [
    {
     "name": "stdout",
     "output_type": "stream",
     "text": [
      "1\n",
      "3\n",
      "3\n",
      "1\n"
     ]
    }
   ],
   "source": [
    "expected_zero = math.comb(N, 0)\n",
    "print(expected_zero)\n",
    "expected_one = math.comb(N, 1)\n",
    "print(expected_one)\n",
    "expected_two = math.comb(N, 2)\n",
    "print(expected_two)\n",
    "expected_three = math.comb(N, 3)\n",
    "print(expected_three)"
   ]
  },
  {
   "cell_type": "markdown",
   "id": "7acf02bc-fe72-489c-9083-17cf21893d79",
   "metadata": {},
   "source": [
    "**8) Make a histogram of your sample. Add the expected number of cases to your histogram. You can easily add two plots on top of each other along the lines.**"
   ]
  },
  {
   "cell_type": "code",
   "execution_count": 166,
   "id": "5a45cea5-b7e2-48c5-b9d5-47911c936433",
   "metadata": {},
   "outputs": [
    {
     "data": {
      "image/png": "[encoded data removed]",
      "text/plain": [
       "<Figure size 432x288 with 1 Axes>"
      ]
     },
     "metadata": {
      "needs_background": "light"
     },
     "output_type": "display_data"
    }
   ],
   "source": [
    "_ = plt.hist(x)\n",
    "_ = plt.scatter(0, expected_zero)\n",
    "_ = plt.scatter(1, expected_one)\n",
    "_ = plt.scatter(2, expected_two)\n",
    "_ = plt.scatter(3, expected_three)\n",
    "_ = plt.xlabel('number of successes')\n",
    "_ = plt.ylabel('number of case by each success')"
   ]
  },
  {
   "cell_type": "markdown",
   "id": "4414853c-efb1-4efa-b344-906cf4014fe5",
   "metadata": {},
   "source": [
    "## 2.Log-normal distribution (25pt)"
   ]
  },
  {
   "cell_type": "code",
   "execution_count": 167,
   "id": "8e5e3c20-1e20-4e25-b4d0-8f57fcaf4832",
   "metadata": {},
   "outputs": [
    {
     "data": {
      "text/plain": [
       "array([5.83603919, 1.49205924, 2.66109578, 9.40172515, 6.47247125])"
      ]
     },
     "execution_count": 167,
     "metadata": {},
     "output_type": "execute_result"
    }
   ],
   "source": [
    "import numpy as np\n",
    "np.random.seed(0)\n",
    "mu = 0\n",
    "sigma = 1\n",
    "y = np.random.lognormal(mu, sigma, size=5)\n",
    "y"
   ]
  },
  {
   "cell_type": "markdown",
   "id": "c5d284bb-52b4-43e8-85ca-f1b9304ef497",
   "metadata": {},
   "source": [
    "**1) Choose your sample size S. 10,000 is a good number.**"
   ]
  },
  {
   "cell_type": "code",
   "execution_count": 168,
   "id": "73f6ee03-fea6-49a2-aa7f-c9b2db2b7b87",
   "metadata": {},
   "outputs": [
    {
     "data": {
      "text/plain": [
       "array([5.83603919, 1.49205924, 2.66109578, ..., 1.67677479, 0.9676153 ,\n",
       "       3.66237349])"
      ]
     },
     "execution_count": 168,
     "metadata": {},
     "output_type": "execute_result"
    }
   ],
   "source": [
    "np.random.seed(0)\n",
    "mu = 0\n",
    "sigma = 1\n",
    "y = np.random.lognormal(mu, sigma, size=10000)\n",
    "y"
   ]
  },
  {
   "cell_type": "code",
   "execution_count": 169,
   "id": "5b025a85-a7f3-42d5-92ff-c9c5f9b9508d",
   "metadata": {},
   "outputs": [
    {
     "data": {
      "text/plain": [
       "array([5.83603919, 1.49205924, 2.66109578, 9.40172515, 6.47247125])"
      ]
     },
     "execution_count": 169,
     "metadata": {},
     "output_type": "execute_result"
    }
   ],
   "source": [
    "y[:5]"
   ]
  },
  {
   "cell_type": "markdown",
   "id": "11f0a797-6062-4c15-9daf-4a06d2ff68a4",
   "metadata": {},
   "source": [
    "**2) Explore the shape of the distribution: draw S random numbers from LN(0, 0.2) (i.e. mu = 0, and sigma = 0.2) LN(0,0.5) and LN(0, 1.68). Display all these samples on a histogram while labeling clearly which one is which one. Do the histograms in two ways: a) linear-linear scale, and b) log-linear(x is log and y is linear). You can just do histogram of logx instead of x (you can also set log scale in matplotlib, but the bin widths will look weird).**"
   ]
  },
  {
   "cell_type": "code",
   "execution_count": 170,
   "id": "04b8fa2d-2029-4c8c-9263-b48da1387493",
   "metadata": {},
   "outputs": [
    {
     "name": "stdout",
     "output_type": "stream",
     "text": [
      "[1.4230614  1.08332113 1.21621989 ... 1.10890655 0.99343749 1.29644031]\n"
     ]
    }
   ],
   "source": [
    "np.random.seed(0)\n",
    "mu = 0\n",
    "sigma = 0.2\n",
    "y = np.random.lognormal(mu, sigma, size=10000)\n",
    "print(y)"
   ]
  },
  {
   "cell_type": "code",
   "execution_count": 171,
   "id": "1e853360-d33f-4a85-9391-ef382fdf5926",
   "metadata": {},
   "outputs": [
    {
     "data": {
      "image/png": "[encoded data removed]",
      "text/plain": [
       "<Figure size 432x288 with 1 Axes>"
      ]
     },
     "metadata": {
      "needs_background": "light"
     },
     "output_type": "display_data"
    }
   ],
   "source": [
    "import matplotlib.pyplot as plt\n",
    "\n",
    "#create histogram\n",
    "_ = plt.hist(y, density=True, edgecolor='black', bins=100)\n",
    "_ = plt.title('histogram with LN(0, 0.2)')\n",
    "_ = plt.xlabel('Samples')\n",
    "_ = plt.ylabel('Density')\n",
    "# histogram with LN(0, 0.2)"
   ]
  },
  {
   "cell_type": "code",
   "execution_count": 172,
   "id": "c2c2b6e1-ff46-4ad0-905a-43ec6051e088",
   "metadata": {},
   "outputs": [
    {
     "data": {
      "text/plain": [
       "array([2.41578956, 1.22149877, 1.63128654, ..., 1.29490339, 0.98367438,\n",
       "       1.91373287])"
      ]
     },
     "execution_count": 172,
     "metadata": {},
     "output_type": "execute_result"
    }
   ],
   "source": [
    "np.random.seed(0)\n",
    "mu = 0\n",
    "sigma = 0.5\n",
    "y = np.random.lognormal(mu, sigma, size=10000)\n",
    "y"
   ]
  },
  {
   "cell_type": "code",
   "execution_count": 173,
   "id": "3226f905-6c25-4bff-a650-a2f25e511b6f",
   "metadata": {},
   "outputs": [
    {
     "data": {
      "image/png": "[encoded data removed]",
      "text/plain": [
       "<Figure size 432x288 with 1 Axes>"
      ]
     },
     "metadata": {
      "needs_background": "light"
     },
     "output_type": "display_data"
    }
   ],
   "source": [
    "import matplotlib.pyplot as plt\n",
    "\n",
    "#create histogram\n",
    "_ = plt.hist(y, density=True, edgecolor='black', bins=100)\n",
    "_ = plt.title('histogram with LN(0, 0.5)')\n",
    "_ = plt.xlabel('Samples')\n",
    "_ = plt.ylabel('Density')\n",
    "# histogram with LN(0, 0.5)"
   ]
  },
  {
   "cell_type": "code",
   "execution_count": 174,
   "id": "542b159a-61ca-4998-9edd-83e8080cdfa6",
   "metadata": {},
   "outputs": [
    {
     "data": {
      "text/plain": [
       "array([19.36772346,  1.95866694,  5.17727996, ...,  2.3829644 ,\n",
       "        0.94619484,  8.853627  ])"
      ]
     },
     "execution_count": 174,
     "metadata": {},
     "output_type": "execute_result"
    }
   ],
   "source": [
    "np.random.seed(0)\n",
    "mu = 0\n",
    "sigma = 1.68\n",
    "y = np.random.lognormal(mu, sigma, size=10000)\n",
    "y"
   ]
  },
  {
   "cell_type": "code",
   "execution_count": 175,
   "id": "c669ba56-ae15-4765-9f06-b6055dc8c5c4",
   "metadata": {},
   "outputs": [
    {
     "data": {
      "image/png": "[encoded data removed]",
      "text/plain": [
       "<Figure size 432x288 with 1 Axes>"
      ]
     },
     "metadata": {
      "needs_background": "light"
     },
     "output_type": "display_data"
    }
   ],
   "source": [
    "import matplotlib.pyplot as plt\n",
    "\n",
    "#create histogram\n",
    "_ = plt.hist(y, density=True, edgecolor='black', bins=100)\n",
    "_ = plt.title('histogram with LN(0, 1.68)')\n",
    "_ = plt.xlabel('Samples')\n",
    "_ = plt.ylabel('Density')\n",
    "# histogram with LN(0, 1.68)"
   ]
  },
  {
   "cell_type": "markdown",
   "id": "78c024b5-d35f-4de2-9d0f-ef4d8dd4b6eb",
   "metadata": {},
   "source": [
    "**3)Look at the histograms and tell-what do you think, which one describes the least unequal distribution, and which one the most unequal distribution?**"
   ]
  },
  {
   "cell_type": "markdown",
   "id": "ba1d372b-e567-4f30-b44f-c42399dd5d0f",
   "metadata": {},
   "source": [
    "The most unequal distributed histogram is the last histogram since it's right skewed a lot and has a long positive right skew.\n",
    "The least unequal distributed histogram is the first histogram since it has the most evenly bell curved(evenly distributed) shape among all the histograms."
   ]
  },
  {
   "cell_type": "markdown",
   "id": "912875ef-b705-4685-b8d0-795424d8edb6",
   "metadata": {},
   "source": [
    "**4) Compute sample means and variance (just use np.mean and such functions), and compare those with what you get using the corresponding theoretical formulas (2) and (3). Are these similar?**"
   ]
  },
  {
   "cell_type": "code",
   "execution_count": 176,
   "id": "26551852-e1c7-460a-b1dd-c8d192535002",
   "metadata": {},
   "outputs": [
    {
     "name": "stdout",
     "output_type": "stream",
     "text": [
      "[1.4230614  1.08332113 1.21621989 ... 1.10890655 0.99343749 1.29644031]\n",
      "sample mean: 1.015977084737657 sample variance: 0.04125096544492326\n"
     ]
    }
   ],
   "source": [
    "# first example -> Least inequal\n",
    "np.random.seed(0)\n",
    "mu = 0\n",
    "sigma = 0.2\n",
    "lognormal_sample1 = np.random.lognormal(mu, sigma, size=10000)\n",
    "print(lognormal_sample1)\n",
    "mean_lognormal_sample1 = np.mean(lognormal_sample1)\n",
    "var_lognormal_sample1 = np.var(lognormal_sample1)\n",
    "print(\"sample mean:\", mean_lognormal_sample1, \"sample variance:\", var_lognormal_sample1)"
   ]
  },
  {
   "cell_type": "code",
   "execution_count": 177,
   "id": "771cc4df-f6ce-441a-a6a8-dfdfd19120b9",
   "metadata": {},
   "outputs": [
    {
     "name": "stdout",
     "output_type": "stream",
     "text": [
      "sample mean [traditional]: 1.0159770847376537\n",
      "sample variance [traditional]: 0.04125096544492339\n"
     ]
    }
   ],
   "source": [
    "# theoretical formula => find mean and variance\n",
    "import math\n",
    "\n",
    "mean_lognormal_sample1 = sum(lognormal_sample1)/10000\n",
    "variance = sum((x - mean_lognormal_sample1) ** 2 for x in lognormal_sample1) / 10000\n",
    "print(\"sample mean [traditional]:\", mean_lognormal_sample1)\n",
    "print(\"sample variance [traditional]:\", variance)\n",
    "# they have pretty similar answer for both function calculated and\n",
    "# traditionally calculated values."
   ]
  },
  {
   "cell_type": "code",
   "execution_count": 178,
   "id": "40233a9d-1034-4fc9-914c-9b685dbaff4d",
   "metadata": {},
   "outputs": [
    {
     "name": "stdout",
     "output_type": "stream",
     "text": [
      "sample mean: 1.1197886507730408 sample variance: 0.348919917587978\n"
     ]
    }
   ],
   "source": [
    "# second example -> 'middle' inequal\n",
    "np.random.seed(0)\n",
    "mu = 0\n",
    "sigma = 0.5\n",
    "lognormal_sample2 = np.random.lognormal(mu, sigma, size=10000)\n",
    "lognormal_sample2\n",
    "mean_lognormal_sample2 = np.mean(lognormal_sample2)\n",
    "var_lognormal_sample2 = np.var(lognormal_sample2)\n",
    "print(\"sample mean:\", mean_lognormal_sample2, \"sample variance:\", var_lognormal_sample2)"
   ]
  },
  {
   "cell_type": "code",
   "execution_count": 179,
   "id": "767f8ce3-2c17-44cd-b36c-cfd8e046a3ce",
   "metadata": {},
   "outputs": [
    {
     "name": "stdout",
     "output_type": "stream",
     "text": [
      "sample mean [traditional]: 1.1197886507730432\n",
      "sample variance [traditional]: 0.34891991758797974\n"
     ]
    }
   ],
   "source": [
    "# theoretical formula => find mean and variance\n",
    "import math\n",
    "\n",
    "mean_lognormal_sample2 = sum(lognormal_sample2)/10000\n",
    "variance = sum((x - mean_lognormal_sample2) ** 2 for x in lognormal_sample2) / 10000\n",
    "print(\"sample mean [traditional]:\", mean_lognormal_sample2)\n",
    "print(\"sample variance [traditional]:\", variance)\n",
    "# they have pretty similar answer for both values but slightly less similar than\n",
    "# the first example."
   ]
  },
  {
   "cell_type": "code",
   "execution_count": 180,
   "id": "9338f6c2-f724-4f32-af61-ce1532378a0c",
   "metadata": {},
   "outputs": [
    {
     "name": "stdout",
     "output_type": "stream",
     "text": [
      "sample mean: 3.8475541585835016 sample variance: 161.3877453374533\n"
     ]
    }
   ],
   "source": [
    "# third example -> the most inequal\n",
    "np.random.seed(0)\n",
    "mu = 0\n",
    "sigma = 1.68\n",
    "lognormal_sample3 = np.random.lognormal(mu, sigma, size=10000)\n",
    "lognormal_sample3\n",
    "mean_lognormal_sample3 = np.mean(lognormal_sample3)\n",
    "var_lognormal_sample3 = np.var(lognormal_sample3)\n",
    "print(\"sample mean:\", mean_lognormal_sample3, \"sample variance:\", var_lognormal_sample3)"
   ]
  },
  {
   "cell_type": "code",
   "execution_count": 181,
   "id": "5e78e31f-2789-4507-9ac9-265fc5e04204",
   "metadata": {},
   "outputs": [
    {
     "name": "stdout",
     "output_type": "stream",
     "text": [
      "sample mean [traditional]: 3.847554158583489\n",
      "sample variance [traditional]: 161.3877453374535\n"
     ]
    }
   ],
   "source": [
    "# theoretical formula => find mean and variance\n",
    "import math\n",
    "\n",
    "mean_lognormal_sample3 = sum(lognormal_sample3)/10000\n",
    "variance = sum((x - mean_lognormal_sample3) ** 2 for x in lognormal_sample3) / 10000\n",
    "print(\"sample mean [traditional]:\", mean_lognormal_sample3)\n",
    "print(\"sample variance [traditional]:\", variance)\n",
    "# they have pretty similar answer for both values, but the variance is slightly\n",
    "# more different than the example above."
   ]
  },
  {
   "cell_type": "markdown",
   "id": "1796acc0-5610-4d7d-a3b7-66e4a162d56f",
   "metadata": {},
   "source": [
    "**5) Compute the Pareto ratio of all three samples. Comment the results. Which distribution is the most unequal one? Which one the most equal one? Does this corresponds to what did you guessed based on the histograms?**"
   ]
  },
  {
   "cell_type": "code",
   "execution_count": 182,
   "id": "f7065fd8-a762-48e1-bb8c-e49f22ffdc1c",
   "metadata": {},
   "outputs": [
    {
     "name": "stdout",
     "output_type": "stream",
     "text": [
      "0.26011728313058274\n"
     ]
    }
   ],
   "source": [
    "# calculate the threshold btw the lower -80% and upper -20% of\n",
    "lognormal_sample1_top20 = np.percentile(lognormal_sample1, 80) # -top 20% of\n",
    "\n",
    "# calculate the sum of the world wealth from the top -25% of\n",
    "lognormal_sample1_sum20 = lognormal_sample1[lognormal_sample1 > lognormal_sample1_top20].sum()\n",
    "\n",
    "# sum of everything in sample1\n",
    "lognormal_sample1_sumtotal = lognormal_sample1.sum()\n",
    "\n",
    "# pareto ratio\n",
    "pareto_ratio = lognormal_sample1_sum20/lognormal_sample1_sumtotal\n",
    "print(pareto_ratio)"
   ]
  },
  {
   "cell_type": "code",
   "execution_count": 183,
   "id": "061beaa9-15ae-42e5-847a-70c1d6fc6677",
   "metadata": {},
   "outputs": [
    {
     "name": "stdout",
     "output_type": "stream",
     "text": [
      "0.36522093944462775\n"
     ]
    }
   ],
   "source": [
    "# calculate the threshold btw the lower -80% and upper -20% of\n",
    "lognormal_sample2_top20 = np.percentile(lognormal_sample2, 80) # -top 20% of\n",
    "\n",
    "# calculate the sum of the world wealth from the top -25% of\n",
    "lognormal_sample2_sum20 = lognormal_sample2[lognormal_sample2 > lognormal_sample2_top20].sum()\n",
    "\n",
    "# sum of everything in sample1\n",
    "lognormal_sample2_sumtotal = lognormal_sample2.sum()\n",
    "\n",
    "# pareto ratio\n",
    "pareto_ratio = lognormal_sample2_sum20/lognormal_sample2_sumtotal\n",
    "print(pareto_ratio)"
   ]
  },
  {
   "cell_type": "code",
   "execution_count": 184,
   "id": "1a9995e7-4df1-43fc-ad31-c48d50969356",
   "metadata": {},
   "outputs": [
    {
     "name": "stdout",
     "output_type": "stream",
     "text": [
      "0.7951173107117187\n"
     ]
    }
   ],
   "source": [
    "# calculate the threshold btw the lower -80% and upper -20% of\n",
    "lognormal_sample3_top20 = np.percentile(lognormal_sample3, 80) # -top 20% of\n",
    "\n",
    "# calculate the sum of the world wealth from the top -25% of\n",
    "lognormal_sample3_sum20 = lognormal_sample3[lognormal_sample3 > lognormal_sample3_top20].sum()\n",
    "\n",
    "# sum of everything in sample1\n",
    "lognormal_sample3_sumtotal = lognormal_sample3.sum()\n",
    "\n",
    "# pareto ratio\n",
    "pareto_ratio = lognormal_sample3_sum20/lognormal_sample3_sumtotal\n",
    "print(pareto_ratio)"
   ]
  },
  {
   "cell_type": "markdown",
   "id": "c18280fd-797c-42ce-916e-7b6d9b55b5ff",
   "metadata": {},
   "source": [
    "**The pareto ratio goes up as the inequality gets advanced.**\n",
    "> Pareto ratio: states that 80% of outcomes results from 20% of causes.\n",
    "Regarding the definition of pareto ratio, this means that the unequal relationship between inputs and outputs are getting severe as it goes to sample 3."
   ]
  },
  {
   "cell_type": "markdown",
   "id": "2124270a-62fa-4797-bba5-1bb9c2488ad8",
   "metadata": {},
   "source": [
    "## 3) Inequality in data  (20pts)"
   ]
  },
  {
   "cell_type": "markdown",
   "id": "cea2df05-8a60-4775-bc1c-364622d5cf95",
   "metadata": {},
   "source": [
    "**1) Load both datasets and do basic checks - do the values of interest (number of citations and income) look reasonable?**"
   ]
  },
  {
   "cell_type": "code",
   "execution_count": 185,
   "id": "779d12b0-9535-4921-96e4-cda001984b5f",
   "metadata": {},
   "outputs": [
    {
     "data": {
      "text/html": [
       "<div>\n",
       "<style scoped>\n",
       "    .dataframe tbody tr th:only-of-type {\n",
       "        vertical-align: middle;\n",
       "    }\n",
       "\n",
       "    .dataframe tbody tr th {\n",
       "        vertical-align: top;\n",
       "    }\n",
       "\n",
       "    .dataframe thead th {\n",
       "        text-align: right;\n",
       "    }\n",
       "</style>\n",
       "<table border=\"1\" class=\"dataframe\">\n",
       "  <thead>\n",
       "    <tr style=\"text-align: right;\">\n",
       "      <th></th>\n",
       "      <th>id</th>\n",
       "      <th>citations</th>\n",
       "      <th>year</th>\n",
       "    </tr>\n",
       "  </thead>\n",
       "  <tbody>\n",
       "    <tr>\n",
       "      <th>0</th>\n",
       "      <td>1926704088</td>\n",
       "      <td>10</td>\n",
       "      <td>2004</td>\n",
       "    </tr>\n",
       "    <tr>\n",
       "      <th>1</th>\n",
       "      <td>1590836146</td>\n",
       "      <td>0</td>\n",
       "      <td>1971</td>\n",
       "    </tr>\n",
       "    <tr>\n",
       "      <th>2</th>\n",
       "      <td>2035484488</td>\n",
       "      <td>3</td>\n",
       "      <td>2007</td>\n",
       "    </tr>\n",
       "    <tr>\n",
       "      <th>3</th>\n",
       "      <td>1965723909</td>\n",
       "      <td>0</td>\n",
       "      <td>2009</td>\n",
       "    </tr>\n",
       "    <tr>\n",
       "      <th>4</th>\n",
       "      <td>2021155615</td>\n",
       "      <td>42</td>\n",
       "      <td>1998</td>\n",
       "    </tr>\n",
       "    <tr>\n",
       "      <th>...</th>\n",
       "      <td>...</td>\n",
       "      <td>...</td>\n",
       "      <td>...</td>\n",
       "    </tr>\n",
       "    <tr>\n",
       "      <th>29995</th>\n",
       "      <td>1978075524</td>\n",
       "      <td>0</td>\n",
       "      <td>2014</td>\n",
       "    </tr>\n",
       "    <tr>\n",
       "      <th>29996</th>\n",
       "      <td>2055200684</td>\n",
       "      <td>1</td>\n",
       "      <td>2008</td>\n",
       "    </tr>\n",
       "    <tr>\n",
       "      <th>29997</th>\n",
       "      <td>2080698788</td>\n",
       "      <td>0</td>\n",
       "      <td>2012</td>\n",
       "    </tr>\n",
       "    <tr>\n",
       "      <th>29998</th>\n",
       "      <td>2004912114</td>\n",
       "      <td>11</td>\n",
       "      <td>2006</td>\n",
       "    </tr>\n",
       "    <tr>\n",
       "      <th>29999</th>\n",
       "      <td>2162869412</td>\n",
       "      <td>84</td>\n",
       "      <td>1990</td>\n",
       "    </tr>\n",
       "  </tbody>\n",
       "</table>\n",
       "<p>30000 rows × 3 columns</p>\n",
       "</div>"
      ],
      "text/plain": [
       "               id  citations  year\n",
       "0      1926704088         10  2004\n",
       "1      1590836146          0  1971\n",
       "2      2035484488          3  2007\n",
       "3      1965723909          0  2009\n",
       "4      2021155615         42  1998\n",
       "...           ...        ...   ...\n",
       "29995  1978075524          0  2014\n",
       "29996  2055200684          1  2008\n",
       "29997  2080698788          0  2012\n",
       "29998  2004912114         11  2006\n",
       "29999  2162869412         84  1990\n",
       "\n",
       "[30000 rows x 3 columns]"
      ]
     },
     "execution_count": 185,
     "metadata": {},
     "output_type": "execute_result"
    }
   ],
   "source": [
    "import pandas as pd\n",
    "\n",
    "citation_file = \"mag-30k-citations.csv.bz2\"\n",
    "citation = pd.read_csv(citation_file, sep = \"\\t\")\n",
    "citation"
   ]
  },
  {
   "cell_type": "code",
   "execution_count": 186,
   "id": "657576f1-0f6c-4304-a003-c9785326b6c9",
   "metadata": {},
   "outputs": [
    {
     "data": {
      "text/html": [
       "<div>\n",
       "<style scoped>\n",
       "    .dataframe tbody tr th:only-of-type {\n",
       "        vertical-align: middle;\n",
       "    }\n",
       "\n",
       "    .dataframe tbody tr th {\n",
       "        vertical-align: top;\n",
       "    }\n",
       "\n",
       "    .dataframe thead th {\n",
       "        text-align: right;\n",
       "    }\n",
       "</style>\n",
       "<table border=\"1\" class=\"dataframe\">\n",
       "  <thead>\n",
       "    <tr style=\"text-align: right;\">\n",
       "      <th></th>\n",
       "      <th>treat</th>\n",
       "      <th>age</th>\n",
       "      <th>educ</th>\n",
       "      <th>ethn</th>\n",
       "      <th>married</th>\n",
       "      <th>re74</th>\n",
       "      <th>re75</th>\n",
       "      <th>re78</th>\n",
       "      <th>u74</th>\n",
       "      <th>u75</th>\n",
       "    </tr>\n",
       "  </thead>\n",
       "  <tbody>\n",
       "    <tr>\n",
       "      <th>0</th>\n",
       "      <td>True</td>\n",
       "      <td>37</td>\n",
       "      <td>11</td>\n",
       "      <td>black</td>\n",
       "      <td>True</td>\n",
       "      <td>0.0</td>\n",
       "      <td>0.0</td>\n",
       "      <td>9930.05</td>\n",
       "      <td>True</td>\n",
       "      <td>True</td>\n",
       "    </tr>\n",
       "    <tr>\n",
       "      <th>1</th>\n",
       "      <td>True</td>\n",
       "      <td>30</td>\n",
       "      <td>12</td>\n",
       "      <td>black</td>\n",
       "      <td>False</td>\n",
       "      <td>0.0</td>\n",
       "      <td>0.0</td>\n",
       "      <td>24909.50</td>\n",
       "      <td>True</td>\n",
       "      <td>True</td>\n",
       "    </tr>\n",
       "    <tr>\n",
       "      <th>2</th>\n",
       "      <td>True</td>\n",
       "      <td>27</td>\n",
       "      <td>11</td>\n",
       "      <td>black</td>\n",
       "      <td>False</td>\n",
       "      <td>0.0</td>\n",
       "      <td>0.0</td>\n",
       "      <td>7506.15</td>\n",
       "      <td>True</td>\n",
       "      <td>True</td>\n",
       "    </tr>\n",
       "    <tr>\n",
       "      <th>3</th>\n",
       "      <td>True</td>\n",
       "      <td>33</td>\n",
       "      <td>8</td>\n",
       "      <td>black</td>\n",
       "      <td>False</td>\n",
       "      <td>0.0</td>\n",
       "      <td>0.0</td>\n",
       "      <td>289.79</td>\n",
       "      <td>True</td>\n",
       "      <td>True</td>\n",
       "    </tr>\n",
       "    <tr>\n",
       "      <th>4</th>\n",
       "      <td>True</td>\n",
       "      <td>22</td>\n",
       "      <td>9</td>\n",
       "      <td>black</td>\n",
       "      <td>False</td>\n",
       "      <td>0.0</td>\n",
       "      <td>0.0</td>\n",
       "      <td>4056.49</td>\n",
       "      <td>True</td>\n",
       "      <td>True</td>\n",
       "    </tr>\n",
       "    <tr>\n",
       "      <th>...</th>\n",
       "      <td>...</td>\n",
       "      <td>...</td>\n",
       "      <td>...</td>\n",
       "      <td>...</td>\n",
       "      <td>...</td>\n",
       "      <td>...</td>\n",
       "      <td>...</td>\n",
       "      <td>...</td>\n",
       "      <td>...</td>\n",
       "      <td>...</td>\n",
       "    </tr>\n",
       "    <tr>\n",
       "      <th>2670</th>\n",
       "      <td>False</td>\n",
       "      <td>47</td>\n",
       "      <td>8</td>\n",
       "      <td>other</td>\n",
       "      <td>True</td>\n",
       "      <td>44667.4</td>\n",
       "      <td>33837.1</td>\n",
       "      <td>38568.70</td>\n",
       "      <td>False</td>\n",
       "      <td>False</td>\n",
       "    </tr>\n",
       "    <tr>\n",
       "      <th>2671</th>\n",
       "      <td>False</td>\n",
       "      <td>32</td>\n",
       "      <td>8</td>\n",
       "      <td>other</td>\n",
       "      <td>True</td>\n",
       "      <td>47022.4</td>\n",
       "      <td>67137.1</td>\n",
       "      <td>59109.10</td>\n",
       "      <td>False</td>\n",
       "      <td>False</td>\n",
       "    </tr>\n",
       "    <tr>\n",
       "      <th>2672</th>\n",
       "      <td>False</td>\n",
       "      <td>47</td>\n",
       "      <td>10</td>\n",
       "      <td>other</td>\n",
       "      <td>True</td>\n",
       "      <td>48198.0</td>\n",
       "      <td>47968.1</td>\n",
       "      <td>55710.30</td>\n",
       "      <td>False</td>\n",
       "      <td>False</td>\n",
       "    </tr>\n",
       "    <tr>\n",
       "      <th>2673</th>\n",
       "      <td>False</td>\n",
       "      <td>54</td>\n",
       "      <td>0</td>\n",
       "      <td>hispanic</td>\n",
       "      <td>True</td>\n",
       "      <td>49228.5</td>\n",
       "      <td>44221.0</td>\n",
       "      <td>20540.40</td>\n",
       "      <td>False</td>\n",
       "      <td>False</td>\n",
       "    </tr>\n",
       "    <tr>\n",
       "      <th>2674</th>\n",
       "      <td>False</td>\n",
       "      <td>40</td>\n",
       "      <td>8</td>\n",
       "      <td>other</td>\n",
       "      <td>True</td>\n",
       "      <td>50940.9</td>\n",
       "      <td>55500.0</td>\n",
       "      <td>53198.20</td>\n",
       "      <td>False</td>\n",
       "      <td>False</td>\n",
       "    </tr>\n",
       "  </tbody>\n",
       "</table>\n",
       "<p>2675 rows × 10 columns</p>\n",
       "</div>"
      ],
      "text/plain": [
       "      treat  age  educ      ethn  married     re74     re75      re78    u74  \\\n",
       "0      True   37    11     black     True      0.0      0.0   9930.05   True   \n",
       "1      True   30    12     black    False      0.0      0.0  24909.50   True   \n",
       "2      True   27    11     black    False      0.0      0.0   7506.15   True   \n",
       "3      True   33     8     black    False      0.0      0.0    289.79   True   \n",
       "4      True   22     9     black    False      0.0      0.0   4056.49   True   \n",
       "...     ...  ...   ...       ...      ...      ...      ...       ...    ...   \n",
       "2670  False   47     8     other     True  44667.4  33837.1  38568.70  False   \n",
       "2671  False   32     8     other     True  47022.4  67137.1  59109.10  False   \n",
       "2672  False   47    10     other     True  48198.0  47968.1  55710.30  False   \n",
       "2673  False   54     0  hispanic     True  49228.5  44221.0  20540.40  False   \n",
       "2674  False   40     8     other     True  50940.9  55500.0  53198.20  False   \n",
       "\n",
       "        u75  \n",
       "0      True  \n",
       "1      True  \n",
       "2      True  \n",
       "3      True  \n",
       "4      True  \n",
       "...     ...  \n",
       "2670  False  \n",
       "2671  False  \n",
       "2672  False  \n",
       "2673  False  \n",
       "2674  False  \n",
       "\n",
       "[2675 rows x 10 columns]"
      ]
     },
     "execution_count": 186,
     "metadata": {},
     "output_type": "execute_result"
    }
   ],
   "source": [
    "treatment_file = \"treatment.csv.bz2\"\n",
    "treatment = pd.read_csv(treatment_file, sep = \"\\t\")\n",
    "treatment"
   ]
  },
  {
   "cell_type": "code",
   "execution_count": 187,
   "id": "053911b5-ca3c-49a3-8e83-91ac5f92e575",
   "metadata": {},
   "outputs": [
    {
     "name": "stdout",
     "output_type": "stream",
     "text": [
      "(30000, 3)\n",
      "(2675, 10)\n"
     ]
    }
   ],
   "source": [
    "col_row_citation = citation.shape\n",
    "print(col_row_citation)\n",
    "\n",
    "col_row_treatment = treatment.shape\n",
    "print(col_row_treatment)\n",
    "# both datasets looks reasonable"
   ]
  },
  {
   "cell_type": "markdown",
   "id": "22daa1bc-f1c4-40fa-8412-727624a2c315",
   "metadata": {},
   "source": [
    "**2) Show the distribution of income and citations on a histogram. As the histogram may not look good, do it in two ways: a) histogram of income/citations and b) histogram of log income/citations. In order to avoid issues with log of zero you can do log(1 + income) instead of log income.**"
   ]
  },
  {
   "cell_type": "code",
   "execution_count": 188,
   "id": "dc753a5a-9512-46c4-85ef-503f8739bdd8",
   "metadata": {},
   "outputs": [
    {
     "data": {
      "image/png": "[encoded data removed]",
      "text/plain": [
       "<Figure size 432x288 with 1 Axes>"
      ]
     },
     "metadata": {
      "needs_background": "light"
     },
     "output_type": "display_data"
    }
   ],
   "source": [
    "import numpy as np\n",
    "import pandas as pd\n",
    "import matplotlib.pyplot as plt\n",
    "\n",
    "citations = citation[\"citations\"]\n",
    "_ = plt.hist(citations, edgecolor='w',  bins=20)\n",
    "_ = plt.xlabel('citation')\n",
    "_ = plt.ylabel('frequency')"
   ]
  },
  {
   "cell_type": "code",
   "execution_count": 189,
   "id": "b73359a6-5dee-4cb2-99ae-db1c1ce4c8c2",
   "metadata": {},
   "outputs": [
    {
     "data": {
      "image/png": "[encoded data removed]",
      "text/plain": [
       "<Figure size 432x288 with 1 Axes>"
      ]
     },
     "metadata": {
      "needs_background": "light"
     },
     "output_type": "display_data"
    }
   ],
   "source": [
    "re78_income = np.log(1+treatment['re78'])\n",
    "_ = plt.hist(re78_income, edgecolor='w', bins=20)\n",
    "_ = plt.xlabel('Income')\n",
    "_ = plt.ylabel('Density')"
   ]
  },
  {
   "cell_type": "markdown",
   "id": "8d2fc380-b1d8-490b-933c-027b0a2efb79",
   "metadata": {},
   "source": [
    "**3) Compute sample mean and standard deviation for both datasets. Compare these: how much smaller (or larger) is std. dev compared to the mean?**"
   ]
  },
  {
   "cell_type": "code",
   "execution_count": 190,
   "id": "100810ab-0033-44cf-ba8e-950bfe9de330",
   "metadata": {},
   "outputs": [
    {
     "name": "stdout",
     "output_type": "stream",
     "text": [
      "15.605633333333333\n",
      "79.17810312200979\n"
     ]
    }
   ],
   "source": [
    "mean = citation[\"citations\"].mean()\n",
    "std = citation[\"citations\"].std()\n",
    "print(mean)\n",
    "print(std)"
   ]
  },
  {
   "cell_type": "code",
   "execution_count": 191,
   "id": "ab95b8a1-7b80-4590-bb04-dea066b6f657",
   "metadata": {},
   "outputs": [
    {
     "name": "stdout",
     "output_type": "stream",
     "text": [
      "20502.37607865417\n",
      "15632.519774212507\n"
     ]
    }
   ],
   "source": [
    "mean = treatment[\"re78\"].mean()\n",
    "std = treatment[\"re78\"].std()\n",
    "print(mean)\n",
    "print(std)"
   ]
  },
  {
   "cell_type": "markdown",
   "id": "2682c7d6-64d4-4e16-a728-1473cfdf1802",
   "metadata": {},
   "source": [
    "The std for the second dataset which is treatment dataset 'income' specified has much larger std value which means that the data is much more spread out than the first dataset which is citation 'citations' focused dataset."
   ]
  },
  {
   "cell_type": "markdown",
   "id": "342ca94e-7d78-4b2a-b934-a73df619a8c6",
   "metadata": {},
   "source": [
    "**4) Compute the Pareto ratio for both distributions.**"
   ]
  },
  {
   "cell_type": "code",
   "execution_count": 192,
   "id": "c5cc303e-366f-4dcc-bdf9-757aac7008de",
   "metadata": {},
   "outputs": [
    {
     "name": "stdout",
     "output_type": "stream",
     "text": [
      "0.8602705433294388\n"
     ]
    }
   ],
   "source": [
    "citations = citation['citations']\n",
    "\n",
    "# calculate the threshold btw the lower -80% and upper -20% of\n",
    "citations_top20 = np.percentile(citations, 80) # -top 20% of\n",
    "\n",
    "# calculate the sum of the world wealth from the top -25% of\n",
    "citations_sum20 = citation[citation['citations'] > citations_top20]\n",
    "citations_sum20 = citations_sum20['citations'].sum()\n",
    "\n",
    "# sum of everything in sample1\n",
    "citations_sumtotal = citation['citations'].sum()\n",
    "\n",
    "# pareto ratio\n",
    "pareto_ratio = citations_sum20/citations_sumtotal\n",
    "print(pareto_ratio)"
   ]
  },
  {
   "cell_type": "code",
   "execution_count": 193,
   "id": "4b1d453e-c71e-42de-b743-08d0c2bb31af",
   "metadata": {},
   "outputs": [
    {
     "name": "stdout",
     "output_type": "stream",
     "text": [
      "0.4051300914324231\n"
     ]
    }
   ],
   "source": [
    "income = treatment['re78']\n",
    "\n",
    "# calculate the threshold btw the lower -80% and upper -20% of\n",
    "income_top20 = np.percentile(income, 80) # -top 20% of\n",
    "\n",
    "# calculate the sum of the world wealth from the top -25% of\n",
    "income_sum20 = treatment[treatment['re78'] > income_top20]\n",
    "income_sum20 = income_sum20['re78'].sum()\n",
    "\n",
    "# sum of everything in sample1\n",
    "income_sumtotal = treatment['re78'].sum()\n",
    "\n",
    "# pareto ratio\n",
    "pareto_ratio = income_sum20/income_sumtotal\n",
    "print(pareto_ratio)"
   ]
  },
  {
   "cell_type": "markdown",
   "id": "95ff5704-3a79-435a-b9cd-39c3431bd285",
   "metadata": {},
   "source": [
    "## 4) Variance of mean (20pts)"
   ]
  },
  {
   "cell_type": "markdown",
   "id": "e2a009f7-0933-404f-9aaf-2e8fa57d731d",
   "metadata": {},
   "source": [
    "**1) Pick your number of repetitions R.**"
   ]
  },
  {
   "cell_type": "code",
   "execution_count": 194,
   "id": "30cacc30-31ff-4d03-8875-7dbd4ae2a730",
   "metadata": {},
   "outputs": [],
   "source": [
    "R = 1000"
   ]
  },
  {
   "cell_type": "markdown",
   "id": "b1fe346e-7263-4889-9c77-de8e179c07fd",
   "metadata": {},
   "source": [
    "**2) Now do R times in a loop: create a single realization of this RV. Store all these in a vector (list or np array). You should have a vector of R realizations.**"
   ]
  },
  {
   "cell_type": "code",
   "execution_count": 197,
   "id": "3a3ba645-1084-4de7-84a3-4e00bcc8c61b",
   "metadata": {},
   "outputs": [
    {
     "name": "stdout",
     "output_type": "stream",
     "text": [
      "[2, 1, 2, 2, 2, 2, 2, 1, 0, 2, 1, 2, 2, 1, 3, 3, 3, 1, 1, 1, 0, 1, 2, 1, 3, 2, 3, 0, 2, 2, 2, 1, 2, 2, 3, 2, 2, 2, 0, 1, 2, 2, 1, 3, 1, 1, 3, 3, 2, 2, 2, 2, 0, 3, 3, 3, 1, 2, 2, 2, 3, 3, 1, 3, 3, 2, 1, 3, 1, 3, 0, 2, 0, 2, 1, 3, 2, 3, 2, 3, 2, 2, 3, 1, 2, 2, 2, 3, 2, 1, 2, 1, 3, 1, 2, 3, 2, 3, 1, 3, 1, 2, 1, 0, 2, 2, 2, 2, 2, 0, 2, 1, 1, 2, 1, 2, 1, 2, 1, 1, 1, 2, 0, 2, 2, 2, 3, 2, 1, 2, 2, 2, 3, 2, 2, 2, 2, 1, 1, 2, 1, 2, 2, 1, 1, 1, 3, 1, 1, 0, 3, 1, 3, 2, 3, 1, 1, 2, 2, 3, 1, 2, 1, 1, 0, 1, 3, 2, 1, 3, 2, 3, 3, 3, 1, 2, 2, 1, 1, 3, 3, 2, 2, 2, 1, 2, 2, 2, 1, 2, 2, 3, 3, 0, 1, 2, 2, 2, 3, 2, 2, 1, 2, 3, 3, 3, 1, 2, 2, 1, 0, 2, 1, 2, 3, 1, 2, 2, 2, 1, 2, 1, 2, 1, 3, 0, 1, 3, 0, 1, 2, 3, 2, 3, 3, 2, 2, 2, 2, 2, 1, 3, 2, 3, 1, 2, 2, 3, 3, 2, 2, 0, 1, 1, 1, 3, 2, 2, 0, 2, 2, 3, 3, 1, 1, 1, 2, 2, 3, 2, 0, 1, 2, 0, 2, 0, 0, 1, 2, 1, 2, 1, 2, 3, 2, 3, 0, 2, 2, 2, 2, 3, 1, 3, 2, 2, 3, 1, 0, 0, 1, 1, 2, 3, 2, 2, 3, 3, 1, 3, 1, 3, 3, 3, 1, 2, 2, 2, 1, 1, 2, 3, 3, 2, 2, 2, 1, 1, 2, 2, 3, 1, 3, 1, 1, 1, 2, 2, 2, 2, 2, 3, 2, 3, 1, 3, 2, 2, 2, 0, 2, 3, 2, 2, 2, 1, 2, 3, 2, 0, 3, 1, 2, 2, 1, 2, 1, 2, 1, 1, 1, 2, 1, 2, 2, 3, 1, 0, 2, 2, 1, 2, 0, 2, 1, 1, 1, 3, 2, 2, 3, 2, 2, 1, 3, 0, 2, 2, 3, 3, 2, 1, 3, 0, 1, 2, 2, 2, 2, 3, 3, 2, 3, 2, 2, 2, 3, 3, 3, 2, 0, 0, 2, 3, 2, 2, 0, 3, 1, 2, 2, 1, 2, 1, 2, 2, 2, 2, 1, 2, 2, 1, 1, 3, 2, 2, 1, 0, 0, 1, 2, 0, 2, 3, 0, 2, 1, 3, 1, 1, 2, 2, 2, 1, 2, 3, 2, 2, 1, 2, 2, 0, 2, 1, 0, 1, 1, 0, 0, 2, 3, 2, 3, 2, 3, 2, 2, 1, 0, 2, 2, 2, 1, 2, 2, 2, 2, 2, 2, 2, 2, 2, 2, 1, 2, 1, 1, 3, 2, 2, 3, 2, 1, 1, 2, 1, 3, 2, 1, 1, 2, 2, 3, 1, 3, 2, 2, 1, 3, 2, 3, 2, 2, 2, 3, 3, 2, 1, 1, 0, 3, 2, 2, 2, 0, 3, 1, 1, 2, 2, 1, 3, 2, 2, 1, 3, 2, 2, 2, 1, 2, 3, 0, 1, 2, 1, 2, 1, 1, 0, 1, 3, 3, 2, 0, 2, 3, 1, 2, 1, 3, 1, 2, 3, 1, 2, 3, 3, 3, 1, 1, 1, 1, 2, 2, 0, 2, 2, 2, 0, 3, 2, 1, 3, 2, 2, 2, 2, 2, 2, 2, 2, 0, 3, 3, 2, 2, 1, 2, 0, 2, 1, 2, 1, 0, 1, 1, 1, 2, 3, 3, 2, 2, 2, 1, 0, 3, 3, 2, 1, 1, 1, 0, 2, 2, 3, 1, 1, 1, 3, 2, 2, 2, 3, 1, 3, 2, 3, 2, 0, 2, 1, 3, 2, 2, 2, 1, 2, 1, 2, 2, 2, 2, 3, 1, 1, 1, 2, 3, 2, 2, 2, 3, 1, 3, 2, 1, 2, 0, 3, 1, 3, 2, 2, 2, 2, 3, 3, 2, 1, 2, 2, 3, 3, 2, 3, 2, 3, 3, 1, 3, 2, 1, 2, 3, 3, 2, 2, 2, 1, 1, 1, 3, 1, 2, 1, 1, 0, 1, 2, 2, 2, 2, 2, 2, 1, 2, 2, 3, 3, 3, 0, 3, 3, 2, 3, 1, 1, 0, 2, 2, 2, 1, 2, 2, 1, 2, 3, 2, 2, 1, 2, 2, 2, 1, 0, 0, 2, 0, 1, 1, 2, 2, 3, 1, 2, 2, 2, 1, 1, 3, 2, 1, 1, 3, 3, 2, 3, 2, 3, 2, 2, 2, 3, 0, 1, 2, 2, 2, 2, 3, 2, 2, 2, 1, 1, 0, 2, 1, 1, 2, 2, 2, 1, 3, 3, 3, 2, 1, 2, 2, 3, 2, 3, 3, 1, 3, 1, 1, 3, 2, 3, 1, 2, 1, 2, 1, 3, 2, 1, 2, 3, 3, 1, 2, 1, 1, 2, 2, 2, 1, 1, 3, 1, 1, 1, 3, 2, 3, 2, 0, 1, 2, 2, 2, 0, 3, 2, 1, 2, 1, 3, 2, 2, 2, 2, 2, 2, 1, 1, 1, 2, 2, 1, 1, 2, 1, 1, 3, 1, 2, 2, 2, 2, 2, 2, 1, 2, 2, 2, 1, 2, 3, 3, 1, 1, 3, 2, 3, 3, 1, 3, 0, 3, 1, 2, 2, 2, 1, 2, 1, 2, 2, 1, 2, 1, 1, 3, 1, 2, 1, 3, 2, 3, 2, 1, 2, 3, 2, 1, 3, 2, 3, 1, 2, 2, 1, 2, 1, 1, 2, 0, 3, 2, 3, 2, 2, 2, 1, 1, 2, 2, 3, 2, 2, 2, 2, 1, 3, 1, 1, 3, 0, 2, 0, 3, 2, 2, 2, 2, 1, 1, 1, 2, 1, 2, 1, 1, 3, 1, 3, 2, 2, 2, 1, 3, 2, 0, 2, 1]\n"
     ]
    }
   ],
   "source": [
    "N = 3\n",
    "P = 0.6\n",
    "l = []\n",
    "np.random.seed(0)\n",
    "for i in range(R):\n",
    "    x = np.random.binomial(N, P)\n",
    "    l.append(x)\n",
    "print(l)"
   ]
  },
  {
   "cell_type": "markdown",
   "id": "774521b6-e2c2-4a5b-b575-afbfd0f68d29",
   "metadata": {},
   "source": [
    "**3) Compute variance of your sample.**"
   ]
  },
  {
   "cell_type": "code",
   "execution_count": 198,
   "id": "915b0cdd-f939-4f9a-9eea-480586eecdfd",
   "metadata": {},
   "outputs": [
    {
     "name": "stdout",
     "output_type": "stream",
     "text": [
      "0.7317909999999975\n"
     ]
    }
   ],
   "source": [
    "n = R\n",
    "mean = sum(l) / R\n",
    "variance = sum((x - mean) ** 2 for x in l) / R\n",
    "print(variance)"
   ]
  },
  {
   "cell_type": "markdown",
   "id": "b49178b5-58c0-47a2-b9fd-318a89d9008d",
   "metadata": {},
   "source": [
    "**4) Now do a loop of R again, but this time create a pair of realizations (S=2). Compute the pair mean, and store it in a vector. You should have R pair means.**"
   ]
  },
  {
   "cell_type": "code",
   "execution_count": 202,
   "id": "c1167094-7133-4dff-8971-10421fc4b089",
   "metadata": {},
   "outputs": [
    {
     "name": "stdout",
     "output_type": "stream",
     "text": [
      "[1.5, 2.0, 2.0, 1.5, 1.0, 1.5, 1.5, 3.0, 2.0, 1.0, 0.5, 1.5, 2.5, 1.5, 2.0, 1.5, 2.0, 2.5, 2.0, 0.5, 2.0, 2.0, 1.0, 3.0, 2.0, 2.0, 1.5, 3.0, 1.5, 2.0, 3.0, 2.0, 2.5, 2.0, 2.0, 1.0, 1.0, 2.0, 2.5, 2.5, 2.0, 2.0, 2.0, 2.5, 1.5, 1.5, 2.0, 2.5, 2.5, 2.0, 1.5, 0.5, 2.0, 2.0, 1.0, 1.5, 1.5, 1.5, 1.5, 1.0, 1.5, 1.0, 2.0, 2.5, 1.5, 2.0, 2.5, 2.0, 1.5, 1.5, 1.5, 1.5, 1.0, 2.0, 0.5, 2.0, 2.5, 2.0, 1.5, 2.5, 1.5, 1.0, 0.5, 2.5, 2.0, 2.5, 3.0, 1.5, 1.5, 2.0, 2.5, 2.0, 1.5, 2.0, 1.5, 2.5, 1.5, 1.5, 2.0, 2.5, 1.5, 2.5, 3.0, 1.5, 1.5, 1.0, 1.5, 2.0, 2.0, 1.5, 1.5, 1.5, 1.5, 2.0, 0.5, 2.5, 2.5, 2.5, 2.0, 2.0, 2.0, 2.5, 1.5, 2.5, 2.5, 1.0, 1.0, 2.0, 2.0, 1.0, 2.5, 2.0, 1.0, 2.0, 2.5, 0.5, 1.0, 1.0, 0.5, 1.5, 1.5, 2.5, 2.5, 1.0, 2.0, 2.5, 2.0, 2.0, 2.0, 0.0, 1.0, 2.5, 2.0, 3.0, 2.0, 2.0, 3.0, 1.5, 2.0, 1.0, 2.5, 2.5, 2.0, 1.0, 2.0, 2.0, 2.0, 1.0, 2.0, 2.0, 2.5, 2.5, 2.0, 2.0, 1.0, 2.5, 2.0, 1.5, 2.5, 1.0, 2.0, 2.0, 1.5, 1.5, 1.0, 1.5, 1.5, 2.5, 0.5, 2.0, 1.5, 1.0, 1.0, 2.0, 2.0, 2.5, 1.5, 1.5, 2.0, 3.0, 1.5, 1.5, 1.5, 2.0, 2.5, 2.5, 2.5, 2.0, 3.0, 2.5, 0.0, 2.5, 2.0, 1.5, 1.5, 1.5, 1.5, 2.0, 2.0, 1.5, 1.5, 2.0, 2.0, 0.5, 0.5, 1.0, 2.5, 1.0, 2.0, 1.0, 2.0, 1.5, 2.5, 2.0, 1.5, 1.0, 1.5, 0.5, 0.5, 1.0, 2.5, 2.5, 2.5, 1.5, 1.0, 2.0, 1.5, 2.0, 2.0, 2.0, 2.0, 1.5, 1.5, 2.0, 2.0, 2.5, 1.0, 1.5, 2.5, 1.0, 2.0, 2.0, 2.5, 1.5, 2.5, 2.5, 2.0, 3.0, 1.5, 0.5, 2.5, 2.0, 1.5, 1.0, 2.0, 2.0, 2.0, 2.0, 2.0, 1.5, 2.5, 0.5, 1.5, 1.5, 0.5, 2.0, 2.5, 1.0, 2.0, 1.5, 2.0, 2.5, 1.5, 3.0, 2.0, 1.0, 1.5, 1.0, 2.0, 1.0, 2.5, 2.0, 2.0, 2.0, 2.0, 2.0, 1.5, 2.5, 1.5, 1.0, 1.5, 1.5, 0.5, 1.0, 2.5, 2.5, 2.0, 0.5, 3.0, 1.5, 1.0, 1.0, 2.5, 1.0, 2.0, 2.0, 2.5, 2.0, 2.5, 1.0, 1.5, 2.5, 2.0, 1.5, 1.5, 2.0, 2.5, 1.0, 1.5, 2.5, 2.0, 2.0, 2.5, 1.5, 1.5, 2.0, 2.0, 2.0, 3.0, 1.5, 2.0, 3.0, 2.5, 2.5, 2.0, 2.5, 1.5, 3.0, 2.0, 1.5, 1.0, 2.0, 1.5, 0.5, 1.5, 2.0, 2.0, 1.5, 2.0, 3.0, 1.5, 3.0, 2.5, 1.0, 1.0, 2.0, 1.5, 1.5, 2.5, 2.0, 1.5, 2.0, 0.5, 1.0, 0.5, 1.5, 2.5, 1.5, 2.0, 1.0, 2.5, 1.0, 3.0, 2.5, 2.5, 2.0, 2.5, 0.5, 2.0, 2.0, 2.5, 2.0, 1.0, 1.0, 1.0, 2.0, 1.5, 3.0, 2.5, 1.5, 2.5, 2.5, 2.0, 2.0, 2.0, 2.5, 1.5, 1.5, 2.0, 1.5, 2.5, 2.0, 1.5, 1.5, 2.0, 1.0, 2.0, 1.0, 2.5, 2.5, 0.5, 2.0, 1.0, 2.5, 1.5, 2.0, 2.0, 2.0, 2.0, 1.0, 1.5, 1.5, 1.5, 1.0, 2.0, 2.0, 2.0, 2.0, 1.5, 2.0, 1.5, 3.0, 1.0, 2.5, 3.0, 2.0, 1.5, 1.5, 2.0, 1.5, 1.5, 1.5, 1.5, 2.0, 1.5, 2.0, 2.5, 1.5, 2.5, 1.5, 2.5, 2.0, 2.0, 1.5, 1.0, 1.0, 2.5, 2.5, 2.0, 1.0, 2.0, 2.5, 2.0, 1.5, 2.0, 2.0, 1.0, 1.5, 2.0, 2.0, 1.0, 1.5, 1.5, 1.0, 2.0, 2.5, 2.0, 2.0, 1.0, 1.5, 2.5, 1.5, 2.0, 2.5, 1.0, 2.5, 2.0, 2.5, 2.0, 1.5, 2.0, 1.0, 1.0, 2.5, 1.5, 2.5, 0.0, 1.5, 2.0, 2.5, 2.5, 1.5, 2.5, 1.0, 1.0, 2.5, 2.0, 1.5, 1.5, 1.5, 1.5, 3.0, 2.5, 1.5, 2.0, 1.5, 2.5, 2.0, 1.0, 2.0, 1.5, 1.5, 1.5, 2.0, 1.5, 2.5, 1.0, 2.0, 1.5, 2.0, 1.5, 1.5, 0.5, 2.5, 2.0, 2.5, 2.5, 2.0, 2.5, 1.0, 1.5, 1.5, 1.0, 1.0, 2.5, 3.0, 1.0, 2.0, 0.5, 1.5, 2.5, 1.5, 2.5, 2.0, 1.5, 2.5, 2.0, 0.5, 1.5, 2.5, 2.0, 1.5, 3.0, 2.0, 1.0, 2.0, 2.0, 0.5, 2.0, 1.5, 1.0, 1.5, 2.5, 1.0, 1.0, 1.0, 2.0, 2.0, 1.5, 2.5, 1.0, 1.0, 1.5, 1.5, 2.0, 2.0, 2.0, 2.0, 3.0, 1.5, 0.0, 1.5, 1.0, 1.5, 2.5, 3.0, 2.5, 2.5, 1.5, 3.0, 2.5, 1.5, 1.5, 2.0, 1.0, 1.5, 1.0, 2.5, 1.5, 1.0, 1.5, 2.0, 0.0, 1.5, 1.5, 2.5, 1.5, 1.0, 1.5, 1.5, 1.5, 3.0, 1.0, 2.5, 2.5, 1.0, 1.5, 2.0, 2.0, 1.5, 1.5, 1.5, 0.5, 2.5, 1.0, 2.0, 2.5, 1.0, 0.5, 0.5, 2.5, 2.5, 1.0, 1.5, 2.0, 2.0, 1.0, 1.5, 1.5, 2.0, 2.0, 0.5, 1.0, 2.5, 1.5, 2.0, 1.5, 2.5, 2.5, 1.0, 1.0, 2.0, 1.5, 1.0, 1.0, 1.5, 1.5, 2.0, 2.5, 2.0, 2.0, 1.5, 2.0, 2.0, 2.5, 2.5, 1.0, 1.0, 1.0, 1.0, 2.0, 2.5, 0.5, 3.0, 1.5, 2.0, 2.5, 2.5, 3.0, 2.0, 3.0, 2.5, 2.0, 0.5, 1.0, 2.5, 2.0, 1.5, 1.5, 1.0, 2.5, 1.5, 2.5, 1.0, 1.5, 1.5, 1.0, 2.0, 2.0, 1.0, 0.5, 1.5, 1.0, 2.5, 1.0, 2.5, 1.5, 2.0, 2.5, 1.0, 2.5, 1.5, 0.5, 1.5, 2.0, 1.5, 1.5, 1.5, 3.0, 2.5, 1.5, 2.0, 1.0, 1.5, 1.0, 3.0, 2.0, 1.5, 1.0, 1.0, 1.0, 1.5, 1.0, 2.5, 1.5, 1.5, 2.0, 1.5, 1.0, 1.5, 1.5, 3.0, 2.0, 1.5, 1.5, 0.5, 1.5, 2.0, 2.5, 0.5, 1.5, 2.5, 2.0, 2.5, 2.0, 1.5, 2.0, 3.0, 1.5, 1.5, 1.0, 0.5, 1.5, 2.5, 1.5, 1.0, 2.5, 2.0, 1.5, 2.0, 1.5, 1.0, 1.5, 2.0, 1.0, 1.5, 2.0, 1.5, 2.0, 3.0, 2.5, 2.0, 1.0, 0.5, 1.0, 1.5, 3.0, 2.0, 2.5, 1.0, 2.5, 2.0, 0.5, 2.0, 2.0, 2.5, 2.5, 1.5, 1.0, 1.0, 2.0, 2.0, 2.0, 1.5, 3.0, 1.0, 2.0, 1.0, 2.0, 2.5, 1.0, 2.0, 2.0, 2.0, 1.5, 1.5, 2.0, 2.0, 2.5, 1.5, 1.0, 2.0, 2.0, 2.0, 1.0, 2.0, 2.0, 3.0, 1.5, 2.0, 1.0, 2.5, 2.0, 2.5, 2.5, 2.5, 2.5, 2.5, 1.5, 2.0, 1.5, 1.5, 1.0, 3.0, 2.5, 2.0, 1.5, 2.5, 0.5, 2.0, 1.5, 2.0, 1.5, 1.0, 2.0, 2.0, 1.5, 3.0, 2.0, 2.0, 1.5, 1.5, 1.5, 2.0, 2.0, 1.0, 2.0, 1.5, 1.5, 1.5, 2.0, 1.0, 2.5, 2.5, 1.5, 1.5, 0.0, 1.5, 2.5, 1.0, 1.5, 2.0, 0.5, 1.5, 2.5, 2.0, 1.5, 1.5, 2.0, 2.0, 0.5, 3.0, 1.0, 2.0, 2.5, 2.5, 2.0, 2.0, 2.0, 1.5, 2.0, 2.0, 2.5, 1.5, 1.0, 1.5, 2.5, 2.0, 3.0, 2.0, 1.5, 3.0, 1.5, 2.0, 1.5, 1.5, 0.5, 2.5, 1.0, 2.0, 1.0, 2.0, 1.5, 1.5, 1.0, 2.5, 2.0, 2.0, 1.5, 2.5, 2.5, 3.0, 1.5, 2.0, 1.0, 3.0, 1.5, 2.0, 2.5, 2.5, 1.0, 2.0, 2.5, 3.0, 1.0, 1.5, 2.0, 2.0, 0.5, 2.0, 1.5, 2.0, 2.0, 3.0, 1.0, 1.5, 2.5, 2.5, 2.0, 2.0, 0.5, 1.5, 1.5, 2.0, 1.5, 2.0, 2.0, 1.5, 1.5, 2.0]\n"
     ]
    }
   ],
   "source": [
    "N = 3\n",
    "P = 0.6\n",
    "S = 2\n",
    "R = 1000\n",
    "means = []\n",
    "np.random.seed(0)\n",
    "for i in range(R):\n",
    "    x = np.random.binomial(N, P, size=S)\n",
    "    mean = np.mean(x)\n",
    "    means.append(mean)\n",
    "print(means)"
   ]
  },
  {
   "cell_type": "markdown",
   "id": "08bed238-1b86-46b5-8b59-e81f4b4baef4",
   "metadata": {},
   "source": [
    "**5) Compute variance of your pair means.**"
   ]
  },
  {
   "cell_type": "code",
   "execution_count": 203,
   "id": "95235254-a546-4131-9cb1-de6af474eade",
   "metadata": {},
   "outputs": [
    {
     "name": "stdout",
     "output_type": "stream",
     "text": [
      "0.3912977499999934\n"
     ]
    }
   ],
   "source": [
    "n = R\n",
    "mean = sum(means) / R\n",
    "variance = sum((x - mean) ** 2 for x in means) / R\n",
    "print(variance)"
   ]
  },
  {
   "cell_type": "markdown",
   "id": "0d954beb-cf9e-446b-b267-c87b2844bb71",
   "metadata": {},
   "source": [
    "**6) Repeat with S = 10-tuples (each time create 10 realizations in the loop and compute mean) and with S = 100-tuples. In both cases compute variance.**"
   ]
  },
  {
   "cell_type": "code",
   "execution_count": 205,
   "id": "a3668606-88c4-4eba-b209-4835f155e5e5",
   "metadata": {},
   "outputs": [
    {
     "name": "stdout",
     "output_type": "stream",
     "text": [
      "[1.6, 1.8, 1.6, 1.7, 2.0, 2.0, 2.3, 1.8, 2.0, 2.1, 1.4, 1.4, 1.7, 1.9, 1.3, 2.1, 1.5, 2.1, 1.9, 2.0, 2.0, 1.6, 1.4, 2.3, 2.2, 1.4, 2.0, 0.9, 1.9, 1.7, 2.1, 1.9, 2.0, 1.8, 2.0, 1.9, 1.6, 1.6, 1.5, 2.1, 1.8, 2.5, 1.5, 1.7, 1.3, 1.5, 1.9, 0.9, 2.0, 1.9, 1.8, 1.7, 2.1, 1.9, 1.8, 1.9, 1.3, 1.8, 2.2, 1.3, 2.1, 1.7, 1.4, 1.9, 1.5, 2.0, 1.8, 1.9, 1.9, 2.1, 2.4, 2.1, 1.3, 2.1, 1.8, 1.9, 1.1, 1.7, 2.3, 1.8, 1.5, 2.1, 2.2, 1.8, 1.9, 1.8, 1.5, 1.8, 1.5, 1.9, 2.2, 1.7, 1.6, 2.0, 1.8, 1.8, 2.0, 1.7, 1.4, 1.8, 1.9, 2.1, 1.6, 1.7, 1.7, 1.8, 2.1, 1.8, 1.6, 1.8, 1.6, 2.1, 1.5, 1.6, 2.0, 1.8, 1.9, 1.6, 1.4, 1.8, 1.4, 2.1, 1.3, 2.5, 1.7, 1.5, 1.3, 1.6, 2.1, 1.6, 1.4, 1.3, 1.9, 1.6, 1.5, 1.9, 1.3, 1.9, 2.0, 1.3, 1.9, 2.4, 1.8, 1.7, 1.8, 1.5, 1.3, 1.9, 1.6, 2.0, 1.4, 1.7, 1.5, 1.5, 1.9, 1.4, 2.1, 1.9, 1.4, 1.8, 1.4, 2.0, 1.4, 2.0, 1.8, 1.7, 2.1, 1.7, 1.7, 1.9, 1.6, 2.1, 2.1, 2.2, 1.9, 1.7, 1.6, 2.1, 1.7, 1.5, 1.9, 1.3, 1.6, 1.8, 1.8, 2.0, 1.8, 2.2, 1.9, 1.5, 1.4, 2.1, 2.0, 2.3, 1.9, 1.6, 1.9, 2.1, 1.4, 1.8, 2.1, 2.1, 2.1, 1.5, 1.7, 1.8, 1.7, 1.9, 1.5, 1.7, 1.4, 2.0, 1.7, 2.0, 1.8, 1.8, 1.4, 1.6, 2.0, 1.4, 1.8, 1.8, 1.5, 2.1, 1.6, 1.6, 1.7, 1.8, 1.7, 1.7, 1.6, 1.7, 1.6, 1.8, 2.2, 1.7, 1.7, 1.6, 2.1, 1.8, 2.0, 2.2, 1.8, 1.6, 1.9, 1.8, 1.6, 2.1, 1.8, 1.6, 1.6, 1.4, 1.8, 1.6, 1.7, 1.4, 2.0, 1.7, 1.5, 2.1, 1.7, 1.6, 1.5, 1.9, 1.5, 1.6, 1.9, 1.2, 1.5, 2.0, 1.7, 2.1, 1.9, 1.9, 2.0, 2.2, 2.2, 2.1, 2.0, 1.6, 1.7, 1.9, 1.4, 2.0, 1.4, 1.4, 1.8, 2.0, 1.4, 1.5, 1.7, 2.2, 1.8, 1.4, 1.8, 1.9, 2.1, 1.7, 1.9, 1.6, 1.9, 2.0, 1.4, 2.2, 2.0, 1.5, 1.6, 2.0, 1.9, 1.3, 1.6, 1.9, 2.2, 1.6, 1.7, 1.8, 2.2, 2.1, 2.2, 1.5, 1.8, 2.0, 2.0, 1.7, 1.7, 1.6, 1.2, 1.6, 2.0, 1.7, 1.9, 1.9, 1.6, 1.6, 1.4, 2.1, 1.2, 1.9, 1.6, 1.7, 1.8, 1.8, 1.6, 1.7, 2.0, 2.0, 1.6, 1.9, 1.5, 2.1, 1.7, 1.6, 2.1, 2.2, 2.1, 1.8, 1.5, 1.9, 2.2, 1.8, 1.4, 2.1, 2.1, 2.0, 1.7, 1.7, 2.0, 1.5, 2.2, 1.6, 1.8, 2.1, 2.2, 2.1, 2.1, 1.1, 1.6, 2.1, 1.9, 1.7, 1.9, 1.7, 1.7, 1.8, 1.9, 2.2, 2.0, 1.7, 1.8, 2.0, 2.2, 2.0, 2.3, 2.0, 1.9, 2.0, 1.8, 1.8, 2.5, 2.0, 2.1, 1.7, 1.4, 2.4, 2.0, 1.5, 1.5, 2.0, 2.1, 2.1, 2.1, 1.7, 1.7, 1.7, 1.6, 1.8, 1.9, 1.8, 1.9, 1.9, 1.7, 1.7, 1.4, 1.9, 1.7, 1.7, 1.4, 2.1, 2.3, 1.5, 2.1, 1.8, 1.9, 1.8, 1.4, 1.9, 1.9, 1.9, 2.2, 1.8, 2.4, 2.4, 2.2, 2.0, 1.6, 1.4, 1.9, 1.5, 1.6, 1.8, 1.9, 2.1, 1.7, 2.3, 1.6, 1.8, 1.8, 2.0, 1.6, 1.7, 1.7, 1.8, 1.6, 1.8, 2.0, 2.3, 1.8, 2.1, 2.0, 2.1, 1.9, 1.8, 1.6, 1.6, 2.3, 1.6, 2.1, 2.1, 2.0, 1.8, 1.5, 2.0, 1.9, 1.9, 1.7, 1.9, 1.8, 1.6, 1.3, 1.7, 1.8, 1.7, 1.6, 2.1, 1.5, 2.1, 2.4, 1.4, 1.6, 2.0, 2.2, 1.6, 2.3, 1.9, 2.4, 1.6, 2.0, 1.9, 1.4, 1.6, 1.7, 1.7, 1.9, 1.9, 2.3, 2.1, 2.0, 2.0, 2.0, 1.8, 2.0, 2.2, 1.8, 1.6, 1.7, 2.0, 1.4, 1.0, 1.8, 1.5, 1.7, 1.6, 1.7, 1.7, 2.0, 2.0, 2.3, 1.7, 2.2, 1.9, 1.9, 1.7, 1.6, 1.8, 1.5, 1.7, 1.9, 1.9, 1.7, 1.7, 1.8, 2.1, 1.6, 1.5, 1.6, 1.5, 1.8, 1.4, 2.1, 1.7, 1.7, 1.4, 1.7, 1.8, 1.6, 1.8, 1.3, 2.1, 1.9, 1.7, 2.1, 2.2, 2.1, 1.7, 1.8, 1.5, 1.7, 1.9, 1.7, 1.8, 1.3, 1.9, 2.1, 2.2, 2.0, 1.9, 1.9, 1.6, 2.3, 2.1, 1.8, 2.0, 1.4, 1.8, 2.0, 2.1, 2.1, 2.0, 1.6, 2.1, 2.1, 1.3, 1.9, 1.7, 1.9, 1.8, 1.8, 1.9, 1.8, 1.9, 1.7, 2.0, 1.8, 1.9, 1.7, 2.3, 1.9, 2.0, 1.8, 1.6, 2.0, 1.8, 2.0, 1.9, 1.5, 2.0, 1.8, 1.4, 1.8, 2.2, 1.2, 2.1, 1.8, 1.8, 1.9, 1.9, 1.6, 2.1, 1.8, 2.1, 2.0, 1.8, 1.3, 1.7, 2.1, 1.6, 1.5, 1.2, 2.0, 2.0, 2.0, 2.4, 1.7, 1.6, 1.9, 2.0, 1.9, 1.9, 1.9, 1.9, 2.0, 2.3, 2.0, 1.9, 1.9, 2.3, 1.7, 1.8, 1.9, 1.6, 2.0, 1.6, 2.1, 1.9, 2.2, 1.8, 1.6, 1.3, 1.5, 1.7, 2.1, 1.8, 2.0, 1.6, 2.0, 1.9, 2.0, 1.8, 1.3, 0.9, 1.7, 1.9, 1.5, 2.4, 1.9, 2.1, 2.1, 1.8, 1.6, 1.5, 1.6, 2.0, 1.8, 1.9, 2.3, 2.0, 1.6, 1.5, 1.9, 2.0, 2.3, 2.0, 2.0, 1.4, 1.6, 2.1, 2.0, 1.5, 1.9, 1.4, 1.5, 1.9, 2.0, 1.7, 1.9, 1.8, 1.9, 1.7, 1.9, 1.7, 1.6, 1.9, 1.6, 1.1, 2.0, 1.5, 1.9, 1.4, 1.7, 1.4, 2.0, 1.8, 1.8, 1.5, 1.7, 2.0, 1.7, 1.9, 1.9, 2.1, 1.7, 1.6, 2.1, 1.5, 2.1, 1.7, 2.1, 1.9, 2.1, 2.2, 2.1, 2.3, 1.1, 1.6, 2.1, 1.9, 2.4, 2.0, 1.9, 1.6, 2.2, 2.4, 1.6, 2.1, 2.1, 1.5, 1.7, 1.9, 1.8, 1.7, 1.9, 1.9, 1.8, 1.6, 2.1, 1.8, 1.7, 2.1, 2.2, 1.8, 2.2, 1.4, 2.2, 1.9, 1.6, 1.8, 1.8, 2.0, 1.7, 1.5, 2.0, 2.1, 1.6, 1.8, 2.1, 1.9, 2.1, 2.1, 1.8, 1.9, 1.7, 1.8, 1.5, 1.9, 1.7, 2.4, 1.6, 1.9, 1.5, 2.0, 2.0, 2.0, 1.6, 1.7, 1.7, 1.9, 1.8, 2.0, 1.7, 1.9, 1.8, 2.0, 1.4, 2.2, 2.0, 2.2, 2.0, 2.4, 1.6, 1.6, 1.5, 1.8, 1.7, 1.7, 1.5, 1.8, 1.7, 1.6, 1.9, 1.8, 1.6, 2.1, 2.0, 2.0, 1.8, 1.7, 1.9, 1.6, 1.4, 1.9, 1.8, 1.5, 1.8, 1.8, 1.9, 1.8, 1.8, 1.3, 2.0, 2.0, 1.9, 1.5, 1.7, 1.7, 1.9, 1.9, 2.1, 1.7, 2.5, 2.0, 1.9, 1.4, 2.0, 2.2, 1.4, 1.9, 1.6, 1.8, 2.2, 1.5, 2.1, 1.9, 1.8, 1.4, 2.1, 1.5, 2.0, 1.5, 2.0, 1.8, 1.9, 1.8, 1.6, 1.8, 1.4, 1.8, 2.0, 2.0, 1.7, 2.2, 2.1, 2.5, 1.8, 2.0, 1.6, 2.3, 1.7, 1.3, 1.5, 2.2, 2.0, 1.9, 1.7, 2.1, 2.3, 1.8, 1.7, 1.4, 1.5, 1.8, 1.7, 1.3, 1.6, 1.8, 1.7, 1.8, 1.7, 1.6, 1.8, 2.4, 1.6, 2.1, 1.6, 2.2, 2.1, 2.1, 1.6, 1.9, 1.7, 2.1, 1.9, 2.2, 2.1, 1.5, 1.6, 1.7, 1.9, 1.8, 1.7, 2.1, 2.3, 2.0, 1.6, 1.8, 2.0, 2.0, 1.6, 2.0, 1.5, 2.0, 1.4, 1.6, 1.9, 1.6, 1.7, 1.5, 1.3, 2.1, 1.4, 1.7, 1.8, 1.6, 1.8, 1.8, 1.9, 1.5, 1.8, 1.8, 1.6, 1.5, 1.8, 1.9, 1.3, 2.3, 1.8, 2.2, 1.7, 1.6, 1.1, 1.9]\n"
     ]
    }
   ],
   "source": [
    "N = 3\n",
    "P = 0.6\n",
    "R = 1000\n",
    "means = []\n",
    "S = 10\n",
    "np.random.seed(0)\n",
    "for i in range(R):\n",
    "    x = np.random.binomial(N, P, size=S)\n",
    "    mean = np.mean(x)\n",
    "    means.append(mean)\n",
    "print(means)"
   ]
  },
  {
   "cell_type": "code",
   "execution_count": 207,
   "id": "cb011ce8-f8c3-439e-a57e-88abfbba0bc3",
   "metadata": {},
   "outputs": [
    {
     "name": "stdout",
     "output_type": "stream",
     "text": [
      "0.07029595999999978\n"
     ]
    }
   ],
   "source": [
    "n = R\n",
    "mean = sum(means) / R\n",
    "variance = sum((x - mean) ** 2 for x in means) / R\n",
    "print(variance)"
   ]
  },
  {
   "cell_type": "code",
   "execution_count": 209,
   "id": "283da123-35f1-4773-a070-fc6fe9950c1c",
   "metadata": {},
   "outputs": [
    {
     "name": "stdout",
     "output_type": "stream",
     "text": [
      "[1.89, 1.73, 1.74, 1.85, 1.7, 1.78, 1.83, 1.85, 1.8, 1.8, 1.81, 1.73, 1.71, 1.61, 1.79, 1.66, 1.77, 1.85, 1.78, 1.85, 1.81, 1.71, 1.73, 1.78, 1.84, 1.68, 1.64, 1.97, 1.65, 1.81, 1.78, 1.88, 1.73, 1.69, 1.8, 1.89, 1.83, 1.87, 1.87, 2.05, 1.88, 1.81, 1.74, 1.87, 1.88, 1.85, 1.92, 1.88, 1.73, 1.82, 1.89, 1.94, 1.7, 1.88, 1.74, 1.71, 1.7, 1.85, 1.93, 1.89, 1.81, 1.87, 1.84, 1.83, 1.72, 1.92, 1.94, 1.77, 1.74, 1.85, 1.86, 1.82, 1.8, 1.61, 1.84, 1.9, 1.9, 1.9, 1.89, 1.81, 1.94, 1.8, 1.83, 1.92, 1.7, 1.8, 1.77, 1.89, 1.79, 1.81, 1.82, 1.9, 1.82, 1.74, 1.9, 1.85, 1.88, 1.62, 1.71, 1.76, 1.81, 1.86, 1.89, 1.89, 1.74, 1.81, 1.85, 1.8, 1.82, 1.84, 1.77, 1.81, 1.62, 1.86, 1.96, 1.73, 1.88, 1.85, 1.72, 1.78, 1.88, 1.9, 1.82, 1.86, 1.82, 1.92, 1.77, 1.81, 1.66, 1.72, 1.89, 1.87, 1.92, 1.76, 1.84, 1.97, 1.76, 1.72, 1.81, 1.78, 1.87, 1.79, 1.83, 1.99, 1.91, 1.91, 1.8, 1.81, 1.79, 1.86, 1.83, 1.63, 1.73, 1.87, 1.89, 1.76, 1.83, 1.97, 2.0, 1.8, 1.77, 1.73, 1.82, 1.78, 1.79, 1.81, 1.72, 1.83, 1.96, 1.76, 1.91, 1.75, 1.87, 1.84, 1.69, 1.85, 1.82, 1.75, 1.76, 1.8, 1.93, 1.86, 1.7, 1.72, 1.88, 1.74, 1.85, 1.72, 1.82, 1.79, 1.71, 1.72, 1.82, 1.72, 1.88, 1.77, 1.82, 1.68, 1.67, 1.83, 1.8, 1.78, 1.77, 1.64, 1.88, 1.83, 1.85, 1.74, 1.72, 1.67, 1.66, 1.62, 1.83, 1.61, 1.89, 1.74, 1.78, 1.86, 1.91, 1.85, 1.8, 1.79, 1.83, 1.89, 1.71, 1.9, 1.88, 1.79, 1.88, 1.74, 1.83, 1.84, 1.9, 1.87, 1.91, 1.79, 1.96, 1.95, 1.8, 1.82, 1.75, 1.81, 1.82, 1.79, 1.81, 1.75, 1.69, 1.8, 1.72, 1.86, 1.8, 1.9, 1.73, 1.86, 1.99, 1.72, 1.65, 1.88, 1.81, 1.84, 1.65, 1.93, 1.83, 1.78, 1.62, 1.78, 1.84, 1.83, 1.67, 1.84, 1.9, 1.73, 1.87, 1.95, 1.9, 1.89, 1.88, 1.78, 1.67, 1.76, 1.84, 1.89, 1.81, 1.72, 1.86, 1.85, 1.78, 1.85, 1.9, 1.7, 1.89, 1.73, 1.9, 1.66, 1.86, 1.83, 1.78, 1.7, 1.77, 1.76, 1.76, 1.79, 1.83, 1.96, 1.91, 1.97, 1.76, 1.74, 1.85, 1.83, 1.77, 1.71, 1.74, 1.86, 1.74, 1.81, 1.83, 1.81, 1.77, 1.75, 1.94, 1.82, 1.7, 1.66, 1.82, 1.76, 1.79, 1.86, 1.81, 1.8, 1.88, 1.85, 1.65, 1.79, 1.94, 1.85, 1.85, 1.78, 1.72, 1.84, 1.77, 1.9, 1.76, 1.74, 1.81, 1.84, 1.83, 1.8, 1.69, 1.86, 1.62, 1.82, 1.83, 1.86, 1.62, 1.88, 1.96, 1.74, 1.99, 1.82, 1.73, 1.86, 1.79, 1.8, 1.69, 1.82, 1.89, 1.79, 1.72, 1.72, 1.94, 1.98, 1.83, 1.94, 1.95, 1.74, 1.9, 1.85, 1.78, 1.74, 1.71, 1.89, 1.66, 1.65, 1.85, 1.63, 1.72, 1.85, 1.84, 1.82, 1.8, 1.84, 1.61, 1.88, 1.84, 1.84, 1.75, 1.87, 1.69, 1.71, 1.92, 1.72, 1.56, 1.94, 1.74, 1.7, 1.75, 1.82, 1.72, 1.89, 1.79, 1.8, 1.74, 1.85, 1.74, 1.85, 1.74, 1.63, 1.73, 1.85, 1.95, 1.9, 1.9, 1.84, 1.82, 1.8, 1.93, 1.82, 1.88, 1.78, 1.68, 1.74, 1.89, 1.8, 1.82, 1.77, 1.81, 1.75, 1.85, 1.83, 1.77, 1.78, 1.76, 1.78, 1.83, 1.81, 1.82, 1.88, 1.79, 1.86, 1.83, 1.88, 1.82, 1.73, 2.01, 1.76, 1.75, 1.83, 1.81, 1.79, 1.72, 1.77, 1.81, 1.84, 1.81, 1.91, 1.91, 1.77, 1.82, 1.82, 1.98, 1.79, 1.81, 1.89, 1.75, 1.85, 1.84, 1.7, 1.77, 1.91, 1.87, 1.69, 1.69, 1.91, 1.97, 1.95, 1.68, 1.81, 1.6, 1.88, 2.03, 1.73, 1.85, 1.81, 1.65, 1.85, 1.82, 1.71, 1.69, 1.76, 1.69, 1.75, 1.94, 1.67, 1.67, 1.68, 1.85, 1.94, 1.85, 1.75, 1.73, 1.76, 1.82, 1.73, 1.83, 1.77, 1.91, 1.76, 1.9, 1.85, 1.78, 1.79, 1.82, 1.91, 1.84, 1.78, 1.83, 1.76, 1.69, 1.85, 1.82, 1.7, 1.74, 1.76, 1.75, 1.85, 1.71, 1.89, 1.89, 1.77, 1.85, 1.84, 1.92, 1.84, 1.79, 1.77, 1.73, 1.77, 1.79, 2.01, 1.9, 1.66, 1.94, 1.72, 1.82, 2.07, 1.9, 1.8, 1.74, 1.85, 1.81, 1.74, 1.8, 1.95, 1.68, 1.82, 1.71, 1.79, 1.85, 1.8, 1.67, 1.81, 1.92, 1.64, 1.68, 1.75, 2.01, 1.82, 1.84, 1.94, 1.84, 1.93, 1.78, 1.88, 1.83, 1.85, 1.81, 1.74, 1.67, 1.76, 1.93, 1.78, 1.63, 1.92, 1.69, 1.67, 1.88, 1.9, 1.8, 1.76, 1.87, 1.81, 1.76, 1.79, 1.88, 1.73, 1.81, 1.67, 1.85, 1.8, 1.82, 1.68, 1.71, 1.93, 1.83, 1.86, 1.85, 1.72, 1.71, 1.71, 1.75, 1.88, 1.95, 1.96, 1.69, 1.84, 1.65, 1.9, 1.88, 1.87, 1.62, 1.88, 1.74, 1.84, 1.73, 1.68, 1.76, 1.77, 1.75, 1.82, 1.7, 1.8, 1.76, 1.96, 1.69, 1.91, 1.82, 1.79, 1.96, 1.7, 1.74, 1.84, 1.73, 1.76, 1.73, 1.76, 1.76, 1.8, 1.74, 1.83, 1.78, 1.87, 1.78, 1.79, 1.74, 2.05, 1.68, 1.97, 1.86, 1.65, 1.66, 1.8, 1.79, 1.83, 1.7, 1.69, 1.87, 1.79, 1.79, 1.85, 1.76, 1.88, 1.8, 1.71, 1.76, 1.81, 1.76, 1.74, 1.8, 1.89, 1.85, 1.66, 1.76, 1.93, 1.83, 1.85, 1.85, 2.01, 1.88, 1.65, 1.69, 1.6, 1.91, 1.76, 1.8, 1.84, 1.76, 1.67, 1.77, 1.84, 1.84, 1.81, 2.0, 1.77, 1.76, 1.92, 1.78, 1.68, 1.76, 1.84, 1.7, 1.78, 1.88, 1.93, 1.88, 1.8, 1.72, 1.81, 1.76, 1.87, 1.83, 1.77, 1.8, 1.98, 1.65, 1.66, 1.71, 1.9, 1.8, 1.69, 1.82, 1.72, 1.7, 1.84, 1.69, 1.86, 1.83, 1.92, 1.87, 1.75, 1.78, 1.85, 1.7, 1.73, 1.8, 1.66, 1.84, 1.76, 1.66, 1.77, 1.71, 1.87, 1.84, 1.96, 1.9, 1.76, 1.74, 1.83, 1.83, 1.78, 1.93, 1.76, 1.69, 1.82, 1.82, 1.79, 1.85, 1.9, 1.82, 1.94, 1.75, 1.77, 1.83, 1.67, 1.69, 1.82, 1.88, 1.8, 1.83, 1.72, 1.88, 1.78, 1.69, 1.9, 1.85, 1.92, 1.9, 1.71, 1.74, 1.85, 1.88, 1.82, 1.87, 1.95, 1.84, 1.97, 1.75, 1.78, 1.68, 1.8, 1.8, 1.75, 1.86, 1.77, 1.8, 1.67, 1.77, 1.8, 1.82, 1.7, 1.72, 1.79, 1.71, 1.76, 1.69, 1.78, 1.85, 1.77, 1.86, 1.89, 1.8, 1.8, 1.62, 1.97, 1.89, 1.76, 1.75, 1.99, 1.68, 1.97, 1.78, 1.76, 1.72, 1.85, 1.74, 1.89, 1.78, 1.76, 1.74, 1.91, 1.75, 1.67, 1.81, 1.75, 1.93, 1.8, 1.77, 1.76, 1.66, 1.79, 1.79, 1.58, 1.78, 1.73, 1.71, 1.8, 1.74, 1.79, 1.86, 1.9, 2.0, 1.74, 1.8, 1.86, 1.77, 1.74, 1.8, 1.83, 1.79, 1.91, 1.76, 1.85, 1.75, 1.77, 1.79, 1.83, 1.8, 1.8, 1.69, 1.71, 1.73, 1.91, 1.72, 1.7, 1.85, 1.77, 1.74, 1.74, 1.91, 1.82, 1.75, 1.79, 1.83, 1.92, 1.76, 1.94, 1.78, 1.83, 1.78, 1.85, 1.75, 1.87, 1.9, 1.83, 1.81, 1.65, 1.74, 1.61, 2.07, 1.77, 1.69, 1.79, 1.87, 1.75, 1.88, 1.8, 1.83, 1.72, 1.79, 1.87, 1.79, 1.97, 1.82, 1.64, 1.94, 1.71, 1.79, 1.71, 1.71, 1.77, 1.72, 1.75, 1.7, 1.87, 1.82, 1.84, 1.76, 1.71, 1.96, 1.82, 1.82, 1.75, 1.72, 1.81, 1.73, 1.73, 1.76, 1.95, 1.83, 1.86, 1.55, 1.71, 1.8, 1.64, 1.69, 1.88, 1.77, 1.8, 1.76, 1.68, 1.87, 1.77, 1.74, 1.71, 1.81, 1.86, 1.66, 1.89, 1.78, 1.74, 1.75, 1.69, 1.8, 1.74, 1.78, 1.73, 1.65, 1.73, 1.84, 1.75, 1.95, 1.79, 1.85, 1.76, 1.89, 1.87, 1.85, 1.82, 1.77, 1.79]\n"
     ]
    }
   ],
   "source": [
    "N = 3\n",
    "P = 0.6\n",
    "R = 1000\n",
    "means = []\n",
    "S = 100\n",
    "np.random.seed(0)\n",
    "for i in range(R):\n",
    "    x = np.random.binomial(N, P, size=S)\n",
    "    mean = np.mean(x)\n",
    "    means.append(mean)\n",
    "print(means)"
   ]
  },
  {
   "cell_type": "code",
   "execution_count": null,
   "id": "8cbfdcbb-650e-477d-b262-4a4d5a71d6c7",
   "metadata": {},
   "outputs": [],
   "source": [
    "n = R\n",
    "mean = sum(means) / R\n",
    "variance = sum((x - mean) ** 2 for x in means) / R\n",
    "print(variance)"
   ]
  },
  {
   "cell_type": "markdown",
   "id": "43e4cf90-342a-4642-a90c-71fb67bda61d",
   "metadata": {},
   "source": [
    "**7) Explain why variance of mean gets smaller when sample size S gets larger.**"
   ]
  },
  {
   "cell_type": "markdown",
   "id": "2f9d3aaa-b6ff-4b74-8326-322855b385a6",
   "metadata": {},
   "source": [
    "It's because of the central limit theorem, which states that as the sample size increases, the distribution of the sample means becomes increasingly normal, regardless of the underlying distribution of the population."
   ]
  }
 ],
 "metadata": {
  "kernelspec": {
   "display_name": "Python 3 (ipykernel)",
   "language": "python",
   "name": "python3"
  },
  "language_info": {
   "codemirror_mode": {
    "name": "ipython",
    "version": 3
   },
   "file_extension": ".py",
   "mimetype": "text/x-python",
   "name": "python",
   "nbconvert_exporter": "python",
   "pygments_lexer": "ipython3",
   "version": "3.9.7"
  }
 },
 "nbformat": 4,
 "nbformat_minor": 5
}
