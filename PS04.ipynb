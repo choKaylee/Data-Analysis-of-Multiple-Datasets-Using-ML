{
 "cells": [
  {
   "cell_type": "markdown",
   "id": "9f487c28-0e48-480c-88d6-7a5613876edf",
   "metadata": {},
   "source": [
    "# PS04: CLT and hypothesis testing\n",
    "## Name: Kaylee Cho\n",
    "### Date: 2023/04/29"
   ]
  },
  {
   "cell_type": "markdown",
   "id": "c8c96cf2-4e1a-4a92-be37-2c4ee63af78b",
   "metadata": {},
   "source": [
    "### 1) Explore Central Limit Theorem"
   ]
  },
  {
   "cell_type": "code",
   "execution_count": 161,
   "id": "2323be5a-46d6-4a6c-a3d1-ce4323d9f0f9",
   "metadata": {},
   "outputs": [],
   "source": [
    "import numpy as np\n",
    "import matplotlib.pyplot as plt\n",
    "import seaborn as sns\n",
    "import math as math\n",
    "import pandas as pd\n",
    "from scipy import stats"
   ]
  },
  {
   "cell_type": "code",
   "execution_count": 98,
   "id": "fc9fff05-711c-4034-b76d-001e983e8e85",
   "metadata": {},
   "outputs": [
    {
     "data": {
      "text/plain": [
       "array([-1,  1,  1, -1,  1,  1,  1,  1,  1,  1])"
      ]
     },
     "execution_count": 98,
     "metadata": {},
     "output_type": "execute_result"
    }
   ],
   "source": [
    "np.random.seed(0)\n",
    "X = np.random.randint(0, 2, size=10)*2 - 1\n",
    "X"
   ]
  },
  {
   "cell_type": "markdown",
   "id": "c6cab6cf-d6b1-47e7-8606-55bb4839f649",
   "metadata": {},
   "source": [
    "**1) What is a random varialbe(RV)? What makes X a RV?**\n",
    "\\\n",
    "Random variable(RV) is a variable that assumes numerical values associated with the random outcomes of an experiment, where only one numerical value is assigned to each smaple point. To understang what X is here, we can think of an experiment where a coin is tossed three times. Since the number range on the exmaple above doesn't make sense because it contains negative numbers, if we think of it as positive number, X represents the number of times that the coin comes up heads, then X is a discrete random variable that can only have the values 0, 1, 2, or 3.\n",
    "Also in this case, the randint() method returns an integer number selected element from the specified range and the random method selects random numbers within the range of number selected."
   ]
  },
  {
   "cell_type": "markdown",
   "id": "e4c8d386-2575-4ceb-a065-2fbeac9b42cd",
   "metadata": {},
   "source": [
    "**2) Calculate the expected value and variance of this random variable. Explain what is the difference between expected value and the sample mean.**"
   ]
  },
  {
   "cell_type": "code",
   "execution_count": 99,
   "id": "9f69904b-650c-4c1e-8f37-37fd05a8a34a",
   "metadata": {},
   "outputs": [
    {
     "name": "stdout",
     "output_type": "stream",
     "text": [
      "Expected Value: 0.6\n",
      "Variance: 0.7111111111111114\n"
     ]
    }
   ],
   "source": [
    "# expected value calculation\n",
    "sum_of_array = sum(X)\n",
    "sum_of_array\n",
    "num_of_elements = len(X)\n",
    "num_of_elements\n",
    "expected_value = sum_of_array/num_of_elements\n",
    "print(\"Expected Value:\", expected_value)\n",
    "# variance calculation\n",
    "# use formula variance = (sum of (x-mean)^2) / (n-1)\n",
    "mean = sum(X)/len(X)\n",
    "squared_diff = [(x - mean) ** 2 for x in X]\n",
    "sum_squared_diff = sum(squared_diff)\n",
    "variance = sum_squared_diff / (len(X) - 1)\n",
    "print(\"Variance:\", variance)"
   ]
  },
  {
   "cell_type": "markdown",
   "id": "94c48ad6-0edb-4496-a178-a2eab86f2513",
   "metadata": {},
   "source": [
    "The difference between expected value and sample mean is that the expected value is a population parameter, while the sample mean is a statistic calculated from a sample of the population. Therefore, the expected value is a theoretical concept that describes the long-term average which tells you what you would expect to happen in the long run, while the sample mean is a statistical estimate of the population mean based on a sample of data which tells you what happened in a particular sample."
   ]
  },
  {
   "cell_type": "markdown",
   "id": "596d2a1a-48d0-4a0a-83f0-bb9f521ac0e0",
   "metadata": {},
   "source": [
    "**3) Choose your number of repetitions R. 1000 is a good number but you can also take 10,000 or 100,000 to get smoother histograms.**\n",
    "\\\n",
    "*(Note: Number of repititions R is not the same as sample size S here. You will create samples of size S for R times below. For instance, you will create R = 10000 times a sample of size S = 10.)*"
   ]
  },
  {
   "cell_type": "code",
   "execution_count": 100,
   "id": "602468d0-b79f-4402-8e2f-92dfea2a9577",
   "metadata": {},
   "outputs": [],
   "source": [
    "R = 1000\n",
    "# I will take this as my R value!"
   ]
  },
  {
   "cell_type": "markdown",
   "id": "d10cf01a-e86c-4ae4-9b01-f35fe834d3b4",
   "metadata": {},
   "source": [
    "**4) Create a vector of R random realizations of X. Make a histogram of those. Comment the shape of the histogram.**\n",
    "\\\n",
    "*Note: in this case we have R = 1000 repetitions and samples are of size S = 1 as we look at individual realizations.*"
   ]
  },
  {
   "cell_type": "code",
   "execution_count": 101,
   "id": "d700c4c8-422b-4196-a734-8cd94ef7efed",
   "metadata": {
    "tags": []
   },
   "outputs": [
    {
     "data": {
      "image/png": "[encoded data removed]",
      "text/plain": [
       "<Figure size 432x288 with 1 Axes>"
      ]
     },
     "metadata": {
      "needs_background": "light"
     },
     "output_type": "display_data"
    }
   ],
   "source": [
    "np.random.seed(0)\n",
    "X = np.random.randint(0, 2, size=1)*2 - 1\n",
    "R = 1000\n",
    "# Generate matrix of random realizations\n",
    "realizations = np.random.randint(0, 2, size=(R,1))*2 - 1\n",
    "#Plot histogram of realizations\n",
    "_ = plt.hist(realizations.flatten(), bins=100)\n",
    "_ = plt.title(\"realization histogram\")\n",
    "_ = plt.xlabel(\"value\")\n",
    "_ = plt.ylabel(\"frequency\")\n",
    "_ = plt.show()"
   ]
  },
  {
   "cell_type": "markdown",
   "id": "05318081-43ce-4525-9ca5-2553ff0a652d",
   "metadata": {},
   "source": [
    "Comment: \n",
    "\\\n",
    "The histogram has 2 bins and shows the frequency of each value of the randomly generated realizations. This contains both value of -1 and 1. Both values are around 5000 frequency!\n",
    "\\\n",
    "Also, flatten() method in Python is used to return a copy of a given array in such a way that it is collapsed into one dimension."
   ]
  },
  {
   "cell_type": "markdown",
   "id": "b9fd25c3-ca06-4e0d-bee2-cfc2bd20a598",
   "metadata": {},
   "source": [
    "**5) Compute and report mean and variance of the sample you created (just use np.mean and np.var).**"
   ]
  },
  {
   "cell_type": "code",
   "execution_count": 102,
   "id": "2c90ade9-83a7-4de5-9b77-f5e5a2bdc48a",
   "metadata": {},
   "outputs": [
    {
     "name": "stdout",
     "output_type": "stream",
     "text": [
      "mean: -1.0 variance 0.0\n"
     ]
    }
   ],
   "source": [
    "mean = np.mean(X)\n",
    "var = np.var(X)\n",
    "print(\"mean:\", mean, \"variance\", var)"
   ]
  },
  {
   "cell_type": "markdown",
   "id": "5b35400c-a818-4119-903c-0aaa06ff14f7",
   "metadata": {},
   "source": [
    "**6) Now create R pairs of random realizations of X (i.e. sample size S=2). For each pair, compute its mean. You should have R mean values. Make the histogram. How does this look like?**"
   ]
  },
  {
   "cell_type": "code",
   "execution_count": 121,
   "id": "17e3cb70-af33-4e07-974f-9433b1896085",
   "metadata": {},
   "outputs": [
    {
     "data": {
      "image/png": "[encoded data removed]",
      "text/plain": [
       "<Figure size 432x288 with 1 Axes>"
      ]
     },
     "metadata": {
      "needs_background": "light"
     },
     "output_type": "display_data"
    }
   ],
   "source": [
    "np.random.seed(0)\n",
    "R = 1000\n",
    "mean = []\n",
    "# Generate matrix of random realizations\n",
    "for i in range(1000):\n",
    "    realizations = np.random.randint(0, 2, size=2)*2 - 1\n",
    "    # Compute mean of each pair of realizations\n",
    "    means = np.mean(realizations)\n",
    "    mean.append(means)\n",
    "#Plot histogram of realizations\n",
    "_ = plt.hist(mean, bins=100)\n",
    "_ = plt.title(\"realization histogram\")\n",
    "_ = plt.xlabel(\"mean value\")\n",
    "_ = plt.ylabel(\"frequency\")\n",
    "_ = plt.show()"
   ]
  },
  {
   "cell_type": "markdown",
   "id": "d10cec40-e360-4d66-9306-920bae28a244",
   "metadata": {},
   "source": [
    "Comment: The shape of the histogram looks similar to the graph above, but the values of x axis and y axis are now different. The x axis here represents the mean value and y axis represents the frequency of the mean value calculated from the realization based on 1000 repetition trials."
   ]
  },
  {
   "cell_type": "markdown",
   "id": "0ae5989d-631c-4d1b-aaa6-57ef649d032f",
   "metadata": {},
   "source": [
    "**7) Compute and report mean of the R pair means, and variance of the means. NB! we talk about sample mean and sample variance again, where sample is your sample of R pair means.**"
   ]
  },
  {
   "cell_type": "code",
   "execution_count": 104,
   "id": "9ae0c261-a181-487a-9c43-afc55389ff54",
   "metadata": {},
   "outputs": [
    {
     "name": "stdout",
     "output_type": "stream",
     "text": [
      "mean of means 0.02 | variance of means 0.4716\n"
     ]
    }
   ],
   "source": [
    "np.random.seed(0)\n",
    "X = np.random.randint(0, 2, size=1)*2 - 1\n",
    "R = 1000\n",
    "# Generate matrix of random realizations\n",
    "realizations = np.random.randint(0, 2, size=(R,2))*2 - 1\n",
    "# Compute mean of each pair of realizations\n",
    "means = np.mean(realizations, axis=1)\n",
    "mean_of_means = np.mean(means)\n",
    "var_of_means = np.var(means)\n",
    "print(\"mean of means\", mean_of_means, \"| variance of means\", var_of_means)"
   ]
  },
  {
   "cell_type": "markdown",
   "id": "bec5815c-c157-4446-b68a-fc107f81a606",
   "metadata": {},
   "source": [
    "**8) Compute the expected value and variance of the pair means, i.e. the theretical concepts. This mirrors what you did in 2. \\\n",
    "Compare the theoretical values with the sample values above. Are those fairly similar? Note that according to CLT, the variance of a pair mean should be just 1/2 of what you got above as for pairs S = 2.**"
   ]
  },
  {
   "cell_type": "code",
   "execution_count": 105,
   "id": "2e93ed6f-9608-4ceb-9fe7-487a0a814822",
   "metadata": {},
   "outputs": [
    {
     "name": "stdout",
     "output_type": "stream",
     "text": [
      "Expected Value: 0.02\n",
      "Variance: 0.47207207207207413\n"
     ]
    }
   ],
   "source": [
    "# expected value calculation\n",
    "sum_of_mean = sum(means)\n",
    "sum_of_mean\n",
    "num_of_mean = len(means)\n",
    "num_of_mean\n",
    "expected_value = sum_of_mean/num_of_mean\n",
    "print(\"Expected Value:\", expected_value)\n",
    "# variance calculation\n",
    "# use formula variance = (sum of (x-mean)^2) / (n-1)\n",
    "mean = sum(means)/len(means)\n",
    "squared_diff = [(x - mean) ** 2 for x in means]\n",
    "sum_squared_diff = sum(squared_diff)\n",
    "variance = sum_squared_diff / (len(means) - 1)\n",
    "print(\"Variance:\", variance)"
   ]
  },
  {
   "cell_type": "markdown",
   "id": "dce0e284-395f-444f-abd2-a32f24a6b8fb",
   "metadata": {},
   "source": [
    "**9) Now instead of pairs of random numbers, repeat this with 5-tuples of random numbers (i.e. S=5 random numbers per one repetition, and still the same R = 1000 or whatever you chose repetitions in total). Compare the theoretical and sample version of mean and variance of 5-tuples. Are they similar? Do you spot any noticeable differences in the histogram compared to your previous histogram?**"
   ]
  },
  {
   "cell_type": "code",
   "execution_count": 122,
   "id": "85d40290-78c7-4044-ba6f-8833290b1d6e",
   "metadata": {},
   "outputs": [
    {
     "data": {
      "image/png": "[encoded data removed]",
      "text/plain": [
       "<Figure size 432x288 with 1 Axes>"
      ]
     },
     "metadata": {
      "needs_background": "light"
     },
     "output_type": "display_data"
    },
    {
     "name": "stdout",
     "output_type": "stream",
     "text": [
      "mean of means 1.0 | variance of means 0.0\n"
     ]
    }
   ],
   "source": [
    "np.random.seed(0)\n",
    "R = 1000\n",
    "mean = []\n",
    "# Generate matrix of random realizations\n",
    "for i in range(1000):\n",
    "    realizations = np.random.randint(0, 2, size=5)*2 - 1\n",
    "    # Compute mean of each pair of realizations\n",
    "    means = np.mean(realizations)\n",
    "    mean.append(means)\n",
    "#Plot histogram of realizations\n",
    "_ = plt.hist(mean, bins=100)\n",
    "_ = plt.title(\"realization histogram\")\n",
    "_ = plt.xlabel(\"mean value\")\n",
    "_ = plt.ylabel(\"frequency\")\n",
    "_ = plt.show()\n",
    "mean_of_means = np.mean(means)\n",
    "var_of_means = np.var(means)\n",
    "print(\"mean of means\", mean_of_means, \"| variance of means\", var_of_means)"
   ]
  },
  {
   "cell_type": "markdown",
   "id": "07baefc8-8785-4b6a-8372-40227d406508",
   "metadata": {},
   "source": [
    "Because we have five tuples as a sample, the histogram above becomes a graph with six bars and the fact that it goes from the range of -1 to 1 and the shape of the histogram is bell curved instead of having two spearate bars on each edge is the biggest difference."
   ]
  },
  {
   "cell_type": "markdown",
   "id": "7ddcb806-7898-4974-85d0-d008e0f8eca4",
   "metadata": {},
   "source": [
    "**10) Repeat with 25 tuples...\n",
    "\\\n",
    "(Also, compute the expectation and theoretical variance, and compare those with sample mean, sample variance)**"
   ]
  },
  {
   "cell_type": "code",
   "execution_count": 144,
   "id": "adec5941-53e0-4025-8639-1d757224101c",
   "metadata": {},
   "outputs": [
    {
     "data": {
      "image/png": "[encoded data removed]",
      "text/plain": [
       "<Figure size 432x288 with 1 Axes>"
      ]
     },
     "metadata": {
      "needs_background": "light"
     },
     "output_type": "display_data"
    },
    {
     "name": "stdout",
     "output_type": "stream",
     "text": [
      "mean of means 0.00432 | variance of means 0.0411589376\n",
      "Theoretical Variance: 0.04120013773773794\n",
      "Theoretical expectation 0.004319999999999995\n"
     ]
    }
   ],
   "source": [
    "np.random.seed(0)\n",
    "X = np.random.randint(0, 2, size=1)*2 - 1\n",
    "R = 1000\n",
    "# Generate matrix of random realizations (sample size = 25)\n",
    "realizations = np.random.randint(0, 2, size=(R,25))*2 - 1\n",
    "# Compute mean of each pair of realizations\n",
    "means = np.mean(realizations, axis=1)\n",
    "#Plot histogram of realizations\n",
    "_ = plt.hist(means, bins=50)\n",
    "_ = plt.title(\"realization histogram\")\n",
    "_ = plt.xlabel(\"mean value\")\n",
    "_ = plt.ylabel(\"frequency\")\n",
    "_ = plt.show()\n",
    "# calculating sample mean, sample variance\n",
    "mean_of_means = np.mean(means)\n",
    "var_of_means = np.var(means)\n",
    "print(\"mean of means\", mean_of_means, \"| variance of means\", var_of_means)\n",
    "# calculating theoretical variance\n",
    "mean = sum(means)/len(means)\n",
    "squared_diff = [(x - mean) ** 2 for x in means]\n",
    "sum_squared_diff = sum(squared_diff)\n",
    "variance = sum_squared_diff / (len(means) - 1)\n",
    "print(\"Theoretical Variance:\", variance)\n",
    "# computing expectation (long term: mean)\n",
    "mean = sum(means)/len(means)\n",
    "print(\"Theoretical expectation\", mean)"
   ]
  },
  {
   "cell_type": "markdown",
   "id": "aa7a1e62-aa8f-4490-b46c-bce0dab295d0",
   "metadata": {},
   "source": [
    "**11) ...and with 1000 tuples. Do not forget to compare with theoretical results.**"
   ]
  },
  {
   "cell_type": "code",
   "execution_count": 135,
   "id": "b07dc6c4-9283-446d-aa6d-9de4bd4bdbb9",
   "metadata": {},
   "outputs": [
    {
     "data": {
      "image/png": "[encoded data removed]",
      "text/plain": [
       "<Figure size 432x288 with 1 Axes>"
      ]
     },
     "metadata": {
      "needs_background": "light"
     },
     "output_type": "display_data"
    },
    {
     "name": "stdout",
     "output_type": "stream",
     "text": [
      "mean of means -0.001514 | variance of means 0.000964879804\n",
      "Theoretical Variance: 0.0009658456496496428\n",
      "Theoretical expectation -0.0015140000000000004\n"
     ]
    }
   ],
   "source": [
    "np.random.seed(0)\n",
    "X = np.random.randint(0, 2, size=1)*2 - 1\n",
    "R = 1000\n",
    "# Generate matrix of random realizations (sample size = 25)\n",
    "realizations = np.random.randint(0, 2, size=(R,1000))*2 - 1\n",
    "# Compute mean of each pair of realizations\n",
    "means = np.mean(realizations, axis=1)\n",
    "#Plot histogram of realizations\n",
    "_ = plt.hist(means, bins=100)\n",
    "_ = plt.title(\"realization histogram\")\n",
    "_ = plt.xlabel(\"mean value\")\n",
    "_ = plt.ylabel(\"frequency\")\n",
    "_ = plt.show()\n",
    "# calculating sample mean, sample variance\n",
    "mean_of_means = np.mean(means)\n",
    "var_of_means = np.var(means)\n",
    "print(\"mean of means\", mean_of_means, \"| variance of means\", var_of_means)\n",
    "# calculating theoretical variance\n",
    "mean = sum(means)/len(means)\n",
    "squared_diff = [(x - mean) ** 2 for x in means]\n",
    "sum_squared_diff = sum(squared_diff)\n",
    "variance = sum_squared_diff / (len(means) - 1)\n",
    "print(\"Theoretical Variance:\", variance)\n",
    "# computing expectation (long term: mean)\n",
    "mean = sum(means)/len(means)\n",
    "print(\"Theoretical expectation\", mean)"
   ]
  },
  {
   "cell_type": "markdown",
   "id": "ac3a439f-0dfa-4ed8-85aa-2832007b90d5",
   "metadata": {},
   "source": [
    "As the tuple size increases, the shape of teh histogram becomes more bell curved and the distributions of the samples are not skewed in one part, but fairly evenly distributed compared to previous histograms with smaller tuple sizes."
   ]
  },
  {
   "cell_type": "markdown",
   "id": "e88f6087-2b4c-46f4-9f3b-7ab1e6c89266",
   "metadata": {},
   "source": [
    "**13) Explain why do the histograms resemble normal distribution as S grows.\n",
    "\\\n",
    "In particular, explain what happens when we move from single values S = 1 to pairs S = 2. Why did two equal peaks turn into a \"| _ |\" shaped histogram?**"
   ]
  },
  {
   "cell_type": "markdown",
   "id": "d2962b6d-6e71-4dcb-8c56-0ea67b2e59a9",
   "metadata": {},
   "source": [
    "As we increase the sample size, the distribution of the sample mean becomes more normal due to the central limit theorem.\n",
    "\\\n",
    "When we move from a single value to pairs, the hitogram changes shape because the values '-1' and '1' are less likely to occur than the values '0' and '1/2'. This results in the two equal peaks being concentrated towards the middle, and the histogram taking on a roughly \"| _ |\" shape."
   ]
  },
  {
   "cell_type": "markdown",
   "id": "c63f4439-1337-46d1-af53-a21b7e8d69c0",
   "metadata": {},
   "source": [
    "**14) Explain the difference between R and S. How do changing these values affect the histograms?**"
   ]
  },
  {
   "cell_type": "markdown",
   "id": "7d83ddc1-0a6f-4dd3-bfb1-e8671c9f9ecb",
   "metadata": {},
   "source": [
    "R represetns the number of times we repeat the experiment, each time collecting a new set of S [represents number of samples we collect in each data set] samples. Increasing R makes the histogram smoother and more stable, while increasing S makes histogram closer to he underlying distribution. Decreasing R and S would have the opposite effects."
   ]
  },
  {
   "cell_type": "markdown",
   "id": "180d38a0-afba-4db9-8709-d63e2bf050ad",
   "metadata": {},
   "source": [
    "## Is poverty in Azraq refugee camp falling? (50pts)"
   ]
  },
  {
   "cell_type": "markdown",
   "id": "9cf3a9a6-9c6f-4ab2-a82e-3d157d29cb61",
   "metadata": {},
   "source": [
    "### 2.1) Background"
   ]
  },
  {
   "cell_type": "markdown",
   "id": "921b2fbb-432d-45be-8609-95bb3a1cc854",
   "metadata": {},
   "source": [
    "**1) What was the abject poverty in Azraq camp in Q1 and Q2 2022 (when including all assistance)? Lets call these variables P1 and P2.**"
   ]
  },
  {
   "cell_type": "code",
   "execution_count": 109,
   "id": "b85a7641-adcc-4cb8-861a-1d6f669c6f7b",
   "metadata": {},
   "outputs": [],
   "source": [
    "# abject poverty in Azraq camp in 2022-Q1 and 2022-Q2\n",
    "p1 = 0.66\n",
    "p2 = 0.51"
   ]
  },
  {
   "cell_type": "markdown",
   "id": "b8131fe2-b765-4269-a5cb-dc2bee50ba42",
   "metadata": {},
   "source": [
    "**2) How many households were surveryed in the camp? Call this sample size S.**"
   ]
  },
  {
   "cell_type": "code",
   "execution_count": 110,
   "id": "3b6d98e5-8465-4e15-8b9e-a2aa777ceb3c",
   "metadata": {},
   "outputs": [],
   "source": [
    "S = 325"
   ]
  },
  {
   "cell_type": "markdown",
   "id": "87ed8e9e-c85f-4f60-8db2-2d1ff9530069",
   "metadata": {},
   "source": [
    "### 2.2) Simulations"
   ]
  },
  {
   "cell_type": "markdown",
   "id": "30fb3517-d653-4b2f-833c-d19620d4a7c6",
   "metadata": {},
   "source": [
    "**1) Create a random sample using the correct values of S and p2 you found in 2.1 above.**"
   ]
  },
  {
   "cell_type": "code",
   "execution_count": 111,
   "id": "c69c5d0c-7cdf-4590-83be-471bebfb3b89",
   "metadata": {},
   "outputs": [
    {
     "data": {
      "text/plain": [
       "array([0, 0, 0, 0, 1, 0, 1, 0, 0, 1, 0, 0, 0, 0, 1, 1, 1, 0, 0, 0, 0, 0,\n",
       "       1, 0, 1, 0, 1, 0, 0, 1, 1, 0, 1, 0, 1, 0, 0, 0, 0, 0, 1, 1, 0, 1,\n",
       "       0, 0, 1, 1, 1, 1, 0, 1, 0, 1, 1, 1, 0, 1, 1, 1, 1, 1, 0, 1, 1, 1,\n",
       "       0, 1, 0, 1, 0, 1, 0, 0, 0, 1, 1, 1, 1, 1, 1, 1, 1, 0, 0, 1, 0, 1,\n",
       "       0, 0, 1, 0, 1, 0, 1, 1, 0, 1, 0, 1, 0, 1, 0, 0, 1, 0, 0, 0, 1, 0,\n",
       "       1, 0, 0, 1, 0, 1, 0, 0, 0, 0, 0, 1, 0, 0, 1, 0, 1, 1, 0, 1, 0, 1,\n",
       "       1, 1, 0, 0, 0, 0, 0, 1, 0, 1, 1, 0, 0, 0, 1, 0, 0, 0, 1, 0, 1, 0,\n",
       "       1, 0, 0, 0, 1, 1, 0, 1, 0, 0, 0, 0, 1, 1, 0, 1, 0, 1, 1, 1, 0, 1,\n",
       "       1, 0, 0, 1, 1, 0, 0, 1, 0, 0, 0, 0, 0, 1, 1, 1, 1, 0, 0, 1, 1, 1,\n",
       "       1, 1, 1, 0, 1, 1, 1, 1, 0, 1, 0, 0, 0, 1, 0, 1, 1, 0, 1, 1, 0, 0,\n",
       "       0, 0, 1, 0, 1, 0, 0, 1, 0, 0, 1, 1, 0, 1, 1, 1, 1, 1, 1, 0, 0, 1,\n",
       "       0, 1, 0, 1, 0, 1, 1, 1, 1, 0, 0, 0, 0, 1, 0, 0, 0, 1, 1, 1, 1, 0,\n",
       "       0, 0, 1, 0, 1, 1, 0, 0, 1, 0, 1, 0, 0, 0, 0, 0, 1, 0, 0, 1, 1, 1,\n",
       "       0, 1, 1, 0, 1, 1, 0, 1, 0, 1, 1, 0, 0, 0, 0, 0, 1, 1, 1, 1, 1, 1,\n",
       "       0, 1, 0, 1, 1, 1, 0, 1, 1, 0, 0, 0, 1, 1, 1, 1, 1])"
      ]
     },
     "execution_count": 111,
     "metadata": {},
     "output_type": "execute_result"
    }
   ],
   "source": [
    "S = 325\n",
    "p2 = 0.51\n",
    "np.random.seed(0)\n",
    "np.random.binomial(1, p2, size=S)"
   ]
  },
  {
   "cell_type": "markdown",
   "id": "56f7f412-9055-4a64-b2bc-7f097b36fbd6",
   "metadata": {},
   "source": [
    "**2) Compute the sample mean and compare it with P1 and P2 above. How close is it to these figures?**"
   ]
  },
  {
   "cell_type": "code",
   "execution_count": 131,
   "id": "01c5bab3-1b7b-4cd2-b1d2-32e62782565f",
   "metadata": {},
   "outputs": [
    {
     "data": {
      "text/plain": [
       "0.5138461538461538"
      ]
     },
     "execution_count": 131,
     "metadata": {},
     "output_type": "execute_result"
    }
   ],
   "source": [
    "x = np.random.binomial(1, p2, size=S)\n",
    "np.random.seed(0)\n",
    "np.mean(x)"
   ]
  },
  {
   "cell_type": "markdown",
   "id": "d8860e5f-63f3-4218-9b7b-f7d70e3fd0e8",
   "metadata": {},
   "source": [
    "The value is actually close to the value of p2."
   ]
  },
  {
   "cell_type": "markdown",
   "id": "3c252f4f-6181-41af-af23-6bb36b9f7164",
   "metadata": {},
   "source": [
    "**3) Pick your number of replications R (something like 1000 or 10,000 are good numbers).**"
   ]
  },
  {
   "cell_type": "code",
   "execution_count": null,
   "id": "fc4a9075-5b28-4b4f-91bb-091d59003daf",
   "metadata": {},
   "outputs": [],
   "source": [
    "R = 1000"
   ]
  },
  {
   "cell_type": "markdown",
   "id": "85565cb0-15e7-467d-8d4c-c45f70589ad9",
   "metadata": {},
   "source": [
    "**4) Repeat the points 1 and 2 for R times: create sample, compute the average, but also store the average in an array. You should have R averages now.**"
   ]
  },
  {
   "cell_type": "code",
   "execution_count": 150,
   "id": "cec3c300-c44f-40e5-a482-40c46b0e0f5a",
   "metadata": {},
   "outputs": [
    {
     "name": "stdout",
     "output_type": "stream",
     "text": [
      "[0.49846153846153846, 0.52, 0.5661538461538461, 0.49846153846153846, 0.4584615384615385, 0.5046153846153846, 0.49538461538461537, 0.5169230769230769, 0.5138461538461538, 0.5261538461538462, 0.5230769230769231, 0.5446153846153846, 0.563076923076923, 0.5046153846153846, 0.5476923076923077, 0.5384615384615384, 0.5076923076923077, 0.5107692307692308, 0.5261538461538462, 0.48615384615384616, 0.5476923076923077, 0.5261538461538462, 0.4676923076923077, 0.556923076923077, 0.5169230769230769, 0.5261538461538462, 0.48615384615384616, 0.52, 0.5292307692307693, 0.5261538461538462, 0.4646153846153846, 0.5692307692307692, 0.5107692307692308, 0.5353846153846153, 0.5046153846153846, 0.5384615384615384, 0.5015384615384615, 0.5538461538461539, 0.48615384615384616, 0.48307692307692307, 0.5538461538461539, 0.48, 0.47692307692307695, 0.5261538461538462, 0.5753846153846154, 0.5323076923076923, 0.49846153846153846, 0.5261538461538462, 0.6061538461538462, 0.5169230769230769, 0.5107692307692308, 0.5230769230769231, 0.5169230769230769, 0.49230769230769234, 0.47692307692307695, 0.49538461538461537, 0.5076923076923077, 0.5138461538461538, 0.48615384615384616, 0.47384615384615386, 0.5046153846153846, 0.5046153846153846, 0.5107692307692308, 0.48307692307692307, 0.4492307692307692, 0.4646153846153846, 0.5138461538461538, 0.5323076923076923, 0.5261538461538462, 0.49230769230769234, 0.49846153846153846, 0.5446153846153846, 0.5538461538461539, 0.5107692307692308, 0.49846153846153846, 0.4492307692307692, 0.5076923076923077, 0.5230769230769231, 0.5353846153846153, 0.5230769230769231, 0.5015384615384615, 0.48923076923076925, 0.47384615384615386, 0.5292307692307693, 0.5353846153846153, 0.4523076923076923, 0.56, 0.49846153846153846, 0.5169230769230769, 0.48923076923076925, 0.5046153846153846, 0.47692307692307695, 0.48307692307692307, 0.5723076923076923, 0.5292307692307693, 0.5076923076923077, 0.5507692307692308, 0.5076923076923077, 0.5538461538461539, 0.49538461538461537, 0.52, 0.52, 0.5230769230769231, 0.5138461538461538, 0.52, 0.48923076923076925, 0.5230769230769231, 0.47692307692307695, 0.5230769230769231, 0.5323076923076923, 0.5323076923076923, 0.5015384615384615, 0.49846153846153846, 0.49846153846153846, 0.5323076923076923, 0.5692307692307692, 0.4646153846153846, 0.5138461538461538, 0.48, 0.5230769230769231, 0.48923076923076925, 0.49538461538461537, 0.5169230769230769, 0.4676923076923077, 0.5015384615384615, 0.48, 0.48, 0.5507692307692308, 0.4676923076923077, 0.56, 0.49538461538461537, 0.5507692307692308, 0.48923076923076925, 0.5261538461538462, 0.49846153846153846, 0.5015384615384615, 0.49230769230769234, 0.5261538461538462, 0.5415384615384615, 0.5353846153846153, 0.49538461538461537, 0.47384615384615386, 0.5015384615384615, 0.5692307692307692, 0.5384615384615384, 0.49538461538461537, 0.5107692307692308, 0.5261538461538462, 0.48923076923076925, 0.5415384615384615, 0.48923076923076925, 0.49230769230769234, 0.47692307692307695, 0.48923076923076925, 0.47384615384615386, 0.48, 0.5107692307692308, 0.5107692307692308, 0.48, 0.5261538461538462, 0.5446153846153846, 0.5107692307692308, 0.5138461538461538, 0.49538461538461537, 0.4553846153846154, 0.5538461538461539, 0.52, 0.49846153846153846, 0.5138461538461538, 0.5107692307692308, 0.56, 0.5076923076923077, 0.48615384615384616, 0.5046153846153846, 0.4707692307692308, 0.5230769230769231, 0.46153846153846156, 0.56, 0.5415384615384615, 0.48, 0.5046153846153846, 0.5107692307692308, 0.49230769230769234, 0.5230769230769231, 0.49538461538461537, 0.5353846153846153, 0.5169230769230769, 0.5076923076923077, 0.5138461538461538, 0.5507692307692308, 0.49230769230769234, 0.5384615384615384, 0.48615384615384616, 0.5692307692307692, 0.5230769230769231, 0.47384615384615386, 0.5076923076923077, 0.48923076923076925, 0.5415384615384615, 0.48307692307692307, 0.52, 0.47692307692307695, 0.49230769230769234, 0.48615384615384616, 0.5384615384615384, 0.5261538461538462, 0.48923076923076925, 0.4584615384615385, 0.52, 0.5015384615384615, 0.5230769230769231, 0.49230769230769234, 0.5261538461538462, 0.5261538461538462, 0.6030769230769231, 0.41846153846153844, 0.5323076923076923, 0.47692307692307695, 0.5107692307692308, 0.5169230769230769, 0.48, 0.48923076923076925, 0.5476923076923077, 0.52, 0.5076923076923077, 0.5261538461538462, 0.49846153846153846, 0.5076923076923077, 0.4707692307692308, 0.5507692307692308, 0.5415384615384615, 0.5015384615384615, 0.52, 0.4369230769230769, 0.5446153846153846, 0.5415384615384615, 0.5415384615384615, 0.5169230769230769, 0.48923076923076925, 0.5138461538461538, 0.5076923076923077, 0.48923076923076925, 0.5415384615384615, 0.48, 0.5753846153846154, 0.47384615384615386, 0.5538461538461539, 0.5784615384615385, 0.48923076923076925, 0.48615384615384616, 0.5138461538461538, 0.5107692307692308, 0.48, 0.4461538461538462, 0.5230769230769231, 0.5538461538461539, 0.5169230769230769, 0.48, 0.5415384615384615, 0.5076923076923077, 0.5169230769230769, 0.5107692307692308, 0.5138461538461538, 0.5323076923076923, 0.48307692307692307, 0.4523076923076923, 0.5353846153846153, 0.563076923076923, 0.47692307692307695, 0.49538461538461537, 0.5261538461538462, 0.49230769230769234, 0.5015384615384615, 0.48615384615384616, 0.5415384615384615, 0.49538461538461537, 0.5046153846153846, 0.5015384615384615, 0.5076923076923077, 0.5292307692307693, 0.5107692307692308, 0.5076923076923077, 0.52, 0.5107692307692308, 0.52, 0.5261538461538462, 0.48615384615384616, 0.49230769230769234, 0.5138461538461538, 0.4646153846153846, 0.5138461538461538, 0.5415384615384615, 0.49538461538461537, 0.46153846153846156, 0.5015384615384615, 0.47384615384615386, 0.4584615384615385, 0.5415384615384615, 0.5138461538461538, 0.48615384615384616, 0.5292307692307693, 0.48615384615384616, 0.5292307692307693, 0.4492307692307692, 0.5507692307692308, 0.5076923076923077, 0.5138461538461538, 0.49230769230769234, 0.5476923076923077, 0.49230769230769234, 0.49846153846153846, 0.48307692307692307, 0.5046153846153846, 0.4523076923076923, 0.5261538461538462, 0.5107692307692308, 0.48, 0.47692307692307695, 0.5138461538461538, 0.556923076923077, 0.5076923076923077, 0.46153846153846156, 0.56, 0.5015384615384615, 0.5015384615384615, 0.5138461538461538, 0.5169230769230769, 0.5015384615384615, 0.5261538461538462, 0.5169230769230769, 0.5138461538461538, 0.5353846153846153, 0.49846153846153846, 0.5107692307692308, 0.5292307692307693, 0.47384615384615386, 0.5292307692307693, 0.47384615384615386, 0.5076923076923077, 0.5138461538461538, 0.4523076923076923, 0.48615384615384616, 0.48307692307692307, 0.5138461538461538, 0.5292307692307693, 0.47692307692307695, 0.49230769230769234, 0.49538461538461537, 0.5292307692307693, 0.48307692307692307, 0.49846153846153846, 0.5138461538461538, 0.5261538461538462, 0.5323076923076923, 0.4646153846153846, 0.49230769230769234, 0.48307692307692307, 0.5507692307692308, 0.5046153846153846, 0.52, 0.48307692307692307, 0.5076923076923077, 0.47384615384615386, 0.5107692307692308, 0.5046153846153846, 0.52, 0.49846153846153846, 0.5169230769230769, 0.5138461538461538, 0.4584615384615385, 0.5446153846153846, 0.48, 0.52, 0.49538461538461537, 0.5076923076923077, 0.46153846153846156, 0.5446153846153846, 0.5169230769230769, 0.5169230769230769, 0.5384615384615384, 0.5046153846153846, 0.56, 0.5230769230769231, 0.49846153846153846, 0.5107692307692308, 0.5076923076923077, 0.48923076923076925, 0.47692307692307695, 0.5353846153846153, 0.4523076923076923, 0.49538461538461537, 0.5138461538461538, 0.5815384615384616, 0.48, 0.5230769230769231, 0.49230769230769234, 0.5261538461538462, 0.5507692307692308, 0.5261538461538462, 0.49538461538461537, 0.4584615384615385, 0.52, 0.48923076923076925, 0.5076923076923077, 0.5046153846153846, 0.49538461538461537, 0.5076923076923077, 0.49538461538461537, 0.49538461538461537, 0.5046153846153846, 0.49538461538461537, 0.563076923076923, 0.5169230769230769, 0.4553846153846154, 0.5169230769230769, 0.5015384615384615, 0.5261538461538462, 0.4646153846153846, 0.5292307692307693, 0.5169230769230769, 0.5076923076923077, 0.49230769230769234, 0.5323076923076923, 0.5292307692307693, 0.5169230769230769, 0.5261538461538462, 0.49846153846153846, 0.5046153846153846, 0.4461538461538462, 0.5353846153846153, 0.5015384615384615, 0.52, 0.5353846153846153, 0.49230769230769234, 0.5292307692307693, 0.5076923076923077, 0.5261538461538462, 0.5415384615384615, 0.52, 0.5138461538461538, 0.5076923076923077, 0.5507692307692308, 0.5169230769230769, 0.5230769230769231, 0.5046153846153846, 0.5169230769230769, 0.49230769230769234, 0.4430769230769231, 0.4707692307692308, 0.4676923076923077, 0.5230769230769231, 0.5046153846153846, 0.5107692307692308, 0.48615384615384616, 0.5292307692307693, 0.5169230769230769, 0.5292307692307693, 0.5353846153846153, 0.49538461538461537, 0.47692307692307695, 0.556923076923077, 0.49538461538461537, 0.5692307692307692, 0.5353846153846153, 0.47384615384615386, 0.4676923076923077, 0.5261538461538462, 0.49538461538461537, 0.47692307692307695, 0.5169230769230769, 0.49846153846153846, 0.5015384615384615, 0.5046153846153846, 0.5230769230769231, 0.5292307692307693, 0.5015384615384615, 0.49846153846153846, 0.5446153846153846, 0.48, 0.48307692307692307, 0.5138461538461538, 0.52, 0.5230769230769231, 0.5230769230769231, 0.5138461538461538, 0.5661538461538461, 0.5076923076923077, 0.48923076923076925, 0.49230769230769234, 0.5261538461538462, 0.48615384615384616, 0.49846153846153846, 0.5415384615384615, 0.5076923076923077, 0.48923076923076925, 0.48923076923076925, 0.48307692307692307, 0.563076923076923, 0.5292307692307693, 0.47692307692307695, 0.5076923076923077, 0.49846153846153846, 0.5353846153846153, 0.52, 0.49846153846153846, 0.4492307692307692, 0.4646153846153846, 0.4707692307692308, 0.5230769230769231, 0.52, 0.5261538461538462, 0.49230769230769234, 0.5384615384615384, 0.4338461538461538, 0.5415384615384615, 0.49538461538461537, 0.4584615384615385, 0.46153846153846156, 0.48, 0.48923076923076925, 0.49230769230769234, 0.5076923076923077, 0.5261538461538462, 0.48923076923076925, 0.5261538461538462, 0.5169230769230769, 0.5323076923076923, 0.5015384615384615, 0.5015384615384615, 0.48615384615384616, 0.49230769230769234, 0.52, 0.4676923076923077, 0.5230769230769231, 0.5138461538461538, 0.48307692307692307, 0.5046153846153846, 0.5261538461538462, 0.5353846153846153, 0.5323076923076923, 0.5076923076923077, 0.49538461538461537, 0.5046153846153846, 0.5107692307692308, 0.48923076923076925, 0.5076923076923077, 0.49846153846153846, 0.47384615384615386, 0.5046153846153846, 0.5107692307692308, 0.5384615384615384, 0.5384615384615384, 0.5138461538461538, 0.48, 0.48923076923076925, 0.48307692307692307, 0.5046153846153846, 0.5261538461538462, 0.47384615384615386, 0.48, 0.47692307692307695, 0.4523076923076923, 0.46153846153846156, 0.5138461538461538, 0.5415384615384615, 0.49230769230769234, 0.49230769230769234, 0.56, 0.49538461538461537, 0.5076923076923077, 0.5169230769230769, 0.5107692307692308, 0.4676923076923077, 0.49230769230769234, 0.49230769230769234, 0.4461538461538462, 0.5353846153846153, 0.52, 0.48, 0.47692307692307695, 0.4707692307692308, 0.5015384615384615, 0.5261538461538462, 0.5815384615384616, 0.5384615384615384, 0.48307692307692307, 0.5353846153846153, 0.56, 0.5138461538461538, 0.48923076923076925, 0.48923076923076925, 0.49230769230769234, 0.5323076923076923, 0.5169230769230769, 0.5384615384615384, 0.48923076923076925, 0.4646153846153846, 0.49230769230769234, 0.48307692307692307, 0.47384615384615386, 0.5415384615384615, 0.5261538461538462, 0.48923076923076925, 0.5230769230769231, 0.48923076923076925, 0.5046153846153846, 0.5076923076923077, 0.48307692307692307, 0.52, 0.48307692307692307, 0.4646153846153846, 0.49538461538461537, 0.4707692307692308, 0.5507692307692308, 0.5169230769230769, 0.5230769230769231, 0.5323076923076923, 0.47692307692307695, 0.4338461538461538, 0.5230769230769231, 0.5015384615384615, 0.49538461538461537, 0.5015384615384615, 0.49230769230769234, 0.5353846153846153, 0.5076923076923077, 0.46153846153846156, 0.5107692307692308, 0.563076923076923, 0.49230769230769234, 0.5323076923076923, 0.5076923076923077, 0.5261538461538462, 0.49846153846153846, 0.5076923076923077, 0.52, 0.56, 0.4707692307692308, 0.48923076923076925, 0.4523076923076923, 0.52, 0.48923076923076925, 0.5292307692307693, 0.52, 0.5076923076923077, 0.49538461538461537, 0.5046153846153846, 0.4553846153846154, 0.56, 0.5384615384615384, 0.5476923076923077, 0.5107692307692308, 0.48615384615384616, 0.5169230769230769, 0.48923076923076925, 0.48923076923076925, 0.5046153846153846, 0.48923076923076925, 0.5046153846153846, 0.4553846153846154, 0.56, 0.5323076923076923, 0.5076923076923077, 0.5261538461538462, 0.5292307692307693, 0.5323076923076923, 0.5353846153846153, 0.5353846153846153, 0.48923076923076925, 0.5323076923076923, 0.5107692307692308, 0.5169230769230769, 0.52, 0.52, 0.48923076923076925, 0.5292307692307693, 0.5538461538461539, 0.47384615384615386, 0.5261538461538462, 0.5507692307692308, 0.5292307692307693, 0.5261538461538462, 0.48615384615384616, 0.4553846153846154, 0.5415384615384615, 0.4707692307692308, 0.5169230769230769, 0.48923076923076925, 0.5107692307692308, 0.48307692307692307, 0.5046153846153846, 0.47384615384615386, 0.5323076923076923, 0.46153846153846156, 0.5384615384615384, 0.5476923076923077, 0.5353846153846153, 0.5230769230769231, 0.5292307692307693, 0.49230769230769234, 0.5046153846153846, 0.46153846153846156, 0.5323076923076923, 0.556923076923077, 0.49538461538461537, 0.4676923076923077, 0.5261538461538462, 0.5692307692307692, 0.49230769230769234, 0.48, 0.5261538461538462, 0.5292307692307693, 0.5015384615384615, 0.5446153846153846, 0.5415384615384615, 0.5046153846153846, 0.5138461538461538, 0.49538461538461537, 0.5107692307692308, 0.5261538461538462, 0.5138461538461538, 0.5353846153846153, 0.5107692307692308, 0.48, 0.52, 0.47692307692307695, 0.4553846153846154, 0.46153846153846156, 0.5384615384615384, 0.5323076923076923, 0.4461538461538462, 0.5230769230769231, 0.49538461538461537, 0.5384615384615384, 0.5138461538461538, 0.47692307692307695, 0.5384615384615384, 0.49538461538461537, 0.4707692307692308, 0.49846153846153846, 0.5230769230769231, 0.49846153846153846, 0.563076923076923, 0.49846153846153846, 0.48307692307692307, 0.5446153846153846, 0.47384615384615386, 0.5323076923076923, 0.5138461538461538, 0.49538461538461537, 0.52, 0.49846153846153846, 0.52, 0.5015384615384615, 0.5230769230769231, 0.5107692307692308, 0.52, 0.5076923076923077, 0.5323076923076923, 0.5507692307692308, 0.5261538461538462, 0.48307692307692307, 0.5046153846153846, 0.5476923076923077, 0.5169230769230769, 0.5230769230769231, 0.5292307692307693, 0.5507692307692308, 0.52, 0.5292307692307693, 0.48923076923076925, 0.5384615384615384, 0.49538461538461537, 0.49846153846153846, 0.5292307692307693, 0.49846153846153846, 0.49538461538461537, 0.5230769230769231, 0.49846153846153846, 0.5138461538461538, 0.48, 0.556923076923077, 0.5046153846153846, 0.5107692307692308, 0.5353846153846153, 0.5076923076923077, 0.5015384615384615, 0.5230769230769231, 0.5046153846153846, 0.48307692307692307, 0.5292307692307693, 0.5138461538461538, 0.5815384615384616, 0.5138461538461538, 0.5138461538461538, 0.5046153846153846, 0.5046153846153846, 0.52, 0.49230769230769234, 0.5107692307692308, 0.5138461538461538, 0.5538461538461539, 0.49230769230769234, 0.5015384615384615, 0.48, 0.5261538461538462, 0.5415384615384615, 0.5107692307692308, 0.5261538461538462, 0.5292307692307693, 0.52, 0.5076923076923077, 0.47692307692307695, 0.49846153846153846, 0.5015384615384615, 0.5446153846153846, 0.5507692307692308, 0.49230769230769234, 0.5415384615384615, 0.5169230769230769, 0.5230769230769231, 0.5230769230769231, 0.5507692307692308, 0.5107692307692308, 0.5138461538461538, 0.4676923076923077, 0.49538461538461537, 0.5046153846153846, 0.5323076923076923, 0.49846153846153846, 0.5415384615384615, 0.48615384615384616, 0.5261538461538462, 0.5415384615384615, 0.5138461538461538, 0.52, 0.5138461538461538, 0.5138461538461538, 0.5076923076923077, 0.5415384615384615, 0.5169230769230769, 0.4369230769230769, 0.52, 0.49230769230769234, 0.4492307692307692, 0.4584615384615385, 0.5076923076923077, 0.49846153846153846, 0.4492307692307692, 0.52, 0.49846153846153846, 0.48923076923076925, 0.5138461538461538, 0.5384615384615384, 0.4553846153846154, 0.48307692307692307, 0.5138461538461538, 0.5476923076923077, 0.5446153846153846, 0.5476923076923077, 0.5292307692307693, 0.5076923076923077, 0.5138461538461538, 0.5107692307692308, 0.48, 0.5415384615384615, 0.5476923076923077, 0.5076923076923077, 0.5784615384615385, 0.5415384615384615, 0.5353846153846153, 0.56, 0.47692307692307695, 0.5230769230769231, 0.48923076923076925, 0.5415384615384615, 0.5476923076923077, 0.5230769230769231, 0.5261538461538462, 0.5538461538461539, 0.49230769230769234, 0.5538461538461539, 0.4676923076923077, 0.5230769230769231, 0.4676923076923077, 0.5046153846153846, 0.5476923076923077, 0.5015384615384615, 0.4676923076923077, 0.49538461538461537, 0.5323076923076923, 0.5230769230769231, 0.4676923076923077, 0.5076923076923077, 0.5446153846153846, 0.4707692307692308, 0.5415384615384615, 0.52, 0.5138461538461538, 0.49230769230769234, 0.47384615384615386, 0.5138461538461538, 0.49538461538461537, 0.5076923076923077, 0.5015384615384615, 0.5169230769230769, 0.5384615384615384, 0.48307692307692307, 0.52, 0.56, 0.5169230769230769, 0.5169230769230769, 0.5107692307692308, 0.5046153846153846, 0.49846153846153846, 0.5107692307692308, 0.46153846153846156, 0.52, 0.5046153846153846, 0.49846153846153846, 0.56, 0.5230769230769231, 0.5538461538461539, 0.52, 0.5261538461538462, 0.48615384615384616, 0.5446153846153846, 0.5138461538461538, 0.5076923076923077, 0.49846153846153846, 0.5261538461538462, 0.49846153846153846, 0.5446153846153846, 0.5015384615384615, 0.6030769230769231, 0.5076923076923077, 0.5138461538461538, 0.5138461538461538, 0.5784615384615385, 0.5015384615384615, 0.49538461538461537, 0.49846153846153846, 0.5692307692307692, 0.48923076923076925, 0.5138461538461538, 0.5138461538461538, 0.5230769230769231, 0.5107692307692308, 0.5507692307692308, 0.5261538461538462, 0.5046153846153846, 0.49846153846153846, 0.5046153846153846, 0.5384615384615384, 0.52, 0.48307692307692307, 0.52, 0.5230769230769231, 0.47384615384615386, 0.5107692307692308, 0.5230769230769231, 0.5138461538461538, 0.4584615384615385, 0.5753846153846154, 0.5261538461538462, 0.5076923076923077, 0.5292307692307693, 0.47384615384615386, 0.5046153846153846, 0.48923076923076925, 0.5538461538461539, 0.49846153846153846, 0.5661538461538461, 0.49230769230769234, 0.49846153846153846, 0.5138461538461538, 0.5046153846153846, 0.5323076923076923, 0.5169230769230769, 0.48307692307692307, 0.5138461538461538, 0.5169230769230769, 0.5230769230769231, 0.5076923076923077, 0.5046153846153846, 0.49230769230769234, 0.5538461538461539, 0.5076923076923077, 0.5292307692307693, 0.5046153846153846, 0.49230769230769234, 0.48923076923076925, 0.5292307692307693, 0.49846153846153846, 0.5815384615384616, 0.5107692307692308, 0.49846153846153846, 0.49538461538461537, 0.5323076923076923, 0.49230769230769234]\n",
      "sample mean: 0.5098153846153832\n"
     ]
    }
   ],
   "source": [
    "np.random.seed(0)\n",
    "means = []\n",
    "for i in range(R):\n",
    "    x = np.random.binomial(1, p2, size=S)\n",
    "    mean = np.mean(x)\n",
    "    means.append(mean)\n",
    "print(means)"
   ]
  },
  {
   "cell_type": "markdown",
   "id": "4c304e81-c9b7-4f71-b8ea-d1b24948d73b",
   "metadata": {},
   "source": [
    "**5) What is the average of the averages? Which probability from 1 does it resemble? Why?**"
   ]
  },
  {
   "cell_type": "code",
   "execution_count": 153,
   "id": "36f97a9a-b36a-4700-8682-d2274a21de8c",
   "metadata": {},
   "outputs": [
    {
     "name": "stdout",
     "output_type": "stream",
     "text": [
      "sample mean: 0.5098153846153832\n"
     ]
    }
   ],
   "source": [
    "average_mean = sum(means)/len(means)\n",
    "print(\"sample mean:\", average_mean)"
   ]
  },
  {
   "cell_type": "markdown",
   "id": "caa5df3a-cff9-4735-a690-e58b212d4f1a",
   "metadata": {},
   "source": [
    "The average of the averages resemble to p2 which is p2 = 0.51 and this is because when we created the random sample we used p2 as our probability value to check if it actually resembles to the survey value and it turns out to be true that it resembles to the p2 probability value which is 0.51"
   ]
  },
  {
   "cell_type": "markdown",
   "id": "cb7372cb-bd4b-4246-b795-b053ff3bbd39",
   "metadata": {},
   "source": [
    "**6) Plot a histogram of the averages. Which distribution does it resemble? What do you say, by just eyeballing the plot, what are the largest and smallest values that are \"reasonably\" common?**"
   ]
  },
  {
   "cell_type": "code",
   "execution_count": 157,
   "id": "c7e88e6f-6421-4acc-8788-b2b37f506deb",
   "metadata": {},
   "outputs": [
    {
     "data": {
      "image/png": "[encoded data removed]",
      "text/plain": [
       "<Figure size 432x288 with 1 Axes>"
      ]
     },
     "metadata": {
      "needs_background": "light"
     },
     "output_type": "display_data"
    }
   ],
   "source": [
    "np.random.seed(0)\n",
    "means = []\n",
    "for i in range(R):\n",
    "    x = np.random.binomial(1, p2, size=S)\n",
    "    mean = np.mean(x)\n",
    "    means.append(mean)\n",
    "_ = plt.hist(means, bins=100)\n",
    "_ = plt.title(\"realization histogram\")\n",
    "_ = plt.xlabel(\"mean value\")\n",
    "_ = plt.ylabel(\"frequency\")\n",
    "_ = plt.show()"
   ]
  },
  {
   "cell_type": "markdown",
   "id": "ed05e6f3-abe5-4e4a-91d8-6215670d9d33",
   "metadata": {},
   "source": [
    "The distribution seems to resemble to the middle of the histogram which is around the value of 0.5 to 0.525 range. By just eyeballing the plot, the largest resonalbly common value is 0.515 and the smallest values is 0.425"
   ]
  },
  {
   "cell_type": "markdown",
   "id": "c71dc17d-75cd-408f-bed1-b004cc247909",
   "metadata": {},
   "source": [
    "**7)  Finally, compute 2.5th and 97.5 percentile and the 95% confidence intervals. Does the Q1 poverty value fall into this interval?**"
   ]
  },
  {
   "cell_type": "code",
   "execution_count": 168,
   "id": "32e5d458-cc11-484c-a1c4-a301ba293e4c",
   "metadata": {},
   "outputs": [
    {
     "name": "stdout",
     "output_type": "stream",
     "text": [
      "2.5th percentile: 0.4553846153846154\n",
      "97.5th percentile: 0.563076923076923\n",
      "95% confidence interval: (0.5081211793187649, 0.5115095899120042)\n"
     ]
    }
   ],
   "source": [
    "# Compute 2.5th and 97.5th pecentile\n",
    "pct_2_5 = np.percentile(means, 2.5)\n",
    "pct_97_5 = np.percentile(means, 97.5)\n",
    "print(\"2.5th percentile:\", pct_2_5)\n",
    "print(\"97.5th percentile:\", pct_97_5)\n",
    "# Compute 95% confidence intervals\n",
    "mean = np.mean(means)\n",
    "std_error = stats.sem(means)\n",
    "ci = stats.norm.interval(0.95, loc=mean, scale=std_error)\n",
    "print(\"95% confidence interval:\", ci)\n",
    "# Q1 doesn't fall into the confidence interval range of 0.66 wheras Q2 does."
   ]
  },
  {
   "cell_type": "markdown",
   "id": "ed871d24-c707-4789-b829-a802783dc85c",
   "metadata": {},
   "source": [
    "### 2.3) Theoretical CI"
   ]
  },
  {
   "cell_type": "markdown",
   "id": "2d5d15b4-4b43-429c-8c08-e6b513d6420d",
   "metadata": {},
   "source": [
    "**1) Compute variance of your sample of X. You can use the Bernoulli variance formula Var X = p(1-p). You can also use the sample you created in 2.2.1, or create a new sample, and find the sample variance.**"
   ]
  },
  {
   "cell_type": "code",
   "execution_count": 176,
   "id": "dd0f4d5c-9ffa-4d2e-a841-f8b66a428ec5",
   "metadata": {},
   "outputs": [
    {
     "name": "stdout",
     "output_type": "stream",
     "text": [
      "sample variance: 0.0007679999999999999\n"
     ]
    }
   ],
   "source": [
    "S = 325\n",
    "p2 = 0.51\n",
    "np.random.seed(0)\n",
    "x = np.random.binomial(1, p2, size=S)\n",
    "# compute proportion of successes in sample\n",
    "p = np.sum(np.random.binomial(1, p2, size=S))/S\n",
    "var_x = p * (1 - p) / S\n",
    "print(\"sample variance:\", var_x)"
   ]
  },
  {
   "cell_type": "markdown",
   "id": "7752afbd-ffff-4524-abc0-43d686c8528f",
   "metadata": {},
   "source": [
    "**2) But this was variance of X (or sample variance if that was what you computed). What we need is variance of sample mean. What does CLT tell about relationship b/w sample variance and variance of the sample mean?**"
   ]
  },
  {
   "cell_type": "markdown",
   "id": "626959f7-06f6-4d0f-9288-be065da9d957",
   "metadata": {},
   "source": [
    "CLT tells us that as the sample size increases, the distribution of the sample mean becomes approximately normal regardless of the distribution of the original population. Additionaly, the variance of the sample mean is inversely proportional to the sample size. Therefore, as sample size increases, the variance of the sample mean decreases."
   ]
  },
  {
   "cell_type": "code",
   "execution_count": 192,
   "id": "b4fc0e19-df3a-413b-b996-a0ec0cb42ec6",
   "metadata": {},
   "outputs": [
    {
     "name": "stdout",
     "output_type": "stream",
     "text": [
      "Variance of sample mean: 0.000768923076923077\n"
     ]
    }
   ],
   "source": [
    "np.random.seed(0)\n",
    "means = []\n",
    "p2 = 0.51\n",
    "S = 325\n",
    "for i in range(R):\n",
    "    x = np.random.binomial(1, p2, size=S)\n",
    "    mean = np.mean(x)\n",
    "    means.append(mean)\n",
    "population_variance = p2*(1-p2)\n",
    "sample_variance = population_variance / S\n",
    "print(\"Variance of sample mean:\", sample_variance)"
   ]
  },
  {
   "cell_type": "markdown",
   "id": "236142e7-8728-4580-96b8-2cda8f0f960f",
   "metadata": {},
   "source": [
    "**3) Compute the standard deviation of sample mean using CLT.**"
   ]
  },
  {
   "cell_type": "code",
   "execution_count": 197,
   "id": "ff96fe5c-39d2-4193-9fed-7b69d9f20cf4",
   "metadata": {},
   "outputs": [
    {
     "name": "stdout",
     "output_type": "stream",
     "text": [
      "Standard deviation of sample mean: 0.02772946225448804\n"
     ]
    }
   ],
   "source": [
    "np.random.seed(0)\n",
    "means = []\n",
    "S = 325\n",
    "p2 = 0.51\n",
    "R = 1000\n",
    "\n",
    "for i in range(R):\n",
    "    x = np.random.binomial(1, p2, size=S)\n",
    "    mean = np.mean(x)\n",
    "    means.append(mean)\n",
    "\n",
    "population_variance = p2*(1-p2)\n",
    "sample_variance = population_variance / S\n",
    "sample_std = np.sqrt(sample_variance)\n",
    "\n",
    "print(\"Standard deviation of sample mean:\", sample_std)\n"
   ]
  },
  {
   "cell_type": "markdown",
   "id": "3df782b5-e8b7-4fe3-991b-dea71ce29b83",
   "metadata": {},
   "source": [
    "**4) Compare the standard deviation you got here with the standard deviation of the sample of averages you computed in 2.2.4.**"
   ]
  },
  {
   "cell_type": "code",
   "execution_count": 203,
   "id": "ab825867-87ea-4127-9145-fe2fd5318938",
   "metadata": {},
   "outputs": [
    {
     "name": "stdout",
     "output_type": "stream",
     "text": [
      "standard deviation of the sample of averages: 0.027321257735696488\n"
     ]
    }
   ],
   "source": [
    "np.random.seed(0)\n",
    "means = []\n",
    "for i in range(R):\n",
    "    x = np.random.binomial(1, p2, size=S)\n",
    "    mean = np.mean(x)\n",
    "    means.append(mean)\n",
    "std_of_means = np.std(means)\n",
    "print(\"standard deviation of the sample of averages:\", std_of_means)"
   ]
  },
  {
   "cell_type": "markdown",
   "id": "efa8c49f-a844-4c11-bcfa-df6fb2f18a12",
   "metadata": {},
   "source": [
    "**5) Use this standard deviation to compute the confidence interval. Compare it to what you got in 2.2.7. Does p1 falls inside or outside of this interval?**"
   ]
  },
  {
   "cell_type": "code",
   "execution_count": 207,
   "id": "8cbb3d75-3770-48e0-bfe7-7457e00cd8c6",
   "metadata": {},
   "outputs": [
    {
     "name": "stdout",
     "output_type": "stream",
     "text": [
      "95% Confidence Interval: [0.5081219955168728, 0.5115087737138964]\n"
     ]
    }
   ],
   "source": [
    "# compute the standard deviation of the sample means\n",
    "std = np.std(means)\n",
    "# compute the confidenec interval\n",
    "z = 1.96\n",
    "n = len(means)\n",
    "sample_mean = np.mean(means)\n",
    "ci = [sample_mean - z * (std / np.sqrt(n)), sample_mean + z * (std / np.sqrt(n))]\n",
    "print(\"95% Confidence Interval:\", ci)\n",
    "# compared to the CI value above, it does fall inside the range of the interval!"
   ]
  }
 ],
 "metadata": {
  "kernelspec": {
   "display_name": "Python 3 (ipykernel)",
   "language": "python",
   "name": "python3"
  },
  "language_info": {
   "codemirror_mode": {
    "name": "ipython",
    "version": 3
   },
   "file_extension": ".py",
   "mimetype": "text/x-python",
   "name": "python",
   "nbconvert_exporter": "python",
   "pygments_lexer": "ipython3",
   "version": "3.9.7"
  }
 },
 "nbformat": 4,
 "nbformat_minor": 5
}
