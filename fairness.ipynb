{
 "cells": [
  {
   "cell_type": "markdown",
   "id": "c42f197c-c454-42cd-b387-b090e0a15f5f",
   "metadata": {},
   "source": [
    "# PS08 - Is the model fair?\n",
    "## Name: Kaylee Cho\n",
    "### Date: 2023/06/01"
   ]
  },
  {
   "cell_type": "code",
   "execution_count": 297,
   "id": "35a06f5b-a0c0-466b-921e-ecca799b0c80",
   "metadata": {},
   "outputs": [],
   "source": [
    "import pandas as pd\n",
    "import numpy as np\n",
    "import matplotlib.pyplot as plt"
   ]
  },
  {
   "cell_type": "markdown",
   "id": "6f4146cc-9129-4bf3-b9d8-fddce3edb680",
   "metadata": {},
   "source": [
    "### 1. Is compas fair? (50pts)"
   ]
  },
  {
   "cell_type": "markdown",
   "id": "7498d2f4-d639-4c21-bec2-ed82e1d7f4b5",
   "metadata": {},
   "source": [
    "### 1.1 Load and prepare (2pts)"
   ]
  },
  {
   "cell_type": "markdown",
   "id": "c6797fae-f13e-4fc8-806d-03f65b6392ff",
   "metadata": {},
   "source": [
    "(1) Laod data and do basic checks."
   ]
  },
  {
   "cell_type": "code",
   "execution_count": 298,
   "id": "718837c3-d0d7-4033-9a82-d03855d383f6",
   "metadata": {},
   "outputs": [
    {
     "data": {
      "text/html": [
       "<div>\n",
       "<style scoped>\n",
       "    .dataframe tbody tr th:only-of-type {\n",
       "        vertical-align: middle;\n",
       "    }\n",
       "\n",
       "    .dataframe tbody tr th {\n",
       "        vertical-align: top;\n",
       "    }\n",
       "\n",
       "    .dataframe thead th {\n",
       "        text-align: right;\n",
       "    }\n",
       "</style>\n",
       "<table border=\"1\" class=\"dataframe\">\n",
       "  <thead>\n",
       "    <tr style=\"text-align: right;\">\n",
       "      <th></th>\n",
       "      <th>age</th>\n",
       "      <th>c_charge_degree</th>\n",
       "      <th>race</th>\n",
       "      <th>age_cat</th>\n",
       "      <th>sex</th>\n",
       "      <th>priors_count</th>\n",
       "      <th>decile_score</th>\n",
       "      <th>two_year_recid</th>\n",
       "    </tr>\n",
       "  </thead>\n",
       "  <tbody>\n",
       "    <tr>\n",
       "      <th>0</th>\n",
       "      <td>69</td>\n",
       "      <td>F</td>\n",
       "      <td>Other</td>\n",
       "      <td>Greater than 45</td>\n",
       "      <td>Male</td>\n",
       "      <td>0</td>\n",
       "      <td>1</td>\n",
       "      <td>0</td>\n",
       "    </tr>\n",
       "    <tr>\n",
       "      <th>1</th>\n",
       "      <td>34</td>\n",
       "      <td>F</td>\n",
       "      <td>African-American</td>\n",
       "      <td>25 - 45</td>\n",
       "      <td>Male</td>\n",
       "      <td>0</td>\n",
       "      <td>3</td>\n",
       "      <td>1</td>\n",
       "    </tr>\n",
       "    <tr>\n",
       "      <th>2</th>\n",
       "      <td>24</td>\n",
       "      <td>F</td>\n",
       "      <td>African-American</td>\n",
       "      <td>Less than 25</td>\n",
       "      <td>Male</td>\n",
       "      <td>4</td>\n",
       "      <td>4</td>\n",
       "      <td>1</td>\n",
       "    </tr>\n",
       "    <tr>\n",
       "      <th>3</th>\n",
       "      <td>44</td>\n",
       "      <td>M</td>\n",
       "      <td>Other</td>\n",
       "      <td>25 - 45</td>\n",
       "      <td>Male</td>\n",
       "      <td>0</td>\n",
       "      <td>1</td>\n",
       "      <td>0</td>\n",
       "    </tr>\n",
       "    <tr>\n",
       "      <th>4</th>\n",
       "      <td>41</td>\n",
       "      <td>F</td>\n",
       "      <td>Caucasian</td>\n",
       "      <td>25 - 45</td>\n",
       "      <td>Male</td>\n",
       "      <td>14</td>\n",
       "      <td>6</td>\n",
       "      <td>1</td>\n",
       "    </tr>\n",
       "  </tbody>\n",
       "</table>\n",
       "</div>"
      ],
      "text/plain": [
       "   age c_charge_degree              race          age_cat   sex  priors_count  \\\n",
       "0   69               F             Other  Greater than 45  Male             0   \n",
       "1   34               F  African-American          25 - 45  Male             0   \n",
       "2   24               F  African-American     Less than 25  Male             4   \n",
       "3   44               M             Other          25 - 45  Male             0   \n",
       "4   41               F         Caucasian          25 - 45  Male            14   \n",
       "\n",
       "   decile_score  two_year_recid  \n",
       "0             1               0  \n",
       "1             3               1  \n",
       "2             4               1  \n",
       "3             1               0  \n",
       "4             6               1  "
      ]
     },
     "execution_count": 298,
     "metadata": {},
     "output_type": "execute_result"
    }
   ],
   "source": [
    "compas = pd.read_csv(\"../datasets/compas-score-data.csv.bz2\", sep=\"\\t\")\n",
    "compas.head(5)"
   ]
  },
  {
   "cell_type": "markdown",
   "id": "8b68a78c-1a5f-40b9-ac07-173c58e79d2d",
   "metadata": {},
   "source": [
    "(2)"
   ]
  },
  {
   "cell_type": "code",
   "execution_count": 299,
   "id": "dec58658-2f21-4033-89e0-a47a748c9540",
   "metadata": {},
   "outputs": [
    {
     "data": {
      "text/html": [
       "<div>\n",
       "<style scoped>\n",
       "    .dataframe tbody tr th:only-of-type {\n",
       "        vertical-align: middle;\n",
       "    }\n",
       "\n",
       "    .dataframe tbody tr th {\n",
       "        vertical-align: top;\n",
       "    }\n",
       "\n",
       "    .dataframe thead th {\n",
       "        text-align: right;\n",
       "    }\n",
       "</style>\n",
       "<table border=\"1\" class=\"dataframe\">\n",
       "  <thead>\n",
       "    <tr style=\"text-align: right;\">\n",
       "      <th></th>\n",
       "      <th>age</th>\n",
       "      <th>c_charge_degree</th>\n",
       "      <th>race</th>\n",
       "      <th>age_cat</th>\n",
       "      <th>sex</th>\n",
       "      <th>priors_count</th>\n",
       "      <th>decile_score</th>\n",
       "      <th>two_year_recid</th>\n",
       "    </tr>\n",
       "  </thead>\n",
       "  <tbody>\n",
       "    <tr>\n",
       "      <th>1</th>\n",
       "      <td>34</td>\n",
       "      <td>F</td>\n",
       "      <td>African-American</td>\n",
       "      <td>25 - 45</td>\n",
       "      <td>Male</td>\n",
       "      <td>0</td>\n",
       "      <td>3</td>\n",
       "      <td>1</td>\n",
       "    </tr>\n",
       "    <tr>\n",
       "      <th>2</th>\n",
       "      <td>24</td>\n",
       "      <td>F</td>\n",
       "      <td>African-American</td>\n",
       "      <td>Less than 25</td>\n",
       "      <td>Male</td>\n",
       "      <td>4</td>\n",
       "      <td>4</td>\n",
       "      <td>1</td>\n",
       "    </tr>\n",
       "    <tr>\n",
       "      <th>4</th>\n",
       "      <td>41</td>\n",
       "      <td>F</td>\n",
       "      <td>Caucasian</td>\n",
       "      <td>25 - 45</td>\n",
       "      <td>Male</td>\n",
       "      <td>14</td>\n",
       "      <td>6</td>\n",
       "      <td>1</td>\n",
       "    </tr>\n",
       "    <tr>\n",
       "      <th>6</th>\n",
       "      <td>39</td>\n",
       "      <td>M</td>\n",
       "      <td>Caucasian</td>\n",
       "      <td>25 - 45</td>\n",
       "      <td>Female</td>\n",
       "      <td>0</td>\n",
       "      <td>1</td>\n",
       "      <td>0</td>\n",
       "    </tr>\n",
       "    <tr>\n",
       "      <th>7</th>\n",
       "      <td>27</td>\n",
       "      <td>F</td>\n",
       "      <td>Caucasian</td>\n",
       "      <td>25 - 45</td>\n",
       "      <td>Male</td>\n",
       "      <td>0</td>\n",
       "      <td>4</td>\n",
       "      <td>0</td>\n",
       "    </tr>\n",
       "  </tbody>\n",
       "</table>\n",
       "</div>"
      ],
      "text/plain": [
       "   age c_charge_degree              race       age_cat     sex  priors_count  \\\n",
       "1   34               F  African-American       25 - 45    Male             0   \n",
       "2   24               F  African-American  Less than 25    Male             4   \n",
       "4   41               F         Caucasian       25 - 45    Male            14   \n",
       "6   39               M         Caucasian       25 - 45  Female             0   \n",
       "7   27               F         Caucasian       25 - 45    Male             0   \n",
       "\n",
       "   decile_score  two_year_recid  \n",
       "1             3               1  \n",
       "2             4               1  \n",
       "4             6               1  \n",
       "6             1               0  \n",
       "7             4               0  "
      ]
     },
     "execution_count": 299,
     "metadata": {},
     "output_type": "execute_result"
    }
   ],
   "source": [
    "compas = compas[(compas[\"race\"] == \"African-American\") | (compas[\"race\"] == \"Caucasian\")]\n",
    "compas.head(5)"
   ]
  },
  {
   "cell_type": "markdown",
   "id": "3ec7dd8c-2a10-46d2-8b3b-90c414806f5a",
   "metadata": {},
   "source": [
    "(3) Create new dummy variale based off of COMPAS risk score (decile_score), which indicates if an individual was classified as low risk (score 1-4) or high risk (score 5-10)."
   ]
  },
  {
   "cell_type": "code",
   "execution_count": 300,
   "id": "e55affd8-c97c-486a-af3e-f97fe4af11a3",
   "metadata": {},
   "outputs": [
    {
     "data": {
      "text/html": [
       "<div>\n",
       "<style scoped>\n",
       "    .dataframe tbody tr th:only-of-type {\n",
       "        vertical-align: middle;\n",
       "    }\n",
       "\n",
       "    .dataframe tbody tr th {\n",
       "        vertical-align: top;\n",
       "    }\n",
       "\n",
       "    .dataframe thead th {\n",
       "        text-align: right;\n",
       "    }\n",
       "</style>\n",
       "<table border=\"1\" class=\"dataframe\">\n",
       "  <thead>\n",
       "    <tr style=\"text-align: right;\">\n",
       "      <th></th>\n",
       "      <th>age</th>\n",
       "      <th>c_charge_degree</th>\n",
       "      <th>race</th>\n",
       "      <th>age_cat</th>\n",
       "      <th>sex</th>\n",
       "      <th>priors_count</th>\n",
       "      <th>decile_score</th>\n",
       "      <th>two_year_recid</th>\n",
       "      <th>high_score</th>\n",
       "    </tr>\n",
       "  </thead>\n",
       "  <tbody>\n",
       "    <tr>\n",
       "      <th>1</th>\n",
       "      <td>34</td>\n",
       "      <td>F</td>\n",
       "      <td>African-American</td>\n",
       "      <td>25 - 45</td>\n",
       "      <td>Male</td>\n",
       "      <td>0</td>\n",
       "      <td>3</td>\n",
       "      <td>1</td>\n",
       "      <td>0</td>\n",
       "    </tr>\n",
       "    <tr>\n",
       "      <th>2</th>\n",
       "      <td>24</td>\n",
       "      <td>F</td>\n",
       "      <td>African-American</td>\n",
       "      <td>Less than 25</td>\n",
       "      <td>Male</td>\n",
       "      <td>4</td>\n",
       "      <td>4</td>\n",
       "      <td>1</td>\n",
       "      <td>0</td>\n",
       "    </tr>\n",
       "    <tr>\n",
       "      <th>4</th>\n",
       "      <td>41</td>\n",
       "      <td>F</td>\n",
       "      <td>Caucasian</td>\n",
       "      <td>25 - 45</td>\n",
       "      <td>Male</td>\n",
       "      <td>14</td>\n",
       "      <td>6</td>\n",
       "      <td>1</td>\n",
       "      <td>1</td>\n",
       "    </tr>\n",
       "    <tr>\n",
       "      <th>6</th>\n",
       "      <td>39</td>\n",
       "      <td>M</td>\n",
       "      <td>Caucasian</td>\n",
       "      <td>25 - 45</td>\n",
       "      <td>Female</td>\n",
       "      <td>0</td>\n",
       "      <td>1</td>\n",
       "      <td>0</td>\n",
       "      <td>0</td>\n",
       "    </tr>\n",
       "    <tr>\n",
       "      <th>7</th>\n",
       "      <td>27</td>\n",
       "      <td>F</td>\n",
       "      <td>Caucasian</td>\n",
       "      <td>25 - 45</td>\n",
       "      <td>Male</td>\n",
       "      <td>0</td>\n",
       "      <td>4</td>\n",
       "      <td>0</td>\n",
       "      <td>0</td>\n",
       "    </tr>\n",
       "    <tr>\n",
       "      <th>8</th>\n",
       "      <td>23</td>\n",
       "      <td>M</td>\n",
       "      <td>African-American</td>\n",
       "      <td>Less than 25</td>\n",
       "      <td>Male</td>\n",
       "      <td>3</td>\n",
       "      <td>6</td>\n",
       "      <td>1</td>\n",
       "      <td>1</td>\n",
       "    </tr>\n",
       "    <tr>\n",
       "      <th>9</th>\n",
       "      <td>37</td>\n",
       "      <td>M</td>\n",
       "      <td>Caucasian</td>\n",
       "      <td>25 - 45</td>\n",
       "      <td>Female</td>\n",
       "      <td>0</td>\n",
       "      <td>1</td>\n",
       "      <td>0</td>\n",
       "      <td>0</td>\n",
       "    </tr>\n",
       "    <tr>\n",
       "      <th>10</th>\n",
       "      <td>41</td>\n",
       "      <td>F</td>\n",
       "      <td>African-American</td>\n",
       "      <td>25 - 45</td>\n",
       "      <td>Male</td>\n",
       "      <td>0</td>\n",
       "      <td>4</td>\n",
       "      <td>0</td>\n",
       "      <td>0</td>\n",
       "    </tr>\n",
       "    <tr>\n",
       "      <th>11</th>\n",
       "      <td>47</td>\n",
       "      <td>F</td>\n",
       "      <td>Caucasian</td>\n",
       "      <td>Greater than 45</td>\n",
       "      <td>Female</td>\n",
       "      <td>1</td>\n",
       "      <td>1</td>\n",
       "      <td>1</td>\n",
       "      <td>0</td>\n",
       "    </tr>\n",
       "    <tr>\n",
       "      <th>12</th>\n",
       "      <td>31</td>\n",
       "      <td>F</td>\n",
       "      <td>African-American</td>\n",
       "      <td>25 - 45</td>\n",
       "      <td>Male</td>\n",
       "      <td>7</td>\n",
       "      <td>3</td>\n",
       "      <td>1</td>\n",
       "      <td>0</td>\n",
       "    </tr>\n",
       "  </tbody>\n",
       "</table>\n",
       "</div>"
      ],
      "text/plain": [
       "    age c_charge_degree              race          age_cat     sex  \\\n",
       "1    34               F  African-American          25 - 45    Male   \n",
       "2    24               F  African-American     Less than 25    Male   \n",
       "4    41               F         Caucasian          25 - 45    Male   \n",
       "6    39               M         Caucasian          25 - 45  Female   \n",
       "7    27               F         Caucasian          25 - 45    Male   \n",
       "8    23               M  African-American     Less than 25    Male   \n",
       "9    37               M         Caucasian          25 - 45  Female   \n",
       "10   41               F  African-American          25 - 45    Male   \n",
       "11   47               F         Caucasian  Greater than 45  Female   \n",
       "12   31               F  African-American          25 - 45    Male   \n",
       "\n",
       "    priors_count  decile_score  two_year_recid  high_score  \n",
       "1              0             3               1           0  \n",
       "2              4             4               1           0  \n",
       "4             14             6               1           1  \n",
       "6              0             1               0           0  \n",
       "7              0             4               0           0  \n",
       "8              3             6               1           1  \n",
       "9              0             1               0           0  \n",
       "10             0             4               0           0  \n",
       "11             1             1               1           0  \n",
       "12             7             3               1           0  "
      ]
     },
     "execution_count": 300,
     "metadata": {},
     "output_type": "execute_result"
    }
   ],
   "source": [
    "compas['high_score'] = np.where(compas['decile_score'] <= 4, 0, 1)\n",
    "compas.head(10)"
   ]
  },
  {
   "cell_type": "markdown",
   "id": "84d8ded0-b00f-4bdf-b8c3-76b8bb958a8c",
   "metadata": {},
   "source": [
    "(4) Now analyze the offenders across this new risk category:\n",
    "(a) What is the recidivism rate (percentage of offenders who re-commit the crime) for low-risk and high-risk individuals?"
   ]
  },
  {
   "cell_type": "code",
   "execution_count": 301,
   "id": "484faec2-822f-4de7-b177-a800779a9dbf",
   "metadata": {},
   "outputs": [
    {
     "name": "stdout",
     "output_type": "stream",
     "text": [
      "low risk recidivism rate: 32.00145296040683 high risk recidivism rate: 63.445544554455445\n"
     ]
    }
   ],
   "source": [
    "# (a)\n",
    "# Calculating low risk recidivism rate\n",
    "low_risk_re_num = compas[compas['high_score'] == 0].two_year_recid.sum()\n",
    "low_risk_total = compas[compas['high_score'] == 0].two_year_recid.count()\n",
    "low_risk_re_rate = (low_risk_re_num/low_risk_total) * 100\n",
    "# Calulating high risk recidivism rate\n",
    "high_risk_re_num = compas[compas['high_score'] == 1].two_year_recid.sum()\n",
    "high_risk_total = compas[compas['high_score'] == 1].two_year_recid.count()\n",
    "high_risk_re_rate = (high_risk_re_num/high_risk_total) * 100\n",
    "print(\"low risk recidivism rate:\", low_risk_re_rate,\n",
    "      \"high risk recidivism rate:\", high_risk_re_rate)"
   ]
  },
  {
   "cell_type": "code",
   "execution_count": 302,
   "id": "a90b50b9-6fb6-4556-bafe-96c10d1ac9c8",
   "metadata": {},
   "outputs": [
    {
     "name": "stdout",
     "output_type": "stream",
     "text": [
      "African-Americans recidivism rate: 52.31496062992126 Caucasian recidivism rate: 39.08701854493581\n"
     ]
    }
   ],
   "source": [
    "# (b)\n",
    "# Calculating recidivism rate for African-Americans\n",
    "afr_re_num = compas[compas['race'] == \"African-American\"].two_year_recid.sum()\n",
    "afr_total = compas[compas['race'] == \"African-American\"].two_year_recid.count()\n",
    "afr_re_rate = (afr_re_num/afr_total) * 100\n",
    "# Calculating recidivism rate for Caucasians\n",
    "cau_re_num = compas[compas['race'] == \"Caucasian\"].two_year_recid.sum()\n",
    "cau_total = compas[compas['race'] == \"Caucasian\"].two_year_recid.count()\n",
    "cau_re_rate = (cau_re_num/cau_total) * 100\n",
    "print(\"African-Americans recidivism rate:\", afr_re_rate,\n",
    "      \"Caucasian recidivism rate:\", cau_re_rate)"
   ]
  },
  {
   "cell_type": "markdown",
   "id": "1d168a9c-bea9-4159-b55c-00405c3e20af",
   "metadata": {},
   "source": [
    "(5) Create CM comparing COMPAS predictions for recidividm (low risk/high risk) and the actual two year recidivism and interpret the results. Recidivists are \"positives\"! High score is the predicted."
   ]
  },
  {
   "cell_type": "markdown",
   "id": "a3e14971-c732-45c1-82ad-9e361d2983bc",
   "metadata": {},
   "source": [
    "| | **Predicted** | |\n",
    "| -------- | ------------: | ------:|\n",
    "| | not recidivists  | recidivists |\n",
    "|**Actual**| 1872 | 923 |\n",
    "| | 881 | 1602 |"
   ]
  },
  {
   "cell_type": "code",
   "execution_count": 303,
   "id": "a0c1798f-6bfa-488b-9b1f-c6100967b355",
   "metadata": {},
   "outputs": [
    {
     "name": "stdout",
     "output_type": "stream",
     "text": [
      "1872 923 881 1602\n"
     ]
    }
   ],
   "source": [
    "TN = compas[(compas['high_score'] == 0) & (compas['two_year_recid'] == 0)].high_score.count()\n",
    "FP = compas[(compas['two_year_recid'] == 0) & (compas['high_score'] == 1)].high_score.count()\n",
    "FN = compas[(compas['two_year_recid'] == 1) & (compas['high_score'] == 0)].high_score.count()\n",
    "TP = compas[(compas['high_score'] == 1) & (compas['two_year_recid'] == 1)].high_score.count()\n",
    "print(TN, FP, FN, TP)"
   ]
  },
  {
   "cell_type": "raw",
   "id": "3f44062d-faa9-4f1c-9b88-4b1acd32fb1a",
   "metadata": {},
   "source": [
    "(6) What's the accuracy of CM? what is FPR and FNR?"
   ]
  },
  {
   "cell_type": "code",
   "execution_count": 304,
   "id": "76bef2cb-b914-444c-9977-7703b493019d",
   "metadata": {},
   "outputs": [
    {
     "name": "stdout",
     "output_type": "stream",
     "text": [
      "accuracy: 0.6582038651004168\n"
     ]
    }
   ],
   "source": [
    "accuracy = (1872 + 1602)/(TN + FP + FN + TP)\n",
    "print(\"accuracy:\", accuracy)"
   ]
  },
  {
   "cell_type": "code",
   "execution_count": 305,
   "id": "6b87b15b-730d-4387-8445-4045e0127d05",
   "metadata": {},
   "outputs": [
    {
     "name": "stdout",
     "output_type": "stream",
     "text": [
      "False positive rate: 0.3302325581395349 False negative rate: 0.35481272654047524\n"
     ]
    }
   ],
   "source": [
    "FPR = (FP)/(TN + FP)\n",
    "FPR\n",
    "FNR = (FN)/(TP + FN)\n",
    "FNR\n",
    "print(\"False positive rate:\", FPR, \"False negative rate:\", FNR)\n",
    "# FPR - percentage of negatives that are falsely categorized as positives.\n",
    "# FNR - percentage of positives that are falsely categorized as negatives."
   ]
  },
  {
   "cell_type": "markdown",
   "id": "d783f5ca-bbb6-458a-ae52-5e23ea7365c2",
   "metadata": {},
   "source": [
    "According to the result above, roughly 33% of the ppl were categorized as recidivists even though they are not and 35% of ppl were categorized as non recidivists even though they were. I would say researcheres to not use COMPAS beacuse it has high FPR and FNR rate."
   ]
  },
  {
   "cell_type": "markdown",
   "id": "9084854b-d953-4c3b-9d70-ae11e424c52c",
   "metadata": {},
   "source": [
    "#### 1.2 Analysis by race"
   ]
  },
  {
   "cell_type": "code",
   "execution_count": 306,
   "id": "67eb2ab1-c371-40b0-a95a-4fea298c7999",
   "metadata": {},
   "outputs": [
    {
     "name": "stdout",
     "output_type": "stream",
     "text": [
      "high risk African American recidivism rate: 64.95\n",
      "low risk African American recidivism rate: 35.14\n",
      "high risk Caucasians recidivism rate: 59.48\n",
      "low risk Caucasians recidivism rate: 29.0\n"
     ]
    }
   ],
   "source": [
    "# (1)\n",
    "# high risk African American recidivism rate\n",
    "high_risk_aa = compas[(compas['race'] == \"African-American\") & (compas['high_score'] == 1)]\n",
    "high_risk_aa_total = high_risk_aa.two_year_recid.count()\n",
    "high_risk_aa_re = high_risk_aa[high_risk_aa[\"two_year_recid\"] == 1].two_year_recid.sum()\n",
    "high_risk_aa_rate = (high_risk_aa_re/high_risk_aa_total) * 100\n",
    "# low risk African American recidivism rate\n",
    "low_risk_aa = compas[(compas['race'] == \"African-American\") & (compas['high_score'] == 0)]\n",
    "low_risk_aa_total = low_risk_aa.two_year_recid.count()\n",
    "low_risk_aa_re = low_risk_aa[low_risk_aa[\"two_year_recid\"] == 1].two_year_recid.sum()\n",
    "low_risk_aa_rate = (low_risk_aa_re/low_risk_aa_total) * 100\n",
    "print(\"high risk African American recidivism rate:\", high_risk_aa_rate.round(2))\n",
    "print(\"low risk African American recidivism rate:\", low_risk_aa_rate.round(2))\n",
    "\n",
    "#high risk Caucasians recidivism rate\n",
    "high_risk_cc = compas[(compas['race'] == \"Caucasian\") & (compas['high_score'] == 1)]\n",
    "high_risk_cc_total = high_risk_cc.two_year_recid.count()\n",
    "high_risk_cc_re = high_risk_cc[high_risk_cc[\"two_year_recid\"] == 1].two_year_recid.sum()\n",
    "high_risk_cc_rate = (high_risk_cc_re/high_risk_cc_total) * 100\n",
    "# low risk Caucasians recidivism rate\n",
    "low_risk_cc = compas[(compas['race'] == \"Caucasian\") & (compas['high_score'] == 0)]\n",
    "low_risk_cc_total = low_risk_cc.two_year_recid.count()\n",
    "low_risk_cc_re = low_risk_cc[low_risk_cc[\"two_year_recid\"] == 1].two_year_recid.sum()\n",
    "low_risk_cc_rate = (low_risk_cc_re/low_risk_cc_total) * 100\n",
    "print(\"high risk Caucasians recidivism rate:\", high_risk_cc_rate.round(2))\n",
    "print(\"low risk Caucasians recidivism rate:\", low_risk_cc_rate.round(2))"
   ]
  },
  {
   "cell_type": "markdown",
   "id": "921ea894-3aa7-447d-86f8-c2cb2091c644",
   "metadata": {},
   "source": [
    "(2) Comment the results above. Compare high risk recidivism rate between African Americans and Caucasians. Do the same for low risk group. Is there racial disparity in the result? Which group is favoring? Is Compas fair?"
   ]
  },
  {
   "cell_type": "markdown",
   "id": "f05ba92f-f24e-4a41-9208-0c78ef9427f4",
   "metadata": {},
   "source": [
    "African American tend to have higher high risk and both low risk recidivism rate compared to Caucasians. Regarding this fact since African Americans tend to have higher recidivism rate, we can tell that Compas tends to have more harsh standard towards African American. COMPAS tends to say that African Americans are at higher risk of recidivism than Caucasians according to the above result. Therefore, COMPAS does have racial disparity which shows that COMPAS is not fair."
   ]
  },
  {
   "cell_type": "markdown",
   "id": "56ad7ef8-81c8-46c7-8c50-b09231daf099",
   "metadata": {},
   "source": [
    "(3) Repeat your confusion matrix calculation and analysis from 1.1.5 But this time do it separately for African American and for Caucasians."
   ]
  },
  {
   "cell_type": "code",
   "execution_count": 307,
   "id": "7ec3addf-b21e-4b13-8ca0-9365e52ab3cc",
   "metadata": {},
   "outputs": [
    {
     "name": "stdout",
     "output_type": "stream",
     "text": [
      "873 641 473 1188\n"
     ]
    }
   ],
   "source": [
    "# confusion matrix for African Americans\n",
    "compas_aa = compas[compas[\"race\"] == \"African-American\"].copy()\n",
    "aa_TN = compas_aa[(compas_aa['high_score'] == 0) & (compas_aa['two_year_recid'] == 0)].high_score.count()\n",
    "aa_FP = compas_aa[(compas_aa['two_year_recid'] == 0) & (compas_aa['high_score'] == 1)].high_score.count()\n",
    "aa_FN = compas_aa[(compas_aa['two_year_recid'] == 1) & (compas_aa['high_score'] == 0)].high_score.count()\n",
    "aa_TP = compas_aa[(compas_aa['high_score'] == 1) & (compas_aa['two_year_recid'] == 1)].high_score.count()\n",
    "print(aa_TN, aa_FP, aa_FN, aa_TP)"
   ]
  },
  {
   "cell_type": "code",
   "execution_count": 308,
   "id": "0d4dbb68-6c57-4022-94a7-7e3f6c0d5f14",
   "metadata": {},
   "outputs": [
    {
     "name": "stdout",
     "output_type": "stream",
     "text": [
      "999 282 408 414\n"
     ]
    }
   ],
   "source": [
    "# confusion matrix for Caucasians\n",
    "compas_cc = compas[compas[\"race\"] == \"Caucasian\"].copy()\n",
    "cc_TN = compas_cc[(compas_cc['high_score'] == 0) & (compas_cc['two_year_recid'] == 0)].high_score.count()\n",
    "cc_FP = compas_cc[(compas_cc['two_year_recid'] == 0) & (compas_cc['high_score'] == 1)].high_score.count()\n",
    "cc_FN = compas_cc[(compas_cc['two_year_recid'] == 1) & (compas_cc['high_score'] == 0)].high_score.count()\n",
    "cc_TP = compas_cc[(compas_cc['high_score'] == 1) & (compas_cc['two_year_recid'] == 1)].high_score.count()\n",
    "print(cc_TN, cc_FP, cc_FN, cc_TP)"
   ]
  },
  {
   "cell_type": "code",
   "execution_count": 309,
   "id": "a8ef41a2-e526-49ef-ab8b-e574d0b05ea4",
   "metadata": {},
   "outputs": [
    {
     "name": "stdout",
     "output_type": "stream",
     "text": [
      "accuracy for African Americans: 0.6491338582677165\n",
      "accuracy for Caucasians: 0.6718972895863052\n",
      "false positive rate for African Americans: 0.4233817701453104\n",
      "false positive rate for Caucasians: 0.22014051522248243\n",
      "false negative rate for African Americans: 0.2847682119205298\n",
      "false negative rate for Caucasians: 0.49635036496350365\n"
     ]
    }
   ],
   "source": [
    "# Accuracy calculation for both African Americans & Caucasians\n",
    "accuracy_aa = (aa_TP + aa_TN)/(aa_TN + aa_FP + aa_FN + aa_TP)\n",
    "accuracy_cc = (cc_TP + cc_TN)/(cc_TN + cc_FP + cc_FN + cc_TP)\n",
    "print(\"accuracy for African Americans:\", accuracy_aa)\n",
    "print(\"accuracy for Caucasians:\", accuracy_cc)\n",
    "# calculating False positive rate (false recividism rate)\n",
    "FPR_aa = (aa_FP)/(aa_TN + aa_FP)\n",
    "FPR_cc = (cc_FP)/(cc_TN + cc_FP)\n",
    "print(\"false positive rate for African Americans:\", FPR_aa)\n",
    "print(\"false positive rate for Caucasians:\", FPR_cc)\n",
    "# calculating False no-recidivism rate (false negative rate)\n",
    "FNR_aa = (aa_FN)/(aa_TP + aa_FN)\n",
    "FNR_cc = (cc_FN)/(cc_TP + cc_FN)\n",
    "print(\"false negative rate for African Americans:\", FNR_aa)\n",
    "print(\"false negative rate for Caucasians:\", FNR_cc)"
   ]
  },
  {
   "cell_type": "markdown",
   "id": "41fe4354-8031-4024-b9a5-4d95c3636558",
   "metadata": {},
   "source": [
    "(4) As you can see from the results above, false positive rate for African American is almost two times higher than the false positive rate for Caucasians. This means that if you are African American it's two times higher to be called as recidivists even when you are not, compared to Caucasians. Oppositely, according to the false negative rate if you are Caucasian recidivist you have 1.7 times higher chance(50/28) to be called as not recidivists than those who are African American recidivists. Therefore, we can tell that COMPAS is not fair(= biased) especailly in terms of racial bias."
   ]
  },
  {
   "cell_type": "markdown",
   "id": "c177665b-bfea-4c74-a305-ce753906e569",
   "metadata": {},
   "source": [
    "(5) Does your answer in 4 align with your answer in 2? Explain!"
   ]
  },
  {
   "cell_type": "markdown",
   "id": "00ff7605-b38f-4ff9-9200-6e11b0ca6bd6",
   "metadata": {},
   "source": [
    "Above in question (2) I said that COMPAS tends to have harsh stantards towards African Americans according to the above result. Therefore, I concluded that COMPAS does have racial disparity which shows that COMPAS is not fair. Similarly, in the answer 4, I foudn that COMPAS is racially biased regarding that fact that African Americans tends to have higher FPR and smaller FNR rate compared to Caucasians. As a result, we can tell that COMPAS isn't fair."
   ]
  },
  {
   "cell_type": "markdown",
   "id": "ba8d2170-d4ab-4c9f-aa17-79132c64c4b5",
   "metadata": {},
   "source": [
    "### 2 Can you beat COMPAS? (50pts)"
   ]
  },
  {
   "cell_type": "markdown",
   "id": "fc8e87d6-92da-4f0b-9b5a-85d28b694b3c",
   "metadata": {},
   "source": [
    "#### 2.1 Create the model (30pts)"
   ]
  },
  {
   "cell_type": "markdown",
   "id": "2611fa61-e212-42f3-8326-fda339be05c3",
   "metadata": {},
   "source": [
    "(1) I would say FPR and FNR rate is a measurement to orive the performance since they tell you the rate of negatives that were falsely categorized as positive and positives that were falsely categorized as negative. Among the two FPR would be more useful since I believe someone being falsely accused as a recidivist would be a bigger problem than the one who is but not accused as one. In my opinion, accusing an innocent seems to be more significant. However, FNR is also important since we don't want to leave recidivists as non recifidivists in the society."
   ]
  },
  {
   "cell_type": "markdown",
   "id": "4e2eeb55-5391-487b-bf22-173d575940da",
   "metadata": {},
   "source": [
    "(2) We shouldn't use decile score here since that's the variable column we used to create the high_score which is a predicted data from the first part of the problem set. Since we are trying to create our own prediction with a new model, it is right to exclude that variable that originates from the COMPAS model."
   ]
  },
  {
   "cell_type": "markdown",
   "id": "8ef94da2-b538-4e11-81fa-30dc3d9aec71",
   "metadata": {},
   "source": [
    "(3)"
   ]
  },
  {
   "cell_type": "code",
   "execution_count": 310,
   "id": "1170c9ea-b685-48b3-b31f-c10658c44974",
   "metadata": {},
   "outputs": [
    {
     "name": "stdout",
     "output_type": "stream",
     "text": [
      "<logistic regression model performance>\n",
      "false positive rate score: 0.3217154061804506\n",
      "false negative rate score: 0.3395888346622249\n"
     ]
    },
    {
     "data": {
      "text/html": [
       "<div>\n",
       "<style scoped>\n",
       "    .dataframe tbody tr th:only-of-type {\n",
       "        vertical-align: middle;\n",
       "    }\n",
       "\n",
       "    .dataframe tbody tr th {\n",
       "        vertical-align: top;\n",
       "    }\n",
       "\n",
       "    .dataframe thead th {\n",
       "        text-align: right;\n",
       "    }\n",
       "</style>\n",
       "<table border=\"1\" class=\"dataframe\">\n",
       "  <thead>\n",
       "    <tr style=\"text-align: right;\">\n",
       "      <th></th>\n",
       "      <th>age</th>\n",
       "      <th>priors_count</th>\n",
       "      <th>c_charge_degree_F</th>\n",
       "      <th>c_charge_degree_M</th>\n",
       "      <th>age_cat_25 - 45</th>\n",
       "      <th>age_cat_Greater than 45</th>\n",
       "      <th>age_cat_Less than 25</th>\n",
       "    </tr>\n",
       "  </thead>\n",
       "  <tbody>\n",
       "    <tr>\n",
       "      <th>1</th>\n",
       "      <td>34</td>\n",
       "      <td>0</td>\n",
       "      <td>1</td>\n",
       "      <td>0</td>\n",
       "      <td>1</td>\n",
       "      <td>0</td>\n",
       "      <td>0</td>\n",
       "    </tr>\n",
       "    <tr>\n",
       "      <th>2</th>\n",
       "      <td>24</td>\n",
       "      <td>4</td>\n",
       "      <td>1</td>\n",
       "      <td>0</td>\n",
       "      <td>0</td>\n",
       "      <td>0</td>\n",
       "      <td>1</td>\n",
       "    </tr>\n",
       "    <tr>\n",
       "      <th>4</th>\n",
       "      <td>41</td>\n",
       "      <td>14</td>\n",
       "      <td>1</td>\n",
       "      <td>0</td>\n",
       "      <td>1</td>\n",
       "      <td>0</td>\n",
       "      <td>0</td>\n",
       "    </tr>\n",
       "    <tr>\n",
       "      <th>6</th>\n",
       "      <td>39</td>\n",
       "      <td>0</td>\n",
       "      <td>0</td>\n",
       "      <td>1</td>\n",
       "      <td>1</td>\n",
       "      <td>0</td>\n",
       "      <td>0</td>\n",
       "    </tr>\n",
       "    <tr>\n",
       "      <th>7</th>\n",
       "      <td>27</td>\n",
       "      <td>0</td>\n",
       "      <td>1</td>\n",
       "      <td>0</td>\n",
       "      <td>1</td>\n",
       "      <td>0</td>\n",
       "      <td>0</td>\n",
       "    </tr>\n",
       "    <tr>\n",
       "      <th>...</th>\n",
       "      <td>...</td>\n",
       "      <td>...</td>\n",
       "      <td>...</td>\n",
       "      <td>...</td>\n",
       "      <td>...</td>\n",
       "      <td>...</td>\n",
       "      <td>...</td>\n",
       "    </tr>\n",
       "    <tr>\n",
       "      <th>6165</th>\n",
       "      <td>30</td>\n",
       "      <td>0</td>\n",
       "      <td>0</td>\n",
       "      <td>1</td>\n",
       "      <td>1</td>\n",
       "      <td>0</td>\n",
       "      <td>0</td>\n",
       "    </tr>\n",
       "    <tr>\n",
       "      <th>6166</th>\n",
       "      <td>20</td>\n",
       "      <td>0</td>\n",
       "      <td>1</td>\n",
       "      <td>0</td>\n",
       "      <td>0</td>\n",
       "      <td>0</td>\n",
       "      <td>1</td>\n",
       "    </tr>\n",
       "    <tr>\n",
       "      <th>6167</th>\n",
       "      <td>23</td>\n",
       "      <td>0</td>\n",
       "      <td>1</td>\n",
       "      <td>0</td>\n",
       "      <td>0</td>\n",
       "      <td>0</td>\n",
       "      <td>1</td>\n",
       "    </tr>\n",
       "    <tr>\n",
       "      <th>6168</th>\n",
       "      <td>23</td>\n",
       "      <td>0</td>\n",
       "      <td>1</td>\n",
       "      <td>0</td>\n",
       "      <td>0</td>\n",
       "      <td>0</td>\n",
       "      <td>1</td>\n",
       "    </tr>\n",
       "    <tr>\n",
       "      <th>6170</th>\n",
       "      <td>33</td>\n",
       "      <td>3</td>\n",
       "      <td>0</td>\n",
       "      <td>1</td>\n",
       "      <td>1</td>\n",
       "      <td>0</td>\n",
       "      <td>0</td>\n",
       "    </tr>\n",
       "  </tbody>\n",
       "</table>\n",
       "<p>5278 rows × 7 columns</p>\n",
       "</div>"
      ],
      "text/plain": [
       "      age  priors_count  c_charge_degree_F  c_charge_degree_M  \\\n",
       "1      34             0                  1                  0   \n",
       "2      24             4                  1                  0   \n",
       "4      41            14                  1                  0   \n",
       "6      39             0                  0                  1   \n",
       "7      27             0                  1                  0   \n",
       "...   ...           ...                ...                ...   \n",
       "6165   30             0                  0                  1   \n",
       "6166   20             0                  1                  0   \n",
       "6167   23             0                  1                  0   \n",
       "6168   23             0                  1                  0   \n",
       "6170   33             3                  0                  1   \n",
       "\n",
       "      age_cat_25 - 45  age_cat_Greater than 45  age_cat_Less than 25  \n",
       "1                   1                        0                     0  \n",
       "2                   0                        0                     1  \n",
       "4                   1                        0                     0  \n",
       "6                   1                        0                     0  \n",
       "7                   1                        0                     0  \n",
       "...               ...                      ...                   ...  \n",
       "6165                1                        0                     0  \n",
       "6166                0                        0                     1  \n",
       "6167                0                        0                     1  \n",
       "6168                0                        0                     1  \n",
       "6170                1                        0                     0  \n",
       "\n",
       "[5278 rows x 7 columns]"
      ]
     },
     "execution_count": 310,
     "metadata": {},
     "output_type": "execute_result"
    }
   ],
   "source": [
    "# (3)\n",
    "from sklearn.linear_model import LogisticRegression\n",
    "from sklearn.model_selection import cross_val_score\n",
    "from sklearn.metrics import confusion_matrix\n",
    "from sklearn.metrics import make_scorer\n",
    "\n",
    "# define predictor and response variable\n",
    "X = compas.drop(['race', 'sex', 'decile_score', 'high_score', 'two_year_recid'], axis=1)\n",
    "X = pd.get_dummies(X)\n",
    "y = compas.two_year_recid\n",
    "\n",
    "#build logistic regression model\n",
    "m = LogisticRegression(max_iter=100)\n",
    "_ = m.fit(X, y)\n",
    "# define cross-validation method to use (cv fits the model for you!)\n",
    "cv = cross_val_score(m, X, y, cv=10)\n",
    "\n",
    "# predict the outcome using validation data\n",
    "val_predict = m.predict(X)\n",
    "val_predict[:10]\n",
    "# in the output array 1 denotes recidivist and 0 denotes non-recidivist.\n",
    "\n",
    "# create confusion matrix\n",
    "cm = confusion_matrix(y, val_predict)\n",
    "cm\n",
    "\n",
    "def my_custom_fpr_function(val_predict:int, y: int) -> float:\n",
    "    # calculating False positive rate (false recividism rate)\n",
    "    FPR = np.sum((val_predict == 1) & (y != 1))/(np.sum((val_predict != 1) & (y != 1))+ np.sum((val_predict == 1) & (y != 1)))\n",
    "    return FPR\n",
    "\n",
    "def my_custom_fnr_function(val_predict:int, y: int) -> float:\n",
    "    # calculating False no-recidivism rate (false negative rate)\n",
    "    FNR = np.sum((val_predict != 1) & (y == 1))/(np.sum((val_predict == 1) & (y == 1)) + np.sum((val_predict != 1) & (y == 1)))\n",
    "    return FNR\n",
    "\n",
    "my_scorer_fpr = make_scorer(my_custom_fpr_function, greater_is_better=True)\n",
    "my_scorer_fnr = make_scorer(my_custom_fnr_function, greater_is_better=True)\n",
    "\n",
    "# calculating performance score for logistic regression\n",
    "fpr_score = cross_val_score(m, X, y, scoring=my_scorer_fpr, cv=10).mean()\n",
    "fnr_score = cross_val_score(m, X, y, scoring=my_scorer_fnr, cv=10).mean()\n",
    "print(\"<logistic regression model performance>\")\n",
    "print(\"false positive rate score:\", fpr_score)\n",
    "print(\"false negative rate score:\", fnr_score)\n",
    "X"
   ]
  },
  {
   "cell_type": "markdown",
   "id": "ca016cd2-3478-4110-a684-de78613d9a32",
   "metadata": {},
   "source": [
    "(4) create different models to find the best model! I'm gonna try trees and k-NN here:)"
   ]
  },
  {
   "cell_type": "code",
   "execution_count": 311,
   "id": "e5c7a702-8fc4-40be-b5be-5d256e1c50bd",
   "metadata": {},
   "outputs": [
    {
     "name": "stdout",
     "output_type": "stream",
     "text": [
      "<decision tree classifier model performance>\n",
      "false positive rate score: 0.3536954312293652\n",
      "false negative rate score: 0.35014375338784676\n"
     ]
    }
   ],
   "source": [
    "from sklearn import tree\n",
    "\n",
    "# model 1: decision trees [classification model]\n",
    "clf = tree.DecisionTreeClassifier()\n",
    "_ = clf.fit(X, y)\n",
    "\n",
    "# define cross-validation method to use (cv fits the model for you!)\n",
    "cv = cross_val_score(m, X, y, cv=10)\n",
    "\n",
    "# predict the outcome using validation data\n",
    "val_predict = m.predict(X)\n",
    "val_predict[:10]\n",
    "# in the output array 1 denotes recidivist and 0 denotes non-recidivist.\n",
    "\n",
    "# create confusion matrix\n",
    "cm = confusion_matrix(y, val_predict)\n",
    "cm\n",
    "\n",
    "def my_custom_fpr_function(val_predict:int, y: int) -> float:\n",
    "    # calculating False positive rate (false recividism rate)\n",
    "    FPR = np.sum((val_predict == 1) & (y != 1))/(np.sum((val_predict != 1) & (y != 1))+ np.sum((val_predict == 1) & (y != 1)))\n",
    "    return FPR\n",
    "\n",
    "def my_custom_fnr_function(val_predict:int, y: int) -> float:\n",
    "    # calculating False no-recidivism rate (false negative rate)\n",
    "    FNR = np.sum((val_predict != 1) & (y == 1))/(np.sum((val_predict == 1) & (y == 1)) + np.sum((val_predict != 1) & (y == 1)))\n",
    "    return FNR\n",
    "\n",
    "# calculate performance for model 1\n",
    "fpr_score = cross_val_score(clf, X, y, scoring=my_scorer_fpr, cv=10).mean()\n",
    "fnr_score = cross_val_score(clf, X, y, scoring=my_scorer_fnr, cv=10).mean()\n",
    "print(\"<decision tree classifier model performance>\")\n",
    "print(\"false positive rate score:\", fpr_score)\n",
    "print(\"false negative rate score:\", fnr_score)"
   ]
  },
  {
   "cell_type": "code",
   "execution_count": 312,
   "id": "0ad44f3e-751d-4c5c-99bb-5a6567473ebb",
   "metadata": {},
   "outputs": [
    {
     "name": "stdout",
     "output_type": "stream",
     "text": [
      "[0 1 1 0 0 1 0 0 0 1]\n",
      "1       1\n",
      "2       1\n",
      "4       1\n",
      "6       0\n",
      "7       0\n",
      "       ..\n",
      "6165    1\n",
      "6166    0\n",
      "6167    0\n",
      "6168    0\n",
      "6170    0\n",
      "Name: two_year_recid, Length: 5278, dtype: int64\n",
      "<k-nearest neighbors regression model performance>\n",
      "false positive rate score: 0.42849700866971074\n",
      "false negative rate score: 0.319130147643944\n"
     ]
    }
   ],
   "source": [
    "from sklearn.neighbors import KNeighborsRegressor\n",
    "\n",
    "# model 2: k-nearest neighbors regression\n",
    "knn = KNeighborsRegressor(n_neighbors=3)\n",
    "_ = knn.fit(X, y)\n",
    "\n",
    "# define cross-validation method to use (cv fits the model for you!)\n",
    "cv = cross_val_score(m, X, y, cv=10)\n",
    "\n",
    "# predict the outcome using validation data\n",
    "val_predict = m.predict(X)\n",
    "print(val_predict[:10])\n",
    "print(y)\n",
    "# in the output array 1 denotes recidivist and 0 denotes non-recidivist.\n",
    "\n",
    "# create confusion matrix\n",
    "cm = confusion_matrix(y, val_predict)\n",
    "cm\n",
    "\n",
    "def my_custom_fpr_function(val_predict:int, y: int) -> float:\n",
    "    # calculating False positive rate (false recividism rate)\n",
    "    FPR = np.sum((val_predict == 1) & (y != 1))/(np.sum((val_predict != 1) & (y != 1))+ np.sum((val_predict == 1) & (y != 1)))\n",
    "    return FPR\n",
    "\n",
    "def my_custom_fnr_function(val_predict:int, y: int) -> float:\n",
    "    # calculating False no-recidivism rate (false negative rate)\n",
    "    FNR = np.sum((val_predict != 1) & (y == 1))/(np.sum((val_predict == 1) & (y == 1)) + np.sum((val_predict != 1) & (y == 1)))\n",
    "    return FNR\n",
    "\n",
    "# calculate performance for model 2\n",
    "fpr_score = cross_val_score(knn, X, y, scoring=my_scorer_fpr, cv=10).mean()\n",
    "fnr_score = cross_val_score(knn, X, y, scoring=my_scorer_fnr, cv=10).mean()\n",
    "print(\"<k-nearest neighbors regression model performance>\")\n",
    "print(\"false positive rate score:\", fpr_score)\n",
    "print(\"false negative rate score:\", fnr_score)"
   ]
  },
  {
   "cell_type": "markdown",
   "id": "b86a7990-c313-40ff-b268-3c94a351c0c7",
   "metadata": {},
   "source": [
    "false positive rate and false negative rate should be low in a best model which indicates accuracy. According to the results above, we can conclude that logistic regression model has the lowest FPR and FNR score which tells that logistic regression is the best model among the three. logistic regression model is also better than COMPAS model since it has similar FPR rate but lower FNR rate."
   ]
  },
  {
   "cell_type": "markdown",
   "id": "c4756e6f-8592-4373-8d73-5039cf4c042f",
   "metadata": {},
   "source": [
    "#### 2.2 Is your model more fair?"
   ]
  },
  {
   "cell_type": "markdown",
   "id": "f36b0564-ef21-46bb-9a6d-9ef8e4918d01",
   "metadata": {},
   "source": [
    "(1) Use your best model to predict the two-year recidivism risk, and compute the percentage of the predicted low-risk and high-risk individuals who recidivate, by race. Is your model more or less fair than COMPAS?"
   ]
  },
  {
   "cell_type": "code",
   "execution_count": 313,
   "id": "cedd8776-eadd-455e-a6ee-a870b7c781e9",
   "metadata": {},
   "outputs": [
    {
     "name": "stdout",
     "output_type": "stream",
     "text": [
      "predicted high risk African American recidivism rate: 43.8\n",
      "predicted low risk African American recidivism rate: 40.62\n",
      "predicted high risk Caucasians recidivism rate: 42.81\n",
      "predicted low risk Caucasians recidivism rate: 39.14\n"
     ]
    }
   ],
   "source": [
    "X = compas.drop(['two_year_recid'], axis=1)\n",
    "X = pd.get_dummies(X)\n",
    "y = compas.two_year_recid\n",
    "\n",
    "#build logistic regression model\n",
    "m = LogisticRegression(max_iter=100)\n",
    "_ = m.fit(X, y)\n",
    "\n",
    "# predict the outcome using validation data\n",
    "val_predict = m.predict(X)\n",
    "val_predict = pd.Series(val_predict)\n",
    "val_predict = val_predict.to_frame().rename(columns = {0:'two_year_recid'})\n",
    "\n",
    "# in the output array 1 denotes recidivist and 0 denotes non-recidivist.\n",
    "new_compas = pd.concat([X, val_predict], axis=1, join=\"inner\")\n",
    "\n",
    "# high risk African American recidivism rate\n",
    "high_risk_aa = new_compas[(new_compas['race_African-American'] == 1) & (new_compas['high_score'] == 1)]\n",
    "high_risk_aa_total = high_risk_aa.two_year_recid.count()\n",
    "high_risk_aa_re = high_risk_aa[high_risk_aa[\"two_year_recid\"] == 1].two_year_recid.sum()\n",
    "high_risk_aa_rate = (high_risk_aa_re/high_risk_aa_total) * 100\n",
    "# low risk African American recidivism rate\n",
    "low_risk_aa = new_compas[(new_compas['race_African-American'] == 1) & (new_compas['high_score'] == 0)]\n",
    "low_risk_aa_total = low_risk_aa.two_year_recid.count()\n",
    "low_risk_aa_re = low_risk_aa[low_risk_aa[\"two_year_recid\"] == 1].two_year_recid.sum()\n",
    "low_risk_aa_rate = (low_risk_aa_re/low_risk_aa_total) * 100\n",
    "print(\"predicted high risk African American recidivism rate:\", high_risk_aa_rate.round(2))\n",
    "print(\"predicted low risk African American recidivism rate:\", low_risk_aa_rate.round(2))\n",
    "\n",
    "#high risk Caucasians recidivism rate\n",
    "high_risk_cc = new_compas[(new_compas['race_Caucasian'] == 1) & (new_compas['high_score'] == 1)]\n",
    "high_risk_cc_total = high_risk_cc.two_year_recid.count()\n",
    "high_risk_cc_re = high_risk_cc[high_risk_cc[\"two_year_recid\"] == 1].two_year_recid.sum()\n",
    "high_risk_cc_rate = (high_risk_cc_re/high_risk_cc_total) * 100\n",
    "# low risk Caucasians recidivism rate\n",
    "low_risk_cc = new_compas[(new_compas['race_Caucasian'] == 1) & (new_compas['high_score'] == 0)]\n",
    "low_risk_cc_total = low_risk_cc.high_score.count()\n",
    "low_risk_cc_re = low_risk_cc[low_risk_cc[\"two_year_recid\"] == 1].two_year_recid.sum()\n",
    "low_risk_cc_rate = (low_risk_cc_re/low_risk_cc_total) * 100\n",
    "print(\"predicted high risk Caucasians recidivism rate:\", high_risk_cc_rate.round(2))\n",
    "print(\"predicted low risk Caucasians recidivism rate:\", low_risk_cc_rate.round(2))"
   ]
  },
  {
   "cell_type": "markdown",
   "id": "db643e88-2e89-47e2-afc4-350108703e97",
   "metadata": {},
   "source": [
    "The logistic regression model is more fair than COMPAS model because the gap between the recidivism rate of each race is not large. If you see the COMPAS recidivism rate for each race you can see that African Americans tend to have higher recidivism rate in both high risk and low risk category, but in logistic regression model they are fairly similar."
   ]
  },
  {
   "cell_type": "markdown",
   "id": "87fcabea-4e87-446f-a9d9-8a07dc116ff8",
   "metadata": {},
   "source": [
    "(2) Compute FPR and FNR by race. Is your model more or less fair than COMPAS?"
   ]
  },
  {
   "cell_type": "code",
   "execution_count": 321,
   "id": "6eeda8d4-b859-43ce-b87c-1b8218f3dd61",
   "metadata": {},
   "outputs": [
    {
     "data": {
      "text/plain": [
       "array([[ 988,  526],\n",
       "       [ 498, 1163]])"
      ]
     },
     "execution_count": 321,
     "metadata": {},
     "output_type": "execute_result"
    }
   ],
   "source": [
    "# data which only includes African-American\n",
    "compas_aa = compas[compas['race'] == \"African-American\"].copy()\n",
    "\n",
    "X_aa = compas_aa.drop(['two_year_recid'], axis=1)\n",
    "X_aa = pd.get_dummies(X_aa)\n",
    "y_aa = compas_aa.two_year_recid\n",
    "\n",
    "#build logistic regression model\n",
    "m = LogisticRegression(max_iter=100)\n",
    "_ = m.fit(X_aa, y_aa)\n",
    "\n",
    "# predict the outcome using validation data\n",
    "val_predict = m.predict(X_aa)\n",
    "\n",
    "# create confusion matrix for African American data\n",
    "cm = confusion_matrix(y_aa, val_predict)\n",
    "cm"
   ]
  },
  {
   "cell_type": "code",
   "execution_count": 325,
   "id": "358ba52a-cfbb-4ec2-9c5e-1fa5f7886d87",
   "metadata": {},
   "outputs": [
    {
     "name": "stdout",
     "output_type": "stream",
     "text": [
      "predicted false positive rate who are African American: 0.3474240422721268\n",
      "predicted false negative rate who are African American: 0.29981938591210117\n"
     ]
    }
   ],
   "source": [
    "# FPR and FNR rate for African American data\n",
    "aa_TN = 988\n",
    "aa_FP = 526\n",
    "aa_FN = 498\n",
    "aa_TP = 1163\n",
    "aa_FPR = (aa_FP)/(aa_TN + aa_FP)\n",
    "aa_FNR = (aa_FN)/(aa_TP + aa_FN)\n",
    "print(\"predicted false positive rate who are African American:\", aa_FPR)\n",
    "print(\"predicted false negative rate who are African American:\", aa_FNR)"
   ]
  },
  {
   "cell_type": "code",
   "execution_count": 323,
   "id": "7b53494e-7abf-410b-9eb6-7f5252d39259",
   "metadata": {},
   "outputs": [
    {
     "data": {
      "text/plain": [
       "array([[1094,  187],\n",
       "       [ 459,  363]])"
      ]
     },
     "execution_count": 323,
     "metadata": {},
     "output_type": "execute_result"
    }
   ],
   "source": [
    "# data which only includes Caucasian\n",
    "compas_cc = compas[compas['race'] == \"Caucasian\"].copy()\n",
    "\n",
    "X_cc = compas_cc.drop(['two_year_recid'], axis=1)\n",
    "X_cc = pd.get_dummies(X_cc)\n",
    "y_cc = compas_cc.two_year_recid\n",
    "\n",
    "#build logistic regression model\n",
    "m = LogisticRegression(max_iter=100)\n",
    "_ = m.fit(X_cc, y_cc)\n",
    "\n",
    "# predict the outcome using validation data\n",
    "val_predict = m.predict(X_cc)\n",
    "\n",
    "# create confusion matrix for African American data\n",
    "cm = confusion_matrix(y_cc, val_predict)\n",
    "cm"
   ]
  },
  {
   "cell_type": "code",
   "execution_count": 324,
   "id": "b96f5732-b411-4c14-bb6d-38335f1cccaf",
   "metadata": {},
   "outputs": [
    {
     "name": "stdout",
     "output_type": "stream",
     "text": [
      "predicted false positive rate who are Caucasian: 0.14597970335675253\n",
      "predicted false negative rate who are Caucasian: 0.5583941605839416\n"
     ]
    }
   ],
   "source": [
    "# FPR and FNR rate for Caucasian data\n",
    "cc_TN = 1094\n",
    "cc_FP = 187\n",
    "cc_FN = 459\n",
    "cc_TP = 363\n",
    "cc_FPR = (cc_FP)/(cc_TN + cc_FP)\n",
    "cc_FNR = (cc_FN)/(cc_TP + cc_FN)\n",
    "print(\"predicted false positive rate who are Caucasian:\", cc_FPR)\n",
    "print(\"predicted false negative rate who are Caucasian:\", cc_FNR)"
   ]
  },
  {
   "cell_type": "markdown",
   "id": "85e9f056-fcdf-419f-a781-c84f4a962bdb",
   "metadata": {},
   "source": [
    "Logistic regression model tends to have smaller predicted false positive rate for both races and COMPAS tends to have smaller predicted false negative rate in both race. Therefore, with FPR and FNR rate by each race, I don't think we can precisely tell which model is more fair like we did on the previous question. However, regarding the fact that the gap between predicted false positive rate is larger than the gap between predicted false negative rate I would say logistic regression model is yet a bit more fair than COMPAS model in terms of FPR and FNR rate predicion too."
   ]
  },
  {
   "cell_type": "markdown",
   "id": "87942b91-1db7-4381-b294-5643a7f3977c",
   "metadata": {},
   "source": [
    "(3)"
   ]
  },
  {
   "cell_type": "markdown",
   "id": "1aecb233-28c4-45f8-b7d8-fb1c563124cf",
   "metadata": {},
   "source": [
    "With the insights from the above observations, I conclude that logistic regression model, which was selected as the best model among the other two models from 2.1, is more fair than COMPAS knowing that it has better performance in predicting low-risk & high-risk individuals who recidivate and in computing FPR and FNR by race with less bias."
   ]
  },
  {
   "cell_type": "markdown",
   "id": "a80ab11c-0cf9-4f1e-8089-7092883e9d55",
   "metadata": {},
   "source": [
    "### HOW LONG? It took about 1-2 days full:)"
   ]
  }
 ],
 "metadata": {
  "kernelspec": {
   "display_name": "Python 3 (ipykernel)",
   "language": "python",
   "name": "python3"
  },
  "language_info": {
   "codemirror_mode": {
    "name": "ipython",
    "version": 3
   },
   "file_extension": ".py",
   "mimetype": "text/x-python",
   "name": "python",
   "nbconvert_exporter": "python",
   "pygments_lexer": "ipython3",
   "version": "3.9.7"
  }
 },
 "nbformat": 4,
 "nbformat_minor": 5
}
