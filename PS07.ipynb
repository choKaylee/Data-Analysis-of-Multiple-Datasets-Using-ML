{
 "cells": [
  {
   "cell_type": "markdown",
   "id": "8ba55d53-3382-48cd-b4f2-a331e1f75f86",
   "metadata": {},
   "source": [
    "# PS07: Predictive modeling, validation\n",
    "## Name: Kaylee Cho\n",
    "### Date: 2023/05/25"
   ]
  },
  {
   "cell_type": "markdown",
   "id": "ffc92b60-bc1c-4a09-a726-87bf61c28d3a",
   "metadata": {},
   "source": [
    "### 1. Prepare data"
   ]
  },
  {
   "cell_type": "code",
   "execution_count": 448,
   "id": "f671fa5e-97cf-401f-8b9f-426458d22f46",
   "metadata": {},
   "outputs": [],
   "source": [
    "import pandas as pd\n",
    "import numpy as np\n",
    "import matplotlib.pyplot as plt"
   ]
  },
  {
   "cell_type": "markdown",
   "id": "7d298f8f-d38d-4157-845f-bfc4c5e2e3db",
   "metadata": {},
   "source": [
    "(1)"
   ]
  },
  {
   "cell_type": "code",
   "execution_count": 449,
   "id": "8a87c4db-c6fb-4318-a581-ac1c11d82b51",
   "metadata": {},
   "outputs": [
    {
     "data": {
      "text/html": [
       "<div>\n",
       "<style scoped>\n",
       "    .dataframe tbody tr th:only-of-type {\n",
       "        vertical-align: middle;\n",
       "    }\n",
       "\n",
       "    .dataframe tbody tr th {\n",
       "        vertical-align: top;\n",
       "    }\n",
       "\n",
       "    .dataframe thead th {\n",
       "        text-align: right;\n",
       "    }\n",
       "</style>\n",
       "<table border=\"1\" class=\"dataframe\">\n",
       "  <thead>\n",
       "    <tr style=\"text-align: right;\">\n",
       "      <th></th>\n",
       "      <th>age</th>\n",
       "      <th>sex</th>\n",
       "      <th>cp</th>\n",
       "      <th>trtbps</th>\n",
       "      <th>chol</th>\n",
       "      <th>fbs</th>\n",
       "      <th>restecg</th>\n",
       "      <th>thalachh</th>\n",
       "      <th>exng</th>\n",
       "      <th>oldpeak</th>\n",
       "      <th>slp</th>\n",
       "      <th>caa</th>\n",
       "      <th>thall</th>\n",
       "      <th>output</th>\n",
       "    </tr>\n",
       "  </thead>\n",
       "  <tbody>\n",
       "    <tr>\n",
       "      <th>0</th>\n",
       "      <td>63</td>\n",
       "      <td>1</td>\n",
       "      <td>3</td>\n",
       "      <td>145</td>\n",
       "      <td>233</td>\n",
       "      <td>1</td>\n",
       "      <td>0</td>\n",
       "      <td>150</td>\n",
       "      <td>0</td>\n",
       "      <td>2.3</td>\n",
       "      <td>0</td>\n",
       "      <td>0</td>\n",
       "      <td>1</td>\n",
       "      <td>1</td>\n",
       "    </tr>\n",
       "    <tr>\n",
       "      <th>1</th>\n",
       "      <td>37</td>\n",
       "      <td>1</td>\n",
       "      <td>2</td>\n",
       "      <td>130</td>\n",
       "      <td>250</td>\n",
       "      <td>0</td>\n",
       "      <td>1</td>\n",
       "      <td>187</td>\n",
       "      <td>0</td>\n",
       "      <td>3.5</td>\n",
       "      <td>0</td>\n",
       "      <td>0</td>\n",
       "      <td>2</td>\n",
       "      <td>1</td>\n",
       "    </tr>\n",
       "    <tr>\n",
       "      <th>2</th>\n",
       "      <td>41</td>\n",
       "      <td>0</td>\n",
       "      <td>1</td>\n",
       "      <td>130</td>\n",
       "      <td>204</td>\n",
       "      <td>0</td>\n",
       "      <td>0</td>\n",
       "      <td>172</td>\n",
       "      <td>0</td>\n",
       "      <td>1.4</td>\n",
       "      <td>2</td>\n",
       "      <td>0</td>\n",
       "      <td>2</td>\n",
       "      <td>1</td>\n",
       "    </tr>\n",
       "    <tr>\n",
       "      <th>3</th>\n",
       "      <td>56</td>\n",
       "      <td>1</td>\n",
       "      <td>1</td>\n",
       "      <td>120</td>\n",
       "      <td>236</td>\n",
       "      <td>0</td>\n",
       "      <td>1</td>\n",
       "      <td>178</td>\n",
       "      <td>0</td>\n",
       "      <td>0.8</td>\n",
       "      <td>2</td>\n",
       "      <td>0</td>\n",
       "      <td>2</td>\n",
       "      <td>1</td>\n",
       "    </tr>\n",
       "    <tr>\n",
       "      <th>4</th>\n",
       "      <td>57</td>\n",
       "      <td>0</td>\n",
       "      <td>0</td>\n",
       "      <td>120</td>\n",
       "      <td>354</td>\n",
       "      <td>0</td>\n",
       "      <td>1</td>\n",
       "      <td>163</td>\n",
       "      <td>1</td>\n",
       "      <td>0.6</td>\n",
       "      <td>2</td>\n",
       "      <td>0</td>\n",
       "      <td>2</td>\n",
       "      <td>1</td>\n",
       "    </tr>\n",
       "  </tbody>\n",
       "</table>\n",
       "</div>"
      ],
      "text/plain": [
       "   age  sex  cp  trtbps  chol  fbs  restecg  thalachh  exng  oldpeak  slp  \\\n",
       "0   63    1   3     145   233    1        0       150     0      2.3    0   \n",
       "1   37    1   2     130   250    0        1       187     0      3.5    0   \n",
       "2   41    0   1     130   204    0        0       172     0      1.4    2   \n",
       "3   56    1   1     120   236    0        1       178     0      0.8    2   \n",
       "4   57    0   0     120   354    0        1       163     1      0.6    2   \n",
       "\n",
       "   caa  thall  output  \n",
       "0    0      1       1  \n",
       "1    0      2       1  \n",
       "2    0      2       1  \n",
       "3    0      2       1  \n",
       "4    0      2       1  "
      ]
     },
     "execution_count": 449,
     "metadata": {},
     "output_type": "execute_result"
    }
   ],
   "source": [
    "heart_data = pd.read_csv(\"../datasets/heart.csv.bz2\", sep=\",\")\n",
    "heart_data.head(5)"
   ]
  },
  {
   "cell_type": "code",
   "execution_count": 450,
   "id": "0239afb4-632c-445a-af5f-e673c7d8279e",
   "metadata": {},
   "outputs": [
    {
     "data": {
      "text/plain": [
       "(303, 14)"
      ]
     },
     "execution_count": 450,
     "metadata": {},
     "output_type": "execute_result"
    }
   ],
   "source": [
    "heart_data.shape"
   ]
  },
  {
   "cell_type": "markdown",
   "id": "17457b46-c98c-422a-a171-cb641636aaa3",
   "metadata": {},
   "source": [
    "(2) Is there any missing values? What is the data types? What are ranges of numeric variables, and possible values of categorical variables? What is the percentage of heart attack among these patients?"
   ]
  },
  {
   "cell_type": "code",
   "execution_count": 451,
   "id": "ccc0dc7c-4770-40f3-b64b-d4a605e4e83f",
   "metadata": {},
   "outputs": [
    {
     "data": {
      "text/plain": [
       "age         0\n",
       "sex         0\n",
       "cp          0\n",
       "trtbps      0\n",
       "chol        0\n",
       "fbs         0\n",
       "restecg     0\n",
       "thalachh    0\n",
       "exng        0\n",
       "oldpeak     0\n",
       "slp         0\n",
       "caa         0\n",
       "thall       0\n",
       "output      0\n",
       "dtype: int64"
      ]
     },
     "execution_count": 451,
     "metadata": {},
     "output_type": "execute_result"
    }
   ],
   "source": [
    "heart_data.isna().sum()\n",
    "# there are no missing values in the dataset!"
   ]
  },
  {
   "cell_type": "code",
   "execution_count": 452,
   "id": "fd805214-bbbc-494f-b1a3-fcbc5664db8d",
   "metadata": {},
   "outputs": [
    {
     "data": {
      "text/plain": [
       "age           int64\n",
       "sex           int64\n",
       "cp            int64\n",
       "trtbps        int64\n",
       "chol          int64\n",
       "fbs           int64\n",
       "restecg       int64\n",
       "thalachh      int64\n",
       "exng          int64\n",
       "oldpeak     float64\n",
       "slp           int64\n",
       "caa           int64\n",
       "thall         int64\n",
       "output        int64\n",
       "dtype: object"
      ]
     },
     "execution_count": 452,
     "metadata": {},
     "output_type": "execute_result"
    }
   ],
   "source": [
    "heart_data.dtypes\n",
    "# data types are mostly int! oldpeak is float!"
   ]
  },
  {
   "cell_type": "code",
   "execution_count": 453,
   "id": "26090ac7-2304-4800-9ba0-0d4799ee0739",
   "metadata": {},
   "outputs": [
    {
     "name": "stdout",
     "output_type": "stream",
     "text": [
      "minimum of each variables\n",
      "age          29.0\n",
      "sex           0.0\n",
      "cp            0.0\n",
      "trtbps       94.0\n",
      "chol        126.0\n",
      "fbs           0.0\n",
      "restecg       0.0\n",
      "thalachh     71.0\n",
      "exng          0.0\n",
      "oldpeak       0.0\n",
      "slp           0.0\n",
      "caa           0.0\n",
      "thall         0.0\n",
      "output        0.0\n",
      "dtype: float64\n",
      "maximum of each variables\n",
      "age          77.0\n",
      "sex           1.0\n",
      "cp            3.0\n",
      "trtbps      200.0\n",
      "chol        564.0\n",
      "fbs           1.0\n",
      "restecg       2.0\n",
      "thalachh    202.0\n",
      "exng          1.0\n",
      "oldpeak       6.2\n",
      "slp           2.0\n",
      "caa           4.0\n",
      "thall         3.0\n",
      "output        1.0\n",
      "dtype: float64\n"
     ]
    }
   ],
   "source": [
    "print(\"minimum of each variables\")\n",
    "print(heart_data.min())\n",
    "print(\"maximum of each variables\")\n",
    "print(heart_data.max())\n",
    "# most of the range for the variable column do fit the documentation on the description!"
   ]
  },
  {
   "cell_type": "code",
   "execution_count": 454,
   "id": "67c158a3-a3bc-45a8-a442-86e11b025252",
   "metadata": {},
   "outputs": [
    {
     "data": {
      "text/plain": [
       "54.45544554455446"
      ]
     },
     "execution_count": 454,
     "metadata": {},
     "output_type": "execute_result"
    }
   ],
   "source": [
    "# percentage of heartattack among these patients\n",
    "(heart_data.output.sum()/heart_data.output.count()) * 100"
   ]
  },
  {
   "cell_type": "markdown",
   "id": "080c5955-b809-4068-9b26-ee4d12452e7a",
   "metadata": {},
   "source": [
    "(3) Which variables above are inherently non numeric (nominal or ordinal?)"
   ]
  },
  {
   "cell_type": "markdown",
   "id": "f8e1f2da-2186-4848-8f3a-0dade1357387",
   "metadata": {},
   "source": [
    "sex[nominal]: This is a binary categorical variable which indicates whether the patient is female or male. (Male = 1; Female = 0) \\\n",
    "cp[ordinal]: This is ordinal categorical variable which indicates chest pain type with the number of 1 through 4. \\\n",
    "fbs[nominal]: This is a binary categorical variable which distinguishes patients' fasting blood sugar level of more than 120mg/dl or less. (1 = ture; 0 = false) \\\n",
    "restecg[ordinal]: This is ordinal categorical variable that shows resting electrocardiographic results. \\\n",
    "exng[nominal]: It's binary categorical variable indicating exercie induceed angina. \\\n",
    "caa[ordinal]: It's ordinal categorical variable indicating number of major vessels from range of 0 to 3."
   ]
  },
  {
   "cell_type": "markdown",
   "id": "cd29294a-8d99-4b74-bc1a-452626107c03",
   "metadata": {},
   "source": [
    "(4) change nominal variabels to categorical so that you can use them for sklearn! Construct the outcome vector y and the design matrix X! How many columns do you have?"
   ]
  },
  {
   "cell_type": "code",
   "execution_count": 455,
   "id": "57e3b73c-50ed-4f14-8f23-d35646eb0ba3",
   "metadata": {},
   "outputs": [
    {
     "data": {
      "text/html": [
       "<div>\n",
       "<style scoped>\n",
       "    .dataframe tbody tr th:only-of-type {\n",
       "        vertical-align: middle;\n",
       "    }\n",
       "\n",
       "    .dataframe tbody tr th {\n",
       "        vertical-align: top;\n",
       "    }\n",
       "\n",
       "    .dataframe thead th {\n",
       "        text-align: right;\n",
       "    }\n",
       "</style>\n",
       "<table border=\"1\" class=\"dataframe\">\n",
       "  <thead>\n",
       "    <tr style=\"text-align: right;\">\n",
       "      <th></th>\n",
       "      <th>age</th>\n",
       "      <th>cp</th>\n",
       "      <th>trtbps</th>\n",
       "      <th>chol</th>\n",
       "      <th>restecg</th>\n",
       "      <th>thalachh</th>\n",
       "      <th>oldpeak</th>\n",
       "      <th>slp</th>\n",
       "      <th>caa</th>\n",
       "      <th>thall</th>\n",
       "      <th>sex_0</th>\n",
       "      <th>sex_1</th>\n",
       "      <th>fbs_0</th>\n",
       "      <th>fbs_1</th>\n",
       "      <th>exng_0</th>\n",
       "      <th>exng_1</th>\n",
       "    </tr>\n",
       "  </thead>\n",
       "  <tbody>\n",
       "    <tr>\n",
       "      <th>0</th>\n",
       "      <td>63</td>\n",
       "      <td>3</td>\n",
       "      <td>145</td>\n",
       "      <td>233</td>\n",
       "      <td>0</td>\n",
       "      <td>150</td>\n",
       "      <td>2.3</td>\n",
       "      <td>0</td>\n",
       "      <td>0</td>\n",
       "      <td>1</td>\n",
       "      <td>0</td>\n",
       "      <td>1</td>\n",
       "      <td>0</td>\n",
       "      <td>1</td>\n",
       "      <td>1</td>\n",
       "      <td>0</td>\n",
       "    </tr>\n",
       "    <tr>\n",
       "      <th>1</th>\n",
       "      <td>37</td>\n",
       "      <td>2</td>\n",
       "      <td>130</td>\n",
       "      <td>250</td>\n",
       "      <td>1</td>\n",
       "      <td>187</td>\n",
       "      <td>3.5</td>\n",
       "      <td>0</td>\n",
       "      <td>0</td>\n",
       "      <td>2</td>\n",
       "      <td>0</td>\n",
       "      <td>1</td>\n",
       "      <td>1</td>\n",
       "      <td>0</td>\n",
       "      <td>1</td>\n",
       "      <td>0</td>\n",
       "    </tr>\n",
       "    <tr>\n",
       "      <th>2</th>\n",
       "      <td>41</td>\n",
       "      <td>1</td>\n",
       "      <td>130</td>\n",
       "      <td>204</td>\n",
       "      <td>0</td>\n",
       "      <td>172</td>\n",
       "      <td>1.4</td>\n",
       "      <td>2</td>\n",
       "      <td>0</td>\n",
       "      <td>2</td>\n",
       "      <td>1</td>\n",
       "      <td>0</td>\n",
       "      <td>1</td>\n",
       "      <td>0</td>\n",
       "      <td>1</td>\n",
       "      <td>0</td>\n",
       "    </tr>\n",
       "    <tr>\n",
       "      <th>3</th>\n",
       "      <td>56</td>\n",
       "      <td>1</td>\n",
       "      <td>120</td>\n",
       "      <td>236</td>\n",
       "      <td>1</td>\n",
       "      <td>178</td>\n",
       "      <td>0.8</td>\n",
       "      <td>2</td>\n",
       "      <td>0</td>\n",
       "      <td>2</td>\n",
       "      <td>0</td>\n",
       "      <td>1</td>\n",
       "      <td>1</td>\n",
       "      <td>0</td>\n",
       "      <td>1</td>\n",
       "      <td>0</td>\n",
       "    </tr>\n",
       "    <tr>\n",
       "      <th>4</th>\n",
       "      <td>57</td>\n",
       "      <td>0</td>\n",
       "      <td>120</td>\n",
       "      <td>354</td>\n",
       "      <td>1</td>\n",
       "      <td>163</td>\n",
       "      <td>0.6</td>\n",
       "      <td>2</td>\n",
       "      <td>0</td>\n",
       "      <td>2</td>\n",
       "      <td>1</td>\n",
       "      <td>0</td>\n",
       "      <td>1</td>\n",
       "      <td>0</td>\n",
       "      <td>0</td>\n",
       "      <td>1</td>\n",
       "    </tr>\n",
       "    <tr>\n",
       "      <th>...</th>\n",
       "      <td>...</td>\n",
       "      <td>...</td>\n",
       "      <td>...</td>\n",
       "      <td>...</td>\n",
       "      <td>...</td>\n",
       "      <td>...</td>\n",
       "      <td>...</td>\n",
       "      <td>...</td>\n",
       "      <td>...</td>\n",
       "      <td>...</td>\n",
       "      <td>...</td>\n",
       "      <td>...</td>\n",
       "      <td>...</td>\n",
       "      <td>...</td>\n",
       "      <td>...</td>\n",
       "      <td>...</td>\n",
       "    </tr>\n",
       "    <tr>\n",
       "      <th>298</th>\n",
       "      <td>57</td>\n",
       "      <td>0</td>\n",
       "      <td>140</td>\n",
       "      <td>241</td>\n",
       "      <td>1</td>\n",
       "      <td>123</td>\n",
       "      <td>0.2</td>\n",
       "      <td>1</td>\n",
       "      <td>0</td>\n",
       "      <td>3</td>\n",
       "      <td>1</td>\n",
       "      <td>0</td>\n",
       "      <td>1</td>\n",
       "      <td>0</td>\n",
       "      <td>0</td>\n",
       "      <td>1</td>\n",
       "    </tr>\n",
       "    <tr>\n",
       "      <th>299</th>\n",
       "      <td>45</td>\n",
       "      <td>3</td>\n",
       "      <td>110</td>\n",
       "      <td>264</td>\n",
       "      <td>1</td>\n",
       "      <td>132</td>\n",
       "      <td>1.2</td>\n",
       "      <td>1</td>\n",
       "      <td>0</td>\n",
       "      <td>3</td>\n",
       "      <td>0</td>\n",
       "      <td>1</td>\n",
       "      <td>1</td>\n",
       "      <td>0</td>\n",
       "      <td>1</td>\n",
       "      <td>0</td>\n",
       "    </tr>\n",
       "    <tr>\n",
       "      <th>300</th>\n",
       "      <td>68</td>\n",
       "      <td>0</td>\n",
       "      <td>144</td>\n",
       "      <td>193</td>\n",
       "      <td>1</td>\n",
       "      <td>141</td>\n",
       "      <td>3.4</td>\n",
       "      <td>1</td>\n",
       "      <td>2</td>\n",
       "      <td>3</td>\n",
       "      <td>0</td>\n",
       "      <td>1</td>\n",
       "      <td>0</td>\n",
       "      <td>1</td>\n",
       "      <td>1</td>\n",
       "      <td>0</td>\n",
       "    </tr>\n",
       "    <tr>\n",
       "      <th>301</th>\n",
       "      <td>57</td>\n",
       "      <td>0</td>\n",
       "      <td>130</td>\n",
       "      <td>131</td>\n",
       "      <td>1</td>\n",
       "      <td>115</td>\n",
       "      <td>1.2</td>\n",
       "      <td>1</td>\n",
       "      <td>1</td>\n",
       "      <td>3</td>\n",
       "      <td>0</td>\n",
       "      <td>1</td>\n",
       "      <td>1</td>\n",
       "      <td>0</td>\n",
       "      <td>0</td>\n",
       "      <td>1</td>\n",
       "    </tr>\n",
       "    <tr>\n",
       "      <th>302</th>\n",
       "      <td>57</td>\n",
       "      <td>1</td>\n",
       "      <td>130</td>\n",
       "      <td>236</td>\n",
       "      <td>0</td>\n",
       "      <td>174</td>\n",
       "      <td>0.0</td>\n",
       "      <td>1</td>\n",
       "      <td>1</td>\n",
       "      <td>2</td>\n",
       "      <td>1</td>\n",
       "      <td>0</td>\n",
       "      <td>1</td>\n",
       "      <td>0</td>\n",
       "      <td>1</td>\n",
       "      <td>0</td>\n",
       "    </tr>\n",
       "  </tbody>\n",
       "</table>\n",
       "<p>303 rows × 16 columns</p>\n",
       "</div>"
      ],
      "text/plain": [
       "     age  cp  trtbps  chol  restecg  thalachh  oldpeak  slp  caa  thall  \\\n",
       "0     63   3     145   233        0       150      2.3    0    0      1   \n",
       "1     37   2     130   250        1       187      3.5    0    0      2   \n",
       "2     41   1     130   204        0       172      1.4    2    0      2   \n",
       "3     56   1     120   236        1       178      0.8    2    0      2   \n",
       "4     57   0     120   354        1       163      0.6    2    0      2   \n",
       "..   ...  ..     ...   ...      ...       ...      ...  ...  ...    ...   \n",
       "298   57   0     140   241        1       123      0.2    1    0      3   \n",
       "299   45   3     110   264        1       132      1.2    1    0      3   \n",
       "300   68   0     144   193        1       141      3.4    1    2      3   \n",
       "301   57   0     130   131        1       115      1.2    1    1      3   \n",
       "302   57   1     130   236        0       174      0.0    1    1      2   \n",
       "\n",
       "     sex_0  sex_1  fbs_0  fbs_1  exng_0  exng_1  \n",
       "0        0      1      0      1       1       0  \n",
       "1        0      1      1      0       1       0  \n",
       "2        1      0      1      0       1       0  \n",
       "3        0      1      1      0       1       0  \n",
       "4        1      0      1      0       0       1  \n",
       "..     ...    ...    ...    ...     ...     ...  \n",
       "298      1      0      1      0       0       1  \n",
       "299      0      1      1      0       1       0  \n",
       "300      0      1      0      1       1       0  \n",
       "301      0      1      1      0       0       1  \n",
       "302      1      0      1      0       1       0  \n",
       "\n",
       "[303 rows x 16 columns]"
      ]
     },
     "execution_count": 455,
     "metadata": {},
     "output_type": "execute_result"
    }
   ],
   "source": [
    "heart_data.sex = heart_data.sex.astype(\"category\")\n",
    "heart_data.fbs = heart_data.fbs.astype(\"category\")\n",
    "heart_data.exng = heart_data.exng.astype(\"category\")\n",
    "X = heart_data.drop(\"output\", axis = 1)\n",
    "X = pd.get_dummies(X, columns = ['sex', 'fbs', 'exng'])\n",
    "y = heart_data.output\n",
    "X\n",
    "# I have 16 columns!"
   ]
  },
  {
   "cell_type": "markdown",
   "id": "17b89394-c2bf-4a84-a593-755813ba4305",
   "metadata": {},
   "source": [
    "(5) Split data, both X and y into work and testing chunks (80/20). Do not look at the testing chunk. Your work data should be 242 and test data 61 rows."
   ]
  },
  {
   "cell_type": "code",
   "execution_count": 456,
   "id": "9db6ad57-a310-4618-9236-5f93e5850ed3",
   "metadata": {},
   "outputs": [
    {
     "name": "stdout",
     "output_type": "stream",
     "text": [
      "shape of original dataset : (303, 14)\n",
      "shape of input - training set (242, 16)\n",
      "shape of input - testing set (61, 16)\n",
      "shape of output - training set (242,)\n",
      "shape of output - testing set (61,)\n"
     ]
    }
   ],
   "source": [
    "from sklearn.model_selection import train_test_split\n",
    "from sklearn.linear_model import LogisticRegression\n",
    "\n",
    "Xt, Xv, yt, yv = train_test_split(X, y, test_size=0.2)\n",
    "print(\"shape of original dataset :\", heart_data.shape)\n",
    "print(\"shape of input - training set\", Xt.shape)\n",
    "print(\"shape of input - testing set\", Xv.shape) # do not consider bc it's testing\n",
    "print(\"shape of output - training set\", yt.shape)\n",
    "print(\"shape of output - testing set\", yv.shape) # do not consider bc it's testing"
   ]
  },
  {
   "cell_type": "markdown",
   "id": "b51d8d0b-0d4c-40b5-9f84-447736b5710a",
   "metadata": {},
   "source": [
    "(6)"
   ]
  },
  {
   "cell_type": "code",
   "execution_count": 457,
   "id": "57b367fb-025f-4fd0-b636-7612f1771afe",
   "metadata": {},
   "outputs": [
    {
     "name": "stdout",
     "output_type": "stream",
     "text": [
      "87     1\n",
      "196    0\n",
      "260    0\n",
      "216    0\n",
      "279    0\n",
      "      ..\n",
      "138    1\n",
      "37     1\n",
      "78     1\n",
      "156    1\n",
      "69     1\n",
      "Name: output, Length: 242, dtype: int64\n"
     ]
    },
    {
     "data": {
      "text/html": [
       "<div>\n",
       "<style scoped>\n",
       "    .dataframe tbody tr th:only-of-type {\n",
       "        vertical-align: middle;\n",
       "    }\n",
       "\n",
       "    .dataframe tbody tr th {\n",
       "        vertical-align: top;\n",
       "    }\n",
       "\n",
       "    .dataframe thead th {\n",
       "        text-align: right;\n",
       "    }\n",
       "</style>\n",
       "<table border=\"1\" class=\"dataframe\">\n",
       "  <thead>\n",
       "    <tr style=\"text-align: right;\">\n",
       "      <th></th>\n",
       "      <th>age</th>\n",
       "      <th>cp</th>\n",
       "      <th>trtbps</th>\n",
       "      <th>chol</th>\n",
       "      <th>restecg</th>\n",
       "      <th>thalachh</th>\n",
       "      <th>oldpeak</th>\n",
       "      <th>slp</th>\n",
       "      <th>caa</th>\n",
       "      <th>thall</th>\n",
       "      <th>sex_0</th>\n",
       "      <th>sex_1</th>\n",
       "      <th>fbs_0</th>\n",
       "      <th>fbs_1</th>\n",
       "      <th>exng_0</th>\n",
       "      <th>exng_1</th>\n",
       "    </tr>\n",
       "  </thead>\n",
       "  <tbody>\n",
       "    <tr>\n",
       "      <th>87</th>\n",
       "      <td>46</td>\n",
       "      <td>1</td>\n",
       "      <td>101</td>\n",
       "      <td>197</td>\n",
       "      <td>1</td>\n",
       "      <td>156</td>\n",
       "      <td>0.0</td>\n",
       "      <td>2</td>\n",
       "      <td>0</td>\n",
       "      <td>3</td>\n",
       "      <td>0</td>\n",
       "      <td>1</td>\n",
       "      <td>0</td>\n",
       "      <td>1</td>\n",
       "      <td>1</td>\n",
       "      <td>0</td>\n",
       "    </tr>\n",
       "    <tr>\n",
       "      <th>196</th>\n",
       "      <td>46</td>\n",
       "      <td>2</td>\n",
       "      <td>150</td>\n",
       "      <td>231</td>\n",
       "      <td>1</td>\n",
       "      <td>147</td>\n",
       "      <td>3.6</td>\n",
       "      <td>1</td>\n",
       "      <td>0</td>\n",
       "      <td>2</td>\n",
       "      <td>0</td>\n",
       "      <td>1</td>\n",
       "      <td>1</td>\n",
       "      <td>0</td>\n",
       "      <td>1</td>\n",
       "      <td>0</td>\n",
       "    </tr>\n",
       "    <tr>\n",
       "      <th>260</th>\n",
       "      <td>66</td>\n",
       "      <td>0</td>\n",
       "      <td>178</td>\n",
       "      <td>228</td>\n",
       "      <td>1</td>\n",
       "      <td>165</td>\n",
       "      <td>1.0</td>\n",
       "      <td>1</td>\n",
       "      <td>2</td>\n",
       "      <td>3</td>\n",
       "      <td>1</td>\n",
       "      <td>0</td>\n",
       "      <td>0</td>\n",
       "      <td>1</td>\n",
       "      <td>0</td>\n",
       "      <td>1</td>\n",
       "    </tr>\n",
       "    <tr>\n",
       "      <th>216</th>\n",
       "      <td>62</td>\n",
       "      <td>2</td>\n",
       "      <td>130</td>\n",
       "      <td>263</td>\n",
       "      <td>1</td>\n",
       "      <td>97</td>\n",
       "      <td>1.2</td>\n",
       "      <td>1</td>\n",
       "      <td>1</td>\n",
       "      <td>3</td>\n",
       "      <td>1</td>\n",
       "      <td>0</td>\n",
       "      <td>1</td>\n",
       "      <td>0</td>\n",
       "      <td>1</td>\n",
       "      <td>0</td>\n",
       "    </tr>\n",
       "    <tr>\n",
       "      <th>279</th>\n",
       "      <td>61</td>\n",
       "      <td>0</td>\n",
       "      <td>138</td>\n",
       "      <td>166</td>\n",
       "      <td>0</td>\n",
       "      <td>125</td>\n",
       "      <td>3.6</td>\n",
       "      <td>1</td>\n",
       "      <td>1</td>\n",
       "      <td>2</td>\n",
       "      <td>0</td>\n",
       "      <td>1</td>\n",
       "      <td>1</td>\n",
       "      <td>0</td>\n",
       "      <td>0</td>\n",
       "      <td>1</td>\n",
       "    </tr>\n",
       "    <tr>\n",
       "      <th>...</th>\n",
       "      <td>...</td>\n",
       "      <td>...</td>\n",
       "      <td>...</td>\n",
       "      <td>...</td>\n",
       "      <td>...</td>\n",
       "      <td>...</td>\n",
       "      <td>...</td>\n",
       "      <td>...</td>\n",
       "      <td>...</td>\n",
       "      <td>...</td>\n",
       "      <td>...</td>\n",
       "      <td>...</td>\n",
       "      <td>...</td>\n",
       "      <td>...</td>\n",
       "      <td>...</td>\n",
       "      <td>...</td>\n",
       "    </tr>\n",
       "    <tr>\n",
       "      <th>138</th>\n",
       "      <td>57</td>\n",
       "      <td>0</td>\n",
       "      <td>110</td>\n",
       "      <td>201</td>\n",
       "      <td>1</td>\n",
       "      <td>126</td>\n",
       "      <td>1.5</td>\n",
       "      <td>1</td>\n",
       "      <td>0</td>\n",
       "      <td>1</td>\n",
       "      <td>0</td>\n",
       "      <td>1</td>\n",
       "      <td>1</td>\n",
       "      <td>0</td>\n",
       "      <td>0</td>\n",
       "      <td>1</td>\n",
       "    </tr>\n",
       "    <tr>\n",
       "      <th>37</th>\n",
       "      <td>54</td>\n",
       "      <td>2</td>\n",
       "      <td>150</td>\n",
       "      <td>232</td>\n",
       "      <td>0</td>\n",
       "      <td>165</td>\n",
       "      <td>1.6</td>\n",
       "      <td>2</td>\n",
       "      <td>0</td>\n",
       "      <td>3</td>\n",
       "      <td>0</td>\n",
       "      <td>1</td>\n",
       "      <td>1</td>\n",
       "      <td>0</td>\n",
       "      <td>1</td>\n",
       "      <td>0</td>\n",
       "    </tr>\n",
       "    <tr>\n",
       "      <th>78</th>\n",
       "      <td>52</td>\n",
       "      <td>1</td>\n",
       "      <td>128</td>\n",
       "      <td>205</td>\n",
       "      <td>1</td>\n",
       "      <td>184</td>\n",
       "      <td>0.0</td>\n",
       "      <td>2</td>\n",
       "      <td>0</td>\n",
       "      <td>2</td>\n",
       "      <td>0</td>\n",
       "      <td>1</td>\n",
       "      <td>0</td>\n",
       "      <td>1</td>\n",
       "      <td>1</td>\n",
       "      <td>0</td>\n",
       "    </tr>\n",
       "    <tr>\n",
       "      <th>156</th>\n",
       "      <td>47</td>\n",
       "      <td>2</td>\n",
       "      <td>130</td>\n",
       "      <td>253</td>\n",
       "      <td>1</td>\n",
       "      <td>179</td>\n",
       "      <td>0.0</td>\n",
       "      <td>2</td>\n",
       "      <td>0</td>\n",
       "      <td>2</td>\n",
       "      <td>0</td>\n",
       "      <td>1</td>\n",
       "      <td>1</td>\n",
       "      <td>0</td>\n",
       "      <td>1</td>\n",
       "      <td>0</td>\n",
       "    </tr>\n",
       "    <tr>\n",
       "      <th>69</th>\n",
       "      <td>62</td>\n",
       "      <td>0</td>\n",
       "      <td>124</td>\n",
       "      <td>209</td>\n",
       "      <td>1</td>\n",
       "      <td>163</td>\n",
       "      <td>0.0</td>\n",
       "      <td>2</td>\n",
       "      <td>0</td>\n",
       "      <td>2</td>\n",
       "      <td>1</td>\n",
       "      <td>0</td>\n",
       "      <td>1</td>\n",
       "      <td>0</td>\n",
       "      <td>1</td>\n",
       "      <td>0</td>\n",
       "    </tr>\n",
       "  </tbody>\n",
       "</table>\n",
       "<p>242 rows × 16 columns</p>\n",
       "</div>"
      ],
      "text/plain": [
       "     age  cp  trtbps  chol  restecg  thalachh  oldpeak  slp  caa  thall  \\\n",
       "87    46   1     101   197        1       156      0.0    2    0      3   \n",
       "196   46   2     150   231        1       147      3.6    1    0      2   \n",
       "260   66   0     178   228        1       165      1.0    1    2      3   \n",
       "216   62   2     130   263        1        97      1.2    1    1      3   \n",
       "279   61   0     138   166        0       125      3.6    1    1      2   \n",
       "..   ...  ..     ...   ...      ...       ...      ...  ...  ...    ...   \n",
       "138   57   0     110   201        1       126      1.5    1    0      1   \n",
       "37    54   2     150   232        0       165      1.6    2    0      3   \n",
       "78    52   1     128   205        1       184      0.0    2    0      2   \n",
       "156   47   2     130   253        1       179      0.0    2    0      2   \n",
       "69    62   0     124   209        1       163      0.0    2    0      2   \n",
       "\n",
       "     sex_0  sex_1  fbs_0  fbs_1  exng_0  exng_1  \n",
       "87       0      1      0      1       1       0  \n",
       "196      0      1      1      0       1       0  \n",
       "260      1      0      0      1       0       1  \n",
       "216      1      0      1      0       1       0  \n",
       "279      0      1      1      0       0       1  \n",
       "..     ...    ...    ...    ...     ...     ...  \n",
       "138      0      1      1      0       0       1  \n",
       "37       0      1      1      0       1       0  \n",
       "78       0      1      0      1       1       0  \n",
       "156      0      1      1      0       1       0  \n",
       "69       1      0      1      0       1       0  \n",
       "\n",
       "[242 rows x 16 columns]"
      ]
     },
     "execution_count": 457,
     "metadata": {},
     "output_type": "execute_result"
    }
   ],
   "source": [
    "del heart_data\n",
    "del Xv\n",
    "del yv\n",
    "del X\n",
    "del y\n",
    "X = Xt\n",
    "y = yt\n",
    "print(y)\n",
    "X"
   ]
  },
  {
   "cell_type": "markdown",
   "id": "75b6a270-c64d-4b2c-9375-5e6ec3096561",
   "metadata": {},
   "source": [
    "(7)"
   ]
  },
  {
   "cell_type": "code",
   "execution_count": 458,
   "id": "16481b6c-5f84-435b-927e-4548fddff585",
   "metadata": {},
   "outputs": [
    {
     "name": "stdout",
     "output_type": "stream",
     "text": [
      "shape of original dataset : (242, 16)\n",
      "shape of input - training set (193, 16)\n",
      "shape of input - testing set (49, 16)\n",
      "shape of output - training set (193,)\n",
      "shape of output - testing set (49,)\n"
     ]
    }
   ],
   "source": [
    "Xt, Xv, yt, yv = train_test_split(X, y, test_size=0.2)\n",
    "print(\"shape of original dataset :\", X.shape)\n",
    "print(\"shape of input - training set\", Xt.shape) # we only use work data\n",
    "print(\"shape of input - testing set\", Xv.shape)\n",
    "print(\"shape of output - training set\", yt.shape) # we only use work data\n",
    "print(\"shape of output - testing set\", yv.shape)"
   ]
  },
  {
   "cell_type": "markdown",
   "id": "2eaba1ed-ee75-4149-827a-7b41ebb1247d",
   "metadata": {},
   "source": [
    "## 2. Logistic regression (16pts)"
   ]
  },
  {
   "cell_type": "markdown",
   "id": "2d4bbaf9-a34c-4efd-89e0-b30e3a9de99f",
   "metadata": {},
   "source": [
    "2 - (1) What do you think, which measure-precision, recall, or F-score will be most relevant in order to make this model more applicable in medicine?"
   ]
  },
  {
   "cell_type": "markdown",
   "id": "b1e87051-89b4-45e3-afc5-a8622494b3ab",
   "metadata": {},
   "source": [
    "To make the model more applicable in medicine, I would say measuring F-score would be the most relevant since it calculates the mean of precision and recall. It combines both precision and recall into a single metric to provide a balanced evaluation of the model's performance."
   ]
  },
  {
   "cell_type": "markdown",
   "id": "b5366d10-1048-4962-9335-23ab3d0f7c30",
   "metadata": {},
   "source": [
    "2 - (2) Imagine we create a very simple model (\"naive model\") that predicts everyone the same result (attack or no attack), whichever category is more common in data? How would the confusion matrix of this model look like? What are the corresponding accuracy, precision and recall?"
   ]
  },
  {
   "cell_type": "code",
   "execution_count": 459,
   "id": "bffcf6a3-06d8-4c69-992c-c4e034bac9c4",
   "metadata": {},
   "outputs": [
    {
     "data": {
      "text/plain": [
       "0.5181347150259067"
      ]
     },
     "execution_count": 459,
     "metadata": {},
     "output_type": "execute_result"
    }
   ],
   "source": [
    "majority = np.mean(yt)\n",
    "majority"
   ]
  },
  {
   "cell_type": "code",
   "execution_count": 460,
   "id": "bd5b311a-7c35-48d5-b1b2-5f6ac4f199c9",
   "metadata": {},
   "outputs": [
    {
     "data": {
      "text/plain": [
       "array([[  0,  93],\n",
       "       [  0, 100]])"
      ]
     },
     "execution_count": 460,
     "metadata": {},
     "output_type": "execute_result"
    }
   ],
   "source": [
    "from sklearn.metrics import confusion_matrix\n",
    "# size of training data y\n",
    "y_size = np.size(yt)\n",
    "# array filled with ones that represent size of y training data\n",
    "majority_output = np.ones((y_size,))\n",
    "naive_cm = confusion_matrix(yt, majority_output)\n",
    "naive_cm"
   ]
  },
  {
   "cell_type": "code",
   "execution_count": 461,
   "id": "42f54318-7270-4768-a580-ec53535ec59c",
   "metadata": {},
   "outputs": [
    {
     "name": "stdout",
     "output_type": "stream",
     "text": [
      "naive_precision:  0.5181347150259067\n",
      "naive_accuracy:  0.5181347150259067\n",
      "naive_recall:  1.0\n",
      "test_naive_precision:  0.5181347150259067\n",
      "test_naive_accuracy:  0.5181347150259067\n",
      "test_naive_recall:  1.0\n"
     ]
    }
   ],
   "source": [
    "naive_precision = np.sum((yt == 1) & (majority_output == 1))/(np.sum((yt == 1) & (majority_output == 1)) + np.sum((yt != 1) & (majority_output == 1)))\n",
    "naive_accuracy = np.mean(yt == majority_output)\n",
    "naive_recall = np.sum((yt == 1) & (majority_output == 1))/(np.sum((yt == 1) & (majority_output == 1)) + np.sum((yt == 1) & (majority_output != 1)))\n",
    "print(\"naive_precision: \", naive_precision)\n",
    "print(\"naive_accuracy: \", naive_accuracy)\n",
    "print(\"naive_recall: \", naive_recall)\n",
    "\n",
    "from sklearn.metrics import accuracy_score\n",
    "from sklearn.metrics import precision_score\n",
    "from sklearn.metrics import recall_score\n",
    "print(\"test_naive_precision: \", precision_score(yt, majority_output))\n",
    "print(\"test_naive_accuracy: \", accuracy_score(yt, majority_output))\n",
    "print(\"test_naive_recall: \", recall_score(yt, majority_output))"
   ]
  },
  {
   "cell_type": "markdown",
   "id": "9a37848e-8f92-4742-b9bb-2242b96ef33a",
   "metadata": {},
   "source": [
    "2 - (3) Construct a logistic regression model in sklearn and fit it with your training data."
   ]
  },
  {
   "cell_type": "code",
   "execution_count": 462,
   "id": "5239841f-618d-49b4-8562-b2d5c6f5ca85",
   "metadata": {},
   "outputs": [],
   "source": [
    "from sklearn.linear_model import LogisticRegression\n",
    "\n",
    "m_log = LogisticRegression(max_iter = 5000)\n",
    "_ = m_log.fit(Xt, yt)"
   ]
  },
  {
   "cell_type": "markdown",
   "id": "ac64447d-262d-45d0-a2e3-8d9b827c7b37",
   "metadata": {},
   "source": [
    "2 - (4) Use your validation data to predict the outcome - that is, whether someone has heart attack or not. Print out the first 10 labels. Which values denote attack, which ones non-attack?"
   ]
  },
  {
   "cell_type": "code",
   "execution_count": 463,
   "id": "f0a50c62-f6a6-4703-98e0-9ae7f9de869a",
   "metadata": {},
   "outputs": [
    {
     "data": {
      "text/plain": [
       "array([0, 1, 0, 0, 0, 0, 0, 1, 0, 1])"
      ]
     },
     "execution_count": 463,
     "metadata": {},
     "output_type": "execute_result"
    }
   ],
   "source": [
    "# predict the outcome using validation data\n",
    "val_predict = m_log.predict(Xv)\n",
    "val_predict[:10]\n",
    "# in the output array 1 denotes attack and 0 denotes non-attack."
   ]
  },
  {
   "cell_type": "markdown",
   "id": "f23036e0-6aef-403d-9b97-99b097dfd58e",
   "metadata": {},
   "source": [
    "2 - (5) Display the confusion matrix."
   ]
  },
  {
   "cell_type": "code",
   "execution_count": 464,
   "id": "2d10ea9e-f7f8-48bd-9e12-12fd87c2c96a",
   "metadata": {},
   "outputs": [
    {
     "data": {
      "text/plain": [
       "array([[14,  3],\n",
       "       [ 6, 26]])"
      ]
     },
     "execution_count": 464,
     "metadata": {},
     "output_type": "execute_result"
    }
   ],
   "source": [
    "from sklearn.metrics import confusion_matrix\n",
    "\n",
    "cm = confusion_matrix(yv, val_predict)\n",
    "cm"
   ]
  },
  {
   "cell_type": "markdown",
   "id": "dfe0b4a8-4dcd-47b2-ae87-daa1d02fda5f",
   "metadata": {},
   "source": [
    "2 - (6) Compute and display accuracy and the measure you suggested in 1. How do these results compare to the naive model?"
   ]
  },
  {
   "cell_type": "code",
   "execution_count": 465,
   "id": "ed681089-a17f-445e-98e1-5a85c0c3832e",
   "metadata": {},
   "outputs": [
    {
     "name": "stdout",
     "output_type": "stream",
     "text": [
      "validation_precision:  0.896551724137931\n",
      "validation_accuracy:  0.8163265306122449\n",
      "test_naive_recall:  0.8125\n"
     ]
    }
   ],
   "source": [
    "from sklearn.metrics import accuracy_score\n",
    "from sklearn.metrics import precision_score\n",
    "from sklearn.metrics import recall_score\n",
    "val_precision = np.sum((yv == 1) & (val_predict == 1))/(np.sum((yv == 1) & (val_predict == 1)) + np.sum((yv != 1) & (val_predict == 1)))\n",
    "val_accuracy = np.mean(yv == val_predict)\n",
    "val_recall = np.sum((yv == 1) & (val_predict == 1))/(np.sum((yv == 1) & (val_predict == 1)) + np.sum((yv == 1) & (val_predict != 1)))\n",
    "print(\"validation_precision: \", val_precision)\n",
    "print(\"validation_accuracy: \", val_accuracy)\n",
    "print(\"test_naive_recall: \", val_recall)"
   ]
  },
  {
   "cell_type": "markdown",
   "id": "da535eef-28c5-4a0d-90a3-1369982593a6",
   "metadata": {},
   "source": [
    "The precision and accuracy rate decreased by 0.1 unit in the second prediction model. Also the naive model tends to have higher false positive and true positive rate than the second model."
   ]
  },
  {
   "cell_type": "markdown",
   "id": "673bed00-3dc2-41a4-8944-371e837df4bf",
   "metadata": {},
   "source": [
    "### 3 Other ML methods (30pts)"
   ]
  },
  {
   "cell_type": "markdown",
   "id": "bcce8c4b-f8df-4179-bbee-2a99b133c166",
   "metadata": {},
   "source": [
    "## 3.1 Nearest Neighbors (20pts)"
   ]
  },
  {
   "cell_type": "markdown",
   "id": "98f59e9f-eead-4ad9-8aff-4f042528dd29",
   "metadata": {},
   "source": [
    "We can use the same design matrix and the outcome vector as what we used for logictic regression above, but only use training data for training!"
   ]
  },
  {
   "cell_type": "markdown",
   "id": "2af79ac9-addb-4226-b6d3-d67c398b0f10",
   "metadata": {},
   "source": [
    "3.1 - (1) Loop over different number of neighbors k (from a single neighbor to all data points). For each k value: \n",
    "* train the model on training data and\n",
    "* compute the performance(accuracy and your suggested measure) on training data\n",
    "* compute the performance(accuracy and your suggested measure) on validation data\n",
    "* store the performance values"
   ]
  },
  {
   "cell_type": "code",
   "execution_count": 466,
   "id": "df32b5ee-05fe-45c3-846f-84ec29cb2c42",
   "metadata": {},
   "outputs": [],
   "source": [
    "from sklearn.neighbors import KNeighborsClassifier\n",
    "\n",
    "train_accuracy = []\n",
    "train_precision = []\n",
    "val_accuracy = []\n",
    "val_precision = []\n",
    "\n",
    "size = range(1, Xt.shape[0] + 1)\n",
    "\n",
    "for k in size:\n",
    "    # train the model on training data\n",
    "    m = KNeighborsClassifier(k)\n",
    "    _ = m.fit(Xt, yt)\n",
    "    # make prediction for both X - validation data and training data\n",
    "    yhat_val = m.predict(Xv)\n",
    "    yhat_train = m.predict(Xt)\n",
    "    # calculate performance on each validation and training data\n",
    "    accuracy_train = np.mean(yt == yhat_train)\n",
    "    precision_train = np.sum((yt == 1) & (yhat_train == 1))/(np.sum((yt == 1) & (yhat_train == 1)) + np.sum((yt != 1) & (yhat_train == 1)))\n",
    "    accuracy_val = np.mean(yv == yhat_val)\n",
    "    precision_val = np.sum((yv == 1) & (yhat_val == 1))/(np.sum((yv == 1) & (yhat_val == 1)) + np.sum((yv != 1) & (yhat_val == 1)))\n",
    "    # store the performance values\n",
    "    train_accuracy.append(accuracy_train)\n",
    "    train_precision.append(precision_train)\n",
    "    val_accuracy.append(accuracy_val)\n",
    "    val_precision.append(precision_val)"
   ]
  },
  {
   "cell_type": "markdown",
   "id": "1ee7353e-c696-4d01-9738-d1fd7d3c9b62",
   "metadata": {},
   "source": [
    "3.1 - (2) Make a plot where you show both the training and validation performance as a function of k."
   ]
  },
  {
   "cell_type": "code",
   "execution_count": 467,
   "id": "4ccdec87-b8fa-446d-aae0-c8b885f8bc38",
   "metadata": {},
   "outputs": [
    {
     "data": {
      "image/png": "[encoded data removed]",
      "text/plain": [
       "<Figure size 432x288 with 1 Axes>"
      ]
     },
     "metadata": {
      "needs_background": "light"
     },
     "output_type": "display_data"
    }
   ],
   "source": [
    "_ = plt.plot(size, train_accuracy, label=\"train accuracy\")\n",
    "_ = plt.plot(size, val_accuracy, label=\"validation accuracy\")\n",
    "_ = plt.legend()"
   ]
  },
  {
   "cell_type": "code",
   "execution_count": 468,
   "id": "1fdd2834-1464-414d-84b2-9597361c90aa",
   "metadata": {},
   "outputs": [
    {
     "data": {
      "image/png": "[encoded data removed]",
      "text/plain": [
       "<Figure size 432x288 with 1 Axes>"
      ]
     },
     "metadata": {
      "needs_background": "light"
     },
     "output_type": "display_data"
    }
   ],
   "source": [
    "_ = plt.plot(size, train_precision, label=\"train precision\")\n",
    "_ = plt.plot(size, val_precision, label=\"validation precision\")\n",
    "_ = plt.legend()"
   ]
  },
  {
   "cell_type": "markdown",
   "id": "9aeff70f-3e8b-4430-81ba-68d864d4298b",
   "metadata": {},
   "source": [
    "3.1 - (3) Find the k value that gives you the best performance (both accuracy and your suggested measure). How good measures do you get? How do they compare with the naive model? How do they compare with logistic regression?"
   ]
  },
  {
   "cell_type": "code",
   "execution_count": 469,
   "id": "731cd8c8-b571-4b3a-8505-bac498bea360",
   "metadata": {},
   "outputs": [
    {
     "name": "stdout",
     "output_type": "stream",
     "text": [
      "when k value is 30 the best performance accuracy is 0.7551020408163265\n",
      "when k value is 30 the best performance precision is 0.8571428571428571\n"
     ]
    }
   ],
   "source": [
    "k_range = range(1, Xt.shape[0] + 1)\n",
    "# calculating the max accuracy and precision in validation data\n",
    "best_accuracy = max(val_accuracy)\n",
    "best_precision = max(val_precision)\n",
    "# finding the best k value in accuracy and precision\n",
    "acc_best_k = k_range[val_accuracy.index(best_accuracy)]\n",
    "val_best_k = k_range[val_precision.index(best_precision)]\n",
    "\n",
    "print(\"when k value is\", acc_best_k, \"the best performance accuracy is\", best_accuracy)\n",
    "print(\"when k value is\", val_best_k, \"the best performance precision is\", best_precision)"
   ]
  },
  {
   "cell_type": "markdown",
   "id": "e1a6bf8c-9471-4dae-80b0-f9fcd6cde3ba",
   "metadata": {},
   "source": [
    "Compared to the naive model, the precision and accuracy scores increased a lot. Also, for this classification problem KNN modeling tends to show better performance than logistic regression model since they have better accuracy and precision values."
   ]
  },
  {
   "cell_type": "markdown",
   "id": "2be3f01b-0616-4a37-8899-7586ef5bd1d6",
   "metadata": {},
   "source": [
    "3.1 - (4) Which k values (if any) are overfitting, which ones underfitting? Why do the model performance measure flatten out when k is very large?"
   ]
  },
  {
   "cell_type": "code",
   "execution_count": 470,
   "id": "9a4308b9-9e71-4aed-a24a-916e68fc7ab5",
   "metadata": {},
   "outputs": [
    {
     "name": "stdout",
     "output_type": "stream",
     "text": [
      "when k value is 1 the best performance accuracy is 1.0\n",
      "when k value is 1 the best performance precision is 1.0\n",
      "when k value is 171 the worst performance accuracy is 0.5181347150259067\n",
      "when k value is 171 the worst performance precision is 0.5181347150259067\n"
     ]
    }
   ],
   "source": [
    "k_range = range(1, Xt.shape[0] + 1)\n",
    "# calculating the max accuracy and precision in training data\n",
    "best_accuracy = max(train_accuracy)\n",
    "best_precision = max(train_precision)\n",
    "worst_accuracy = min(train_accuracy)\n",
    "worst_precision = min(train_precision)\n",
    "# finding the best k value in accuracy and precision (in training)\n",
    "acc_best_k = k_range[train_accuracy.index(best_accuracy)]\n",
    "val_best_k = k_range[train_precision.index(best_precision)]\n",
    "acc_worst_k = k_range[train_accuracy.index(worst_accuracy)]\n",
    "val_worst_k = k_range[train_precision.index(worst_precision)]\n",
    "# print out the results\n",
    "# overfitting - best performance\n",
    "print(\"when k value is\", acc_best_k, \"the best performance accuracy is\", best_accuracy)\n",
    "print(\"when k value is\", val_best_k, \"the best performance precision is\", best_precision)\n",
    "# underfitting - worst performance\n",
    "print(\"when k value is\", acc_worst_k, \"the worst performance accuracy is\", worst_accuracy)\n",
    "print(\"when k value is\", val_worst_k, \"the worst performance precision is\", worst_precision)"
   ]
  },
  {
   "cell_type": "markdown",
   "id": "b168636c-1058-44dd-8fbb-05af9719ec38",
   "metadata": {},
   "source": [
    "As you can tell from the values above, the model is overfitting in the very beginning of the prediction in training dataset since the accuracy value and precision value equals to one. Moreover, if you see the plots above you can tell that the model exhibits a high accuracy on the training data but a significant low accuracy on the validation data especailly in the first part of the graph. The gap between orange and blue plot is huge when k = 1 in both precision and accuracy. The reason why performance measure flattens out when k is very large is because the model starts to consider large number of neighbors which can smooth out the decision boundary and cause more bias. This means that the model makes predictions based on the majority class which becomes less sensitive to the local patterns in the data resulting poor accuracy and precision."
   ]
  },
  {
   "cell_type": "markdown",
   "id": "8a5fceb5-432b-48bf-9053-1e015ab83cae",
   "metadata": {},
   "source": [
    "### 3.2 Decision Trees (10pts)"
   ]
  },
  {
   "cell_type": "markdown",
   "id": "e2deeeae-f4e0-475e-9088-535dc1291058",
   "metadata": {},
   "source": [
    "(1) Loop over different values of max depth, from 1 to 10. For each max depth value:\n",
    "* train the model on training data\n",
    "* compute the performance (accuracy and your suggested measure) on training data\n",
    "* compute the performance (accuracy and your suggested measure) on validation data\n",
    "* store the performance values in a list or array"
   ]
  },
  {
   "cell_type": "code",
   "execution_count": 471,
   "id": "e89df457-0bff-4d4d-9c3f-1ae8cceea84c",
   "metadata": {},
   "outputs": [],
   "source": [
    "from sklearn.tree import DecisionTreeClassifier\n",
    "\n",
    "train_accuracy = []\n",
    "train_precision = []\n",
    "val_accuracy = []\n",
    "val_precision = []\n",
    "\n",
    "size = range(1, 11)\n",
    "\n",
    "for k in size:\n",
    "    # train the model on training data\n",
    "    m = DecisionTreeClassifier(max_depth=k)\n",
    "    _ = m.fit(Xt, yt)\n",
    "    # make prediction for both X - validation data and training data\n",
    "    yhat_val = m.predict(Xv)\n",
    "    yhat_train = m.predict(Xt)\n",
    "    # calculate performance on each validation and training data\n",
    "    accuracy_train = np.mean(yt == yhat_train)\n",
    "    precision_train = np.sum((yt == 1) & (yhat_train == 1))/(np.sum((yt == 1) & (yhat_train == 1)) + np.sum((yt != 1) & (yhat_train == 1)))\n",
    "    accuracy_val = np.mean(yv == yhat_val)\n",
    "    precision_val = np.sum((yv == 1) & (yhat_val == 1))/(np.sum((yv == 1) & (yhat_val == 1)) + np.sum((yv != 1) & (yhat_val == 1)))\n",
    "    # store the performance values\n",
    "    train_accuracy.append(accuracy_train)\n",
    "    train_precision.append(precision_train)\n",
    "    val_accuracy.append(accuracy_val)\n",
    "    val_precision.append(precision_val)"
   ]
  },
  {
   "cell_type": "markdown",
   "id": "78cc1fc2-4445-467f-9015-34c432a6f7db",
   "metadata": {},
   "source": [
    "3.2 - (2) Make a plot where you show both the training and validation performance as a function of k."
   ]
  },
  {
   "cell_type": "code",
   "execution_count": 472,
   "id": "1f8e7a9e-8430-4788-9e32-7c7d9fc49667",
   "metadata": {},
   "outputs": [
    {
     "data": {
      "image/png": "[encoded data removed]",
      "text/plain": [
       "<Figure size 432x288 with 1 Axes>"
      ]
     },
     "metadata": {
      "needs_background": "light"
     },
     "output_type": "display_data"
    }
   ],
   "source": [
    "_ = plt.plot(size, train_accuracy, label=\"train accuracy\")\n",
    "_ = plt.plot(size, val_accuracy, label=\"validation accuracy\")\n",
    "_ = plt.legend()"
   ]
  },
  {
   "cell_type": "code",
   "execution_count": 473,
   "id": "bd425531-1525-4a6f-9fc0-7db4e6e8d267",
   "metadata": {},
   "outputs": [
    {
     "data": {
      "image/png": "[encoded data removed]",
      "text/plain": [
       "<Figure size 432x288 with 1 Axes>"
      ]
     },
     "metadata": {
      "needs_background": "light"
     },
     "output_type": "display_data"
    }
   ],
   "source": [
    "_ = plt.plot(size, train_precision, label=\"train precision\")\n",
    "_ = plt.plot(size, val_precision, label=\"validation precision\")\n",
    "_ = plt.legend()"
   ]
  },
  {
   "cell_type": "markdown",
   "id": "b91666a5-0575-462c-8af1-07891a380f40",
   "metadata": {},
   "source": [
    "3.2 - (3) Find the k value that gives you the best performance (both accuracy and your suggested measure). How good measures do you get? How do they compare with the naive model? How do they compare with logistic regression?"
   ]
  },
  {
   "cell_type": "code",
   "execution_count": 474,
   "id": "8d333a0a-fbfd-4adb-8a2d-e9d6788efd42",
   "metadata": {},
   "outputs": [
    {
     "name": "stdout",
     "output_type": "stream",
     "text": [
      "when k value is 3 the best performance accuracy is 0.7551020408163265\n",
      "when k value is 6 the best performance precision is 0.8333333333333334\n"
     ]
    }
   ],
   "source": [
    "k_range = range(1, 11)\n",
    "# calculating the max accuracy and precision in validation data\n",
    "best_accuracy = max(val_accuracy)\n",
    "best_precision = max(val_precision)\n",
    "# finding the best k value in accuracy and precision\n",
    "acc_best_k = k_range[val_accuracy.index(best_accuracy)]\n",
    "val_best_k = k_range[val_precision.index(best_precision)]\n",
    "\n",
    "print(\"when k value is\", acc_best_k, \"the best performance accuracy is\", best_accuracy)\n",
    "print(\"when k value is\", val_best_k, \"the best performance precision is\", best_precision)"
   ]
  },
  {
   "cell_type": "markdown",
   "id": "0f5e20ab-9a4f-443b-8151-44caf9466ca9",
   "metadata": {},
   "source": [
    "3.2 - (4) Which k values (if any) are overfitting, which ones underfitting?"
   ]
  },
  {
   "cell_type": "code",
   "execution_count": 475,
   "id": "fe36e071-5787-4850-b47d-84b684fd3357",
   "metadata": {},
   "outputs": [
    {
     "name": "stdout",
     "output_type": "stream",
     "text": [
      "when k value is 8 the best performance accuracy is 1.0\n",
      "when k value is 8 the best performance precision is 1.0\n",
      "when k value is 1 the worst performance accuracy is 0.7772020725388601\n",
      "when k value is 1 the worst performance precision is 0.7435897435897436\n"
     ]
    }
   ],
   "source": [
    "k_range = range(1, 11)\n",
    "# calculating the max accuracy and precision in training data\n",
    "best_accuracy = max(train_accuracy)\n",
    "best_precision = max(train_precision)\n",
    "worst_accuracy = min(train_accuracy)\n",
    "worst_precision = min(train_precision)\n",
    "# finding the best k value in accuracy and precision (in training)\n",
    "acc_best_k = k_range[train_accuracy.index(best_accuracy)]\n",
    "val_best_k = k_range[train_precision.index(best_precision)]\n",
    "acc_worst_k = k_range[train_accuracy.index(worst_accuracy)]\n",
    "val_worst_k = k_range[train_precision.index(worst_precision)]\n",
    "# print out the results\n",
    "# overfitting results - accuracy and precision both 1\n",
    "print(\"when k value is\", acc_best_k, \"the best performance accuracy is\", best_accuracy)\n",
    "print(\"when k value is\", val_best_k, \"the best performance precision is\", best_precision)\n",
    "# for this part, accuracy and precision are more than 0.5 which is considered as moderate.\n",
    "# so, no overfitting happening here\n",
    "print(\"when k value is\", acc_worst_k, \"the worst performance accuracy is\", worst_accuracy)\n",
    "print(\"when k value is\", val_worst_k, \"the worst performance precision is\", worst_precision)"
   ]
  },
  {
   "cell_type": "markdown",
   "id": "8cc8ceae-aa21-4588-bec5-e5cff1dd5b8e",
   "metadata": {},
   "source": [
    "When k value is 7 the best performance accuracy and precision is 1 which is considered as overfitting. Moreover, if you see the plots above you can see that training accuracy and training precision is always higher[even when running the code multiple times] than the validation accuracy and validation precision. This tells that the model itself is actually always overfitting the training data which regers to the fact that it performs poorly on unseen or new data."
   ]
  },
  {
   "cell_type": "markdown",
   "id": "426b3451-69ec-46a9-a08d-f8d339450945",
   "metadata": {},
   "source": [
    "3.2 - (5) Out of the models you tried-logistic, k-NN, and trees - which is the best model in terms of validation accuracy? How much was the accuracy over what the naitve model gave you?\n",
    "In the next two questions you are using just that model."
   ]
  },
  {
   "cell_type": "markdown",
   "id": "e0022ba9-a235-4d7a-b718-c00df0c39389",
   "metadata": {},
   "source": [
    "* logistic regression model performance accuracy: 0.8163265306122449\n",
    "* k nearest neighboor model performance accuracy: 0.7551020408163265\n",
    "* decision tree model performance accuracy: 0.7551020408163265"
   ]
  },
  {
   "cell_type": "markdown",
   "id": "400224c1-5708-4c2e-b338-014554292d34",
   "metadata": {},
   "source": [
    "Among the three ML models, the best model in terms of validation accuracy is logistic regression model which has the highest best performance accuracy and precision compared to other models."
   ]
  },
  {
   "cell_type": "markdown",
   "id": "644b612e-7b32-4e4f-9620-0d695d6e6ebd",
   "metadata": {},
   "source": [
    "### 4. How confident are we in the results? (15pts)"
   ]
  },
  {
   "cell_type": "markdown",
   "id": "6eb4b588-23a6-4e9a-9a74-2e34edea305b",
   "metadata": {},
   "source": [
    "(1) Predict the probability of having a heart attack Pr(output = 1|x) for everyone in data. Print out the first 10 probabilities.\n",
    "Note: print only probability for heart attack, not probability of non-heart attack! Hint: Python Notes 12.2.4 discusses predicting logistic regression results with sklearn."
   ]
  },
  {
   "cell_type": "code",
   "execution_count": 476,
   "id": "e032aa57-0008-4b52-a765-d927074050f6",
   "metadata": {},
   "outputs": [
    {
     "data": {
      "text/plain": [
       "array([0.00852353, 0.97035117, 0.06781728, 0.41330141, 0.01072693,\n",
       "       0.42072479, 0.00609002, 0.50446866, 0.10634003, 0.99268333])"
      ]
     },
     "execution_count": 476,
     "metadata": {},
     "output_type": "execute_result"
    }
   ],
   "source": [
    "phat = m_log.predict_proba(Xv)[:, 1]\n",
    "phat[: 10]"
   ]
  },
  {
   "cell_type": "markdown",
   "id": "3d887113-80be-48b0-948d-4a2c6abf1c8b",
   "metadata": {},
   "source": [
    "(2) Make a histogram of your predictions. What do you see - are the predicted probabilities more extreme (either 0 or 1) or in the middle (around 0.5)?\n",
    "Hint: this is my histogram looks like:"
   ]
  },
  {
   "cell_type": "code",
   "execution_count": 477,
   "id": "1e4bffc8-7387-43b0-aa21-3201810e2baf",
   "metadata": {},
   "outputs": [
    {
     "data": {
      "image/png": "[encoded data removed]",
      "text/plain": [
       "<Figure size 432x288 with 1 Axes>"
      ]
     },
     "metadata": {
      "needs_background": "light"
     },
     "output_type": "display_data"
    }
   ],
   "source": [
    "_ = plt.hist(phat, bins=10, edgecolor='k')\n",
    "_ = plt.title(\"heart attack predicted probability\")\n",
    "_ = plt.xlabel(\"probability [heart attack]\")\n",
    "_ = plt.ylabel(\"frequency\")"
   ]
  },
  {
   "cell_type": "markdown",
   "id": "2cb1d7ac-f171-4aec-b8ae-8d8e9b8faf06",
   "metadata": {},
   "source": [
    "(3) Why does predicted probaility around 0.5 indicate that the results are uncertain?"
   ]
  },
  {
   "cell_type": "markdown",
   "id": "895a5d8c-b721-4424-9734-7cba812fcd64",
   "metadata": {},
   "source": [
    "It's because the model is strongly inclined towards predicting one class over the other. In binary classification problems, where there are two classes (e.g. positive and negative, 1 and 0), a predicted probability of 0.5 means that the model is equally uncertain about assigning the instance to either class."
   ]
  },
  {
   "cell_type": "markdown",
   "id": "59f78bbe-3fae-4604-9852-a0848ad1ebf8",
   "metadata": {},
   "source": [
    "### 5. Final model goodness (10pts)"
   ]
  },
  {
   "cell_type": "markdown",
   "id": "28bee2a1-a822-4868-8699-10e7142014bc",
   "metadata": {},
   "source": [
    "(1) Take your best model, the one you used in question4. But now fit it with complete work data, not just with your training "
   ]
  },
  {
   "cell_type": "code",
   "execution_count": 478,
   "id": "505e954e-19a4-44d5-b305-b87402d3816d",
   "metadata": {},
   "outputs": [],
   "source": [
    "heart_data = pd.read_csv(\"../datasets/heart.csv.bz2\", sep=\",\")\n",
    "heart_data.sex = heart_data.sex.astype(\"category\")\n",
    "heart_data.fbs = heart_data.fbs.astype(\"category\")\n",
    "heart_data.exng = heart_data.exng.astype(\"category\")\n",
    "X = heart_data.drop(\"output\", axis = 1)\n",
    "X = pd.get_dummies(X, columns = ['sex', 'fbs', 'exng'])\n",
    "y = heart_data.output"
   ]
  },
  {
   "cell_type": "code",
   "execution_count": 479,
   "id": "03c677f2-2940-48a1-aa73-135db9a64be1",
   "metadata": {},
   "outputs": [],
   "source": [
    "from sklearn.linear_model import LogisticRegression\n",
    "\n",
    "m_log = LogisticRegression(max_iter = 5000)\n",
    "_ = m_log.fit(X, y)"
   ]
  },
  {
   "cell_type": "markdown",
   "id": "0b7bfd5c-f954-474e-a3eb-95fa662867f7",
   "metadata": {},
   "source": [
    "(2) Load your test data, the one you saved earlier. Use the test data to copmute test accuracy. This is your final model performance measure. Show it!"
   ]
  },
  {
   "cell_type": "code",
   "execution_count": 480,
   "id": "54179b45-cc1e-425d-937e-f3a93b348d9a",
   "metadata": {},
   "outputs": [
    {
     "name": "stdout",
     "output_type": "stream",
     "text": [
      "test_accuracy:  0.8549222797927462\n"
     ]
    }
   ],
   "source": [
    "# predict the outcome using validation data\n",
    "test_predict = m_log.predict(Xt)\n",
    "\n",
    "# computing accuracy score for the model with complete work data fit\n",
    "val_accuracy = np.mean(yt == test_predict)\n",
    "print(\"test_accuracy: \", val_accuracy)"
   ]
  }
 ],
 "metadata": {
  "kernelspec": {
   "display_name": "Python 3 (ipykernel)",
   "language": "python",
   "name": "python3"
  },
  "language_info": {
   "codemirror_mode": {
    "name": "ipython",
    "version": 3
   },
   "file_extension": ".py",
   "mimetype": "text/x-python",
   "name": "python",
   "nbconvert_exporter": "python",
   "pygments_lexer": "ipython3",
   "version": "3.9.7"
  }
 },
 "nbformat": 4,
 "nbformat_minor": 5
}
