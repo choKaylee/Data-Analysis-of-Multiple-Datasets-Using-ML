{
 "cells": [
  {
   "cell_type": "markdown",
   "id": "a46ee226-40a9-426b-a9f7-5d040c998c81",
   "metadata": {},
   "source": [
    "# PS3: Distributions, Variance\n",
    "## April 22, 2023\n",
    "### Name: Kaylee Cho"
   ]
  },
  {
   "cell_type": "markdown",
   "id": "b1ab0f42-e58b-4cfb-8e05-457fa0dc6b21",
   "metadata": {},
   "source": [
    "## Bionomial distribution (35pts)"
   ]
  },
  {
   "cell_type": "code",
   "execution_count": 1,
   "id": "3c0ae7ad-11ec-41c7-8b92-55343b825365",
   "metadata": {},
   "outputs": [],
   "source": [
    "import numpy as np\n",
    "import matplotlib.pyplot as plt\n",
    "import numpy as np\n",
    "import seaborn as sns\n",
    "import math as math"
   ]
  },
  {
   "cell_type": "code",
   "execution_count": 7,
   "id": "d6a668bb-0d25-4f37-8dda-470fa8aaddc4",
   "metadata": {},
   "outputs": [
    {
     "data": {
      "text/plain": [
       "array([2, 1, 2, 2, 2])"
      ]
     },
     "execution_count": 7,
     "metadata": {},
     "output_type": "execute_result"
    }
   ],
   "source": [
    "np.random.seed(0)\n",
    "N = 3    # Number of Trials\n",
    "S = 5    # Sample Size\n",
    "P = 0.6  # \"Success\" rate or probability\n",
    "x = np.random.binomial(N, P, size=5)\n",
    "x"
   ]
  },
  {
   "cell_type": "markdown",
   "id": "a07d22ed-f4da-441c-a9fe-8755e9d4259a",
   "metadata": {},
   "source": [
    "**1) What is the expected value of this RV EX?**"
   ]
  },
  {
   "cell_type": "code",
   "execution_count": 14,
   "id": "30aab607-e839-4301-84f9-66b97de22512",
   "metadata": {},
   "outputs": [
    {
     "data": {
      "text/plain": [
       "1.7999999999999998"
      ]
     },
     "execution_count": 14,
     "metadata": {},
     "output_type": "execute_result"
    }
   ],
   "source": [
    "# RV E V = number of trials * probability\n",
    "expected_value = N * P\n",
    "expected_value"
   ]
  },
  {
   "cell_type": "markdown",
   "id": "51222d76-4369-401d-bc3b-8e43dd33daa1",
   "metadata": {},
   "source": [
    "**2) What is the probability you get 0,1,2, or 3 \"successes?\"**"
   ]
  },
  {
   "cell_type": "code",
   "execution_count": 15,
   "id": "9f644d90-426f-46eb-b114-fa638fa8d86b",
   "metadata": {},
   "outputs": [
    {
     "name": "stdout",
     "output_type": "stream",
     "text": [
      "probability of 0 successes: 0.06400000000000002\n",
      "probability of 1 successes: 0.28800000000000003\n",
      "probability of 2 successes: 0.43200000000000005\n",
      "probability of 3 successes: 0.21599999999999997\n",
      "1.0\n"
     ]
    }
   ],
   "source": [
    "prob_0 = math.comb(N, 0) * P**0 * (1-P)**(N-0)\n",
    "print(\"probability of 0 successes:\", prob_0)\n",
    "prob_1 = math.comb(N, 1) * P**1 * (1-P)**(N-1)\n",
    "print(\"probability of 1 successes:\", prob_1)\n",
    "prob_2 = math.comb(N, 2) * P**2 * (1-P)**(N-2)\n",
    "print(\"probability of 2 successes:\", prob_2)\n",
    "prob_3 = math.comb(N, 3) * P**3 * (1-P)**(N-3)\n",
    "print(\"probability of 3 successes:\", prob_3)\n",
    "# should sum up to 1\n",
    "prob_check = prob_0 + prob_1 + prob_2 + prob_3\n",
    "print(prob_check)"
   ]
  },
  {
   "cell_type": "markdown",
   "id": "1a262268-2071-4b5a-b236-4d0bef08ed8d",
   "metadata": {},
   "source": [
    "**3) What is variance of this RV Var X?**"
   ]
  },
  {
   "cell_type": "code",
   "execution_count": 21,
   "id": "2f2fbca5-f3ee-4127-b22b-d56b766d26ad",
   "metadata": {},
   "outputs": [
    {
     "name": "stdout",
     "output_type": "stream",
     "text": [
      "0.72\n"
     ]
    }
   ],
   "source": [
    "print(N * P * (1-P))"
   ]
  },
  {
   "cell_type": "markdown",
   "id": "8ed3c752-4510-464e-ab00-57b0fbe38d35",
   "metadata": {},
   "source": [
    "**4) Now pick a sample size R (ex: 1000) and create a sample of size R of such random values.**"
   ]
  },
  {
   "cell_type": "code",
   "execution_count": 27,
   "id": "aa5fc3a4-2b1b-4c06-bd7d-675fc472421c",
   "metadata": {},
   "outputs": [
    {
     "data": {
      "text/plain": [
       "array([2, 1, 2, ..., 1, 3, 1])"
      ]
     },
     "execution_count": 27,
     "metadata": {},
     "output_type": "execute_result"
    }
   ],
   "source": [
    "np.random.seed(0)\n",
    "N = 3    # Number of Trials\n",
    "S = 10000    # Sample Size\n",
    "P = 0.6  # \"Success\" rate or probability\n",
    "x = np.random.binomial(N, P, size=S)\n",
    "x"
   ]
  },
  {
   "cell_type": "markdown",
   "id": "4f704c0b-e39e-469d-b5a5-3c9f5e9558fc",
   "metadata": {},
   "source": [
    "**5) Compute the mean of your sample.**"
   ]
  },
  {
   "cell_type": "code",
   "execution_count": 11,
   "id": "ba3a115b-3595-4481-b5a0-ebca06e1b726",
   "metadata": {},
   "outputs": [
    {
     "data": {
      "text/plain": [
       "1.8102"
      ]
     },
     "execution_count": 11,
     "metadata": {},
     "output_type": "execute_result"
    }
   ],
   "source": [
    "mean = np.mean(x)\n",
    "mean"
   ]
  },
  {
   "cell_type": "markdown",
   "id": "327b0c66-a0d9-4695-9eb0-7da6a607bb45",
   "metadata": {},
   "source": [
    "**6) Compute the variance of your sample.**"
   ]
  },
  {
   "cell_type": "code",
   "execution_count": 22,
   "id": "6dfc398e-43c5-4188-91f7-1ff4593e63d9",
   "metadata": {},
   "outputs": [
    {
     "data": {
      "text/plain": [
       "0.7215759599999999"
      ]
     },
     "execution_count": 22,
     "metadata": {},
     "output_type": "execute_result"
    }
   ],
   "source": [
    "var_sample = np.var(x)\n",
    "var_sample"
   ]
  },
  {
   "cell_type": "markdown",
   "id": "31883506-86ca-4f84-a5a2-038de7dfd36c",
   "metadata": {},
   "source": [
    "**7) Given your sample size, what are the expected number of cases with 0, 1, 2, and 3 successes?**"
   ]
  },
  {
   "cell_type": "code",
   "execution_count": 33,
   "id": "fdaa7c77-ca19-4c4c-9026-10eb11fece41",
   "metadata": {},
   "outputs": [
    {
     "name": "stdout",
     "output_type": "stream",
     "text": [
      "633 2838 4323 2206\n",
      "10000\n"
     ]
    }
   ],
   "source": [
    "count_0 = np.count_nonzero(x == 0)\n",
    "count_1 = np.count_nonzero(x == 1)\n",
    "count_2 = np.count_nonzero(x == 2)\n",
    "count_3 = np.count_nonzero(x == 3)\n",
    "\n",
    "expected_0 = count_0\n",
    "expected_1 = count_1\n",
    "expected_2 = count_2\n",
    "expected_3 = count_3\n",
    "print(expected_0, expected_1, expected_2, expected_3)\n",
    "# double check with numbers\n",
    "expected_samplesize = expected_0 + expected_1 + expected_2 + expected_3\n",
    "print(expected_sample)"
   ]
  },
  {
   "cell_type": "markdown",
   "id": "7acf02bc-fe72-489c-9083-17cf21893d79",
   "metadata": {},
   "source": [
    "**8) Make a histogram of your sample. Add the expected number of cases to your histogram. You can easily add two plots on top of each other along the lines.**"
   ]
  },
  {
   "cell_type": "code",
   "execution_count": 166,
   "id": "5a45cea5-b7e2-48c5-b9d5-47911c936433",
   "metadata": {},
   "outputs": [
    {
     "data": {
      "image/png": "[encoded data removed]",
      "text/plain": [
       "<Figure size 432x288 with 1 Axes>"
      ]
     },
     "metadata": {
      "needs_background": "light"
     },
     "output_type": "display_data"
    }
   ],
   "source": [
    "_ = plt.hist(x)\n",
    "_ = plt.scatter(0, expected_zero)\n",
    "_ = plt.scatter(1, expected_one)\n",
    "_ = plt.scatter(2, expected_two)\n",
    "_ = plt.scatter(3, expected_three)\n",
    "_ = plt.xlabel('number of successes')\n",
    "_ = plt.ylabel('number of case by each success')"
   ]
  },
  {
   "cell_type": "markdown",
   "id": "4414853c-efb1-4efa-b344-906cf4014fe5",
   "metadata": {},
   "source": [
    "## 2.Log-normal distribution (25pt)"
   ]
  },
  {
   "cell_type": "code",
   "execution_count": 167,
   "id": "8e5e3c20-1e20-4e25-b4d0-8f57fcaf4832",
   "metadata": {},
   "outputs": [
    {
     "data": {
      "text/plain": [
       "array([5.83603919, 1.49205924, 2.66109578, 9.40172515, 6.47247125])"
      ]
     },
     "execution_count": 167,
     "metadata": {},
     "output_type": "execute_result"
    }
   ],
   "source": [
    "import numpy as np\n",
    "np.random.seed(0)\n",
    "mu = 0\n",
    "sigma = 1\n",
    "y = np.random.lognormal(mu, sigma, size=5)\n",
    "y"
   ]
  },
  {
   "cell_type": "markdown",
   "id": "c5d284bb-52b4-43e8-85ca-f1b9304ef497",
   "metadata": {},
   "source": [
    "**1) Choose your sample size S. 10,000 is a good number.**"
   ]
  },
  {
   "cell_type": "code",
   "execution_count": 36,
   "id": "73f6ee03-fea6-49a2-aa7f-c9b2db2b7b87",
   "metadata": {},
   "outputs": [
    {
     "data": {
      "text/plain": [
       "array([5.83603919, 1.49205924, 2.66109578, ..., 1.67677479, 0.9676153 ,\n",
       "       3.66237349])"
      ]
     },
     "execution_count": 36,
     "metadata": {},
     "output_type": "execute_result"
    }
   ],
   "source": [
    "np.random.seed(0)\n",
    "mu = 0\n",
    "sigma = 1\n",
    "S = 10000\n",
    "y = np.random.lognormal(mu, sigma, size=S)\n",
    "y"
   ]
  },
  {
   "cell_type": "markdown",
   "id": "11f0a797-6062-4c15-9daf-4a06d2ff68a4",
   "metadata": {},
   "source": [
    "**2) Explore the shape of the distribution: draw S random numbers from LN(0, 0.2) (i.e. mu = 0, and sigma = 0.2) LN(0,0.5) and LN(0, 1.68). Display all these samples on a histogram while labeling clearly which one is which one. Do the histograms in two ways: a) linear-linear scale, and b) log-linear(x is log and y is linear). You can just do histogram of logx instead of x (you can also set log scale in matplotlib, but the bin widths will look weird).**"
   ]
  },
  {
   "cell_type": "code",
   "execution_count": 64,
   "id": "04b8fa2d-2029-4c8c-9263-b48da1387493",
   "metadata": {},
   "outputs": [
    {
     "name": "stdout",
     "output_type": "stream",
     "text": [
      "[0.67848014 1.15924634 1.32172395 ... 0.95116441 1.12405828 0.77867199]\n"
     ]
    }
   ],
   "source": [
    "np.random.seed(0)\n",
    "mu = 0\n",
    "sigma = 0.2\n",
    "y = np.random.lognormal(mu, sigma, size=10000)\n",
    "print(y)"
   ]
  },
  {
   "cell_type": "code",
   "execution_count": 53,
   "id": "1e853360-d33f-4a85-9391-ef382fdf5926",
   "metadata": {},
   "outputs": [
    {
     "data": {
      "image/png": "[encoded data removed]",
      "text/plain": [
       "<Figure size 640x480 with 1 Axes>"
      ]
     },
     "metadata": {},
     "output_type": "display_data"
    }
   ],
   "source": [
    "import matplotlib.pyplot as plt\n",
    "\n",
    "#create linear-linear histogram\n",
    "_ = plt.hist(y, density=True, edgecolor='black', bins=100)\n",
    "_ = plt.title('histogram with LN(0, 0.2)')\n",
    "_ = plt.xlabel('Samples')\n",
    "_ = plt.ylabel('Density')\n",
    "# histogram with LN(0, 0.2)"
   ]
  },
  {
   "cell_type": "code",
   "execution_count": 54,
   "id": "2d3c21e0-a98c-4dc9-a557-3adb7905f706",
   "metadata": {},
   "outputs": [
    {
     "data": {
      "image/png": "[encoded data removed]",
      "text/plain": [
       "<Figure size 640x480 with 1 Axes>"
      ]
     },
     "metadata": {},
     "output_type": "display_data"
    }
   ],
   "source": [
    "#create log-linear histogram\n",
    "y = np.log(y)\n",
    "_ = plt.hist(y, density=True, edgecolor='black', bins=100)\n",
    "_ = plt.title('histogram with LN(0, 0.2)')\n",
    "_ = plt.xlabel('Samples')\n",
    "_ = plt.ylabel('Density')\n",
    "# histogram with LN(0, 0.2)"
   ]
  },
  {
   "cell_type": "code",
   "execution_count": 55,
   "id": "c2c2b6e1-ff46-4ad0-905a-43ec6051e088",
   "metadata": {},
   "outputs": [
    {
     "data": {
      "text/plain": [
       "array([2.41578956, 1.22149877, 1.63128654, ..., 1.29490339, 0.98367438,\n",
       "       1.91373287])"
      ]
     },
     "execution_count": 55,
     "metadata": {},
     "output_type": "execute_result"
    }
   ],
   "source": [
    "np.random.seed(0)\n",
    "mu = 0\n",
    "sigma = 0.5\n",
    "y = np.random.lognormal(mu, sigma, size=10000)\n",
    "y"
   ]
  },
  {
   "cell_type": "code",
   "execution_count": 56,
   "id": "3226f905-6c25-4bff-a650-a2f25e511b6f",
   "metadata": {},
   "outputs": [
    {
     "data": {
      "image/png": "[encoded data removed]",
      "text/plain": [
       "<Figure size 640x480 with 1 Axes>"
      ]
     },
     "metadata": {},
     "output_type": "display_data"
    }
   ],
   "source": [
    "import matplotlib.pyplot as plt\n",
    "\n",
    "#create linear-linear histogram\n",
    "_ = plt.hist(y, density=True, edgecolor='black', bins=100)\n",
    "_ = plt.title('histogram with LN(0, 0.5)')\n",
    "_ = plt.xlabel('Samples')\n",
    "_ = plt.ylabel('Density')\n",
    "# histogram with LN(0, 0.5)"
   ]
  },
  {
   "cell_type": "code",
   "execution_count": 57,
   "id": "d43b8215-1fb4-4ff9-9b30-d8468f85a74a",
   "metadata": {},
   "outputs": [
    {
     "data": {
      "image/png": "[encoded data removed]",
      "text/plain": [
       "<Figure size 640x480 with 1 Axes>"
      ]
     },
     "metadata": {},
     "output_type": "display_data"
    }
   ],
   "source": [
    "#create log-linear histogram\n",
    "y = np.log(y)\n",
    "_ = plt.hist(y, density=True, edgecolor='black', bins=100)\n",
    "_ = plt.title('histogram with LN(0, 0.5)')\n",
    "_ = plt.xlabel('Samples')\n",
    "_ = plt.ylabel('Density')\n",
    "# histogram with LN(0, 0.5)"
   ]
  },
  {
   "cell_type": "code",
   "execution_count": 58,
   "id": "542b159a-61ca-4998-9edd-83e8080cdfa6",
   "metadata": {},
   "outputs": [
    {
     "data": {
      "text/plain": [
       "array([19.36772346,  1.95866694,  5.17727996, ...,  2.3829644 ,\n",
       "        0.94619484,  8.853627  ])"
      ]
     },
     "execution_count": 58,
     "metadata": {},
     "output_type": "execute_result"
    }
   ],
   "source": [
    "np.random.seed(0)\n",
    "mu = 0\n",
    "sigma = 1.68\n",
    "y = np.random.lognormal(mu, sigma, size=10000)\n",
    "y"
   ]
  },
  {
   "cell_type": "code",
   "execution_count": 59,
   "id": "c669ba56-ae15-4765-9f06-b6055dc8c5c4",
   "metadata": {},
   "outputs": [
    {
     "data": {
      "image/png": "[encoded data removed]",
      "text/plain": [
       "<Figure size 640x480 with 1 Axes>"
      ]
     },
     "metadata": {},
     "output_type": "display_data"
    }
   ],
   "source": [
    "import matplotlib.pyplot as plt\n",
    "\n",
    "#create linera-linear histogram\n",
    "_ = plt.hist(y, density=True, edgecolor='black', bins=100)\n",
    "_ = plt.title('histogram with LN(0, 1.68)')\n",
    "_ = plt.xlabel('Samples')\n",
    "_ = plt.ylabel('Density')\n",
    "# histogram with LN(0, 1.68)"
   ]
  },
  {
   "cell_type": "code",
   "execution_count": 60,
   "id": "444c7742-240b-43d8-8ac2-b8b254357fba",
   "metadata": {},
   "outputs": [
    {
     "data": {
      "image/png": "[encoded data removed]",
      "text/plain": [
       "<Figure size 640x480 with 1 Axes>"
      ]
     },
     "metadata": {},
     "output_type": "display_data"
    }
   ],
   "source": [
    "#create log-linear histogram\n",
    "y = np.log(y)\n",
    "_ = plt.hist(y, density=True, edgecolor='black', bins=100)\n",
    "_ = plt.title('histogram with LN(0, 1.68)')\n",
    "_ = plt.xlabel('Samples')\n",
    "_ = plt.ylabel('Density')\n",
    "# histogram with LN(0, 1.68)"
   ]
  },
  {
   "cell_type": "markdown",
   "id": "5d14f1c9-dd89-4b2d-846b-ee3477f34da0",
   "metadata": {},
   "source": [
    "All 6 histogram shape explained: The log normal distribution histogram(linear-linear) is right skewed wheras the histogram below(log-linear) is normally distributed since log of a log normal distribution turns distribution into normal gaussian distribution."
   ]
  },
  {
   "cell_type": "markdown",
   "id": "78c024b5-d35f-4de2-9d0f-ef4d8dd4b6eb",
   "metadata": {},
   "source": [
    "**3)Look at the histograms and tell-what do you think, which one describes the least unequal distribution, and which one the most unequal distribution?**"
   ]
  },
  {
   "cell_type": "markdown",
   "id": "ba1d372b-e567-4f30-b44f-c42399dd5d0f",
   "metadata": {},
   "source": [
    "The most unequal distributed histogram is the last histogram since it's right skewed a lot and has a long positive right skew.\n",
    "The least unequal distributed histogram is the first histogram since it has the most evenly bell curved(evenly distributed) shape among all the histograms."
   ]
  },
  {
   "cell_type": "markdown",
   "id": "912875ef-b705-4685-b8d0-795424d8edb6",
   "metadata": {},
   "source": [
    "**4) Compute sample means and variance (just use np.mean and such functions), and compare those with what you get using the corresponding theoretical formulas (2) and (3). Are these similar?**"
   ]
  },
  {
   "cell_type": "code",
   "execution_count": 72,
   "id": "26551852-e1c7-460a-b1dd-c8d192535002",
   "metadata": {},
   "outputs": [
    {
     "name": "stdout",
     "output_type": "stream",
     "text": [
      "[1.4230614  1.08332113 1.21621989 ... 1.10890655 0.99343749 1.29644031]\n",
      "sample mean: 1.015977084737657 sample variance: 0.04125096544492326\n"
     ]
    }
   ],
   "source": [
    "# first example -> Least inequal\n",
    "np.random.seed(0)\n",
    "mu = 0\n",
    "sigma = 0.2\n",
    "lognormal_sample1 = np.random.lognormal(mu, sigma, size=10000)\n",
    "print(lognormal_sample1)\n",
    "mean_lognormal_sample1 = np.mean(lognormal_sample1)\n",
    "var_lognormal_sample1 = np.var(lognormal_sample1)\n",
    "print(\"sample mean:\", mean_lognormal_sample1, \"sample variance:\", var_lognormal_sample1)"
   ]
  },
  {
   "cell_type": "code",
   "execution_count": 74,
   "id": "771cc4df-f6ce-441a-a6a8-dfdfd19120b9",
   "metadata": {},
   "outputs": [
    {
     "name": "stdout",
     "output_type": "stream",
     "text": [
      "Theoretical Population Mean: 1.0202013400267558\n",
      "Theoretical Population Variance: 0.04247629348257031\n"
     ]
    }
   ],
   "source": [
    "# theoretical formula => population mean and population variance = expected value\n",
    "mu = 0\n",
    "sigma = 0.2\n",
    "population_mean = np.exp(mu + 0.5 * sigma**2)\n",
    "population_variance = (np.exp(sigma**2) - 1) * np.exp(2 * mu + sigma**2)\n",
    "print(\"Theoretical Population Mean:\", population_mean)\n",
    "print(\"Theoretical Population Variance:\", population_variance)"
   ]
  },
  {
   "cell_type": "code",
   "execution_count": 81,
   "id": "40233a9d-1034-4fc9-914c-9b685dbaff4d",
   "metadata": {},
   "outputs": [
    {
     "name": "stdout",
     "output_type": "stream",
     "text": [
      "sample mean: 1.1197886507730408 sample variance: 0.348919917587978\n"
     ]
    }
   ],
   "source": [
    "# second example -> 'middle' inequal\n",
    "np.random.seed(0)\n",
    "mu = 0\n",
    "sigma = 0.5\n",
    "lognormal_sample2 = np.random.lognormal(mu, sigma, size=10000)\n",
    "lognormal_sample2\n",
    "mean_lognormal_sample2 = np.mean(lognormal_sample2)\n",
    "var_lognormal_sample2 = np.var(lognormal_sample2)\n",
    "print(\"sample mean:\", mean_lognormal_sample2, \"sample variance:\", var_lognormal_sample2)"
   ]
  },
  {
   "cell_type": "code",
   "execution_count": 70,
   "id": "767f8ce3-2c17-44cd-b36c-cfd8e046a3ce",
   "metadata": {},
   "outputs": [
    {
     "name": "stdout",
     "output_type": "stream",
     "text": [
      "Theoretical Population Mean: 1.1331484530668263\n",
      "Theoretical Population Variance: 0.3646958540123865\n"
     ]
    }
   ],
   "source": [
    "# theoretical formula => population mean and population variance = expected value\n",
    "mu = 0\n",
    "sigma = 0.5\n",
    "population_mean = np.exp(mu + 0.5 * sigma**2)\n",
    "population_variance = (np.exp(sigma**2) - 1) * np.exp(2 * mu + sigma**2)\n",
    "print(\"Theoretical Population Mean:\", population_mean)\n",
    "print(\"Theoretical Population Variance:\", population_variance)"
   ]
  },
  {
   "cell_type": "code",
   "execution_count": 83,
   "id": "9338f6c2-f724-4f32-af61-ce1532378a0c",
   "metadata": {},
   "outputs": [
    {
     "name": "stdout",
     "output_type": "stream",
     "text": [
      "sample mean: 3.8475541585835016 sample variance: 161.3877453374533\n"
     ]
    }
   ],
   "source": [
    "# third example -> the most inequal\n",
    "np.random.seed(0)\n",
    "mu = 0\n",
    "sigma = 1.68\n",
    "lognormal_sample3 = np.random.lognormal(mu, sigma, size=10000)\n",
    "lognormal_sample3\n",
    "mean_lognormal_sample3 = np.mean(lognormal_sample3)\n",
    "var_lognormal_sample3 = np.var(lognormal_sample3)\n",
    "print(\"sample mean:\", mean_lognormal_sample3, \"sample variance:\", var_lognormal_sample3)"
   ]
  },
  {
   "cell_type": "code",
   "execution_count": 71,
   "id": "5e78e31f-2789-4507-9ac9-265fc5e04204",
   "metadata": {},
   "outputs": [
    {
     "name": "stdout",
     "output_type": "stream",
     "text": [
      "Theoretical Population Mean: 4.1008735008239405\n",
      "Theoretical Population Variance: 265.99982369887033\n"
     ]
    }
   ],
   "source": [
    "# theoretical formula => population mean and population variance = expected value\n",
    "mu = 0\n",
    "sigma = 1.68\n",
    "population_mean = np.exp(mu + 0.5 * sigma**2)\n",
    "population_variance = (np.exp(sigma**2) - 1) * np.exp(2 * mu + sigma**2)\n",
    "print(\"Theoretical Population Mean:\", population_mean)\n",
    "print(\"Theoretical Population Variance:\", population_variance)"
   ]
  },
  {
   "cell_type": "markdown",
   "id": "1796acc0-5610-4d7d-a3b7-66e4a162d56f",
   "metadata": {},
   "source": [
    "**5) Compute the Pareto ratio of all three samples. Comment the results. Which distribution is the most unequal one? Which one the most equal one? Does this corresponds to what did you guessed based on the histograms?**"
   ]
  },
  {
   "cell_type": "code",
   "execution_count": 84,
   "id": "e92ca4ee-c834-4753-9795-5280c0e10f05",
   "metadata": {},
   "outputs": [
    {
     "name": "stdout",
     "output_type": "stream",
     "text": [
      "pareto_lognormal_sample1: 0.02105348998668034\n",
      "pareto_lognormal_sample2: 0.05975633663424814\n",
      "pareto_lognormal_sample3: 1.543698734188403\n"
     ]
    }
   ],
   "source": [
    "pareto_lognormal_sample1 = max(lognormal_sample1) / sum(lognormal_sample1) * 100\n",
    "pareto_lognormal_sample2 = max(lognormal_sample2) / sum(lognormal_sample2) * 100\n",
    "pareto_lognormal_sample3 = max(lognormal_sample3) / sum(lognormal_sample3) * 100\n",
    "print(\"pareto_lognormal_sample1:\", pareto_lognormal_sample1)\n",
    "print(\"pareto_lognormal_sample2:\", pareto_lognormal_sample2)\n",
    "print(\"pareto_lognormal_sample3:\", pareto_lognormal_sample3)"
   ]
  },
  {
   "cell_type": "markdown",
   "id": "c18280fd-797c-42ce-916e-7b6d9b55b5ff",
   "metadata": {},
   "source": [
    "**The pareto ratio goes up as the inequality gets advanced.**\n",
    "> Pareto ratio: (max value/sum of all values) * 100\n",
    "Regarding the definition of pareto ratio, this means that the unequal relationship between inputs and outputs are getting severe as it goes to sample 3. The gap between the max and the sum of all value is getting larger."
   ]
  },
  {
   "cell_type": "markdown",
   "id": "2124270a-62fa-4797-bba5-1bb9c2488ad8",
   "metadata": {},
   "source": [
    "## 3) Inequality in data  (20pts)"
   ]
  },
  {
   "cell_type": "markdown",
   "id": "cea2df05-8a60-4775-bc1c-364622d5cf95",
   "metadata": {},
   "source": [
    "**1) Load both datasets and do basic checks - do the values of interest (number of citations and income) look reasonable?**"
   ]
  },
  {
   "cell_type": "code",
   "execution_count": 122,
   "id": "779d12b0-9535-4921-96e4-cda001984b5f",
   "metadata": {},
   "outputs": [
    {
     "data": {
      "text/plain": [
       "id           116370\n",
       "citations         0\n",
       "year           1800\n",
       "dtype: int64"
      ]
     },
     "execution_count": 122,
     "metadata": {},
     "output_type": "execute_result"
    }
   ],
   "source": [
    "import pandas as pd\n",
    "\n",
    "citation_file = open(\"./Data/mag-30k-citations.csv\")\n",
    "citation = pd.read_csv(citation_file, sep = \"\\t\")\n",
    "citation"
   ]
  },
  {
   "cell_type": "code",
   "execution_count": 110,
   "id": "657576f1-0f6c-4304-a003-c9785326b6c9",
   "metadata": {},
   "outputs": [
    {
     "data": {
      "text/html": [
       "<div>\n",
       "<style scoped>\n",
       "    .dataframe tbody tr th:only-of-type {\n",
       "        vertical-align: middle;\n",
       "    }\n",
       "\n",
       "    .dataframe tbody tr th {\n",
       "        vertical-align: top;\n",
       "    }\n",
       "\n",
       "    .dataframe thead th {\n",
       "        text-align: right;\n",
       "    }\n",
       "</style>\n",
       "<table border=\"1\" class=\"dataframe\">\n",
       "  <thead>\n",
       "    <tr style=\"text-align: right;\">\n",
       "      <th></th>\n",
       "      <th>treat</th>\n",
       "      <th>age</th>\n",
       "      <th>educ</th>\n",
       "      <th>ethn</th>\n",
       "      <th>married</th>\n",
       "      <th>re74</th>\n",
       "      <th>re75</th>\n",
       "      <th>re78</th>\n",
       "      <th>u74</th>\n",
       "      <th>u75</th>\n",
       "    </tr>\n",
       "  </thead>\n",
       "  <tbody>\n",
       "    <tr>\n",
       "      <th>0</th>\n",
       "      <td>True</td>\n",
       "      <td>37</td>\n",
       "      <td>11</td>\n",
       "      <td>black</td>\n",
       "      <td>True</td>\n",
       "      <td>0.0</td>\n",
       "      <td>0.0</td>\n",
       "      <td>9930.05</td>\n",
       "      <td>True</td>\n",
       "      <td>True</td>\n",
       "    </tr>\n",
       "    <tr>\n",
       "      <th>1</th>\n",
       "      <td>True</td>\n",
       "      <td>30</td>\n",
       "      <td>12</td>\n",
       "      <td>black</td>\n",
       "      <td>False</td>\n",
       "      <td>0.0</td>\n",
       "      <td>0.0</td>\n",
       "      <td>24909.50</td>\n",
       "      <td>True</td>\n",
       "      <td>True</td>\n",
       "    </tr>\n",
       "    <tr>\n",
       "      <th>2</th>\n",
       "      <td>True</td>\n",
       "      <td>27</td>\n",
       "      <td>11</td>\n",
       "      <td>black</td>\n",
       "      <td>False</td>\n",
       "      <td>0.0</td>\n",
       "      <td>0.0</td>\n",
       "      <td>7506.15</td>\n",
       "      <td>True</td>\n",
       "      <td>True</td>\n",
       "    </tr>\n",
       "    <tr>\n",
       "      <th>3</th>\n",
       "      <td>True</td>\n",
       "      <td>33</td>\n",
       "      <td>8</td>\n",
       "      <td>black</td>\n",
       "      <td>False</td>\n",
       "      <td>0.0</td>\n",
       "      <td>0.0</td>\n",
       "      <td>289.79</td>\n",
       "      <td>True</td>\n",
       "      <td>True</td>\n",
       "    </tr>\n",
       "    <tr>\n",
       "      <th>4</th>\n",
       "      <td>True</td>\n",
       "      <td>22</td>\n",
       "      <td>9</td>\n",
       "      <td>black</td>\n",
       "      <td>False</td>\n",
       "      <td>0.0</td>\n",
       "      <td>0.0</td>\n",
       "      <td>4056.49</td>\n",
       "      <td>True</td>\n",
       "      <td>True</td>\n",
       "    </tr>\n",
       "    <tr>\n",
       "      <th>...</th>\n",
       "      <td>...</td>\n",
       "      <td>...</td>\n",
       "      <td>...</td>\n",
       "      <td>...</td>\n",
       "      <td>...</td>\n",
       "      <td>...</td>\n",
       "      <td>...</td>\n",
       "      <td>...</td>\n",
       "      <td>...</td>\n",
       "      <td>...</td>\n",
       "    </tr>\n",
       "    <tr>\n",
       "      <th>2670</th>\n",
       "      <td>False</td>\n",
       "      <td>47</td>\n",
       "      <td>8</td>\n",
       "      <td>other</td>\n",
       "      <td>True</td>\n",
       "      <td>44667.4</td>\n",
       "      <td>33837.1</td>\n",
       "      <td>38568.70</td>\n",
       "      <td>False</td>\n",
       "      <td>False</td>\n",
       "    </tr>\n",
       "    <tr>\n",
       "      <th>2671</th>\n",
       "      <td>False</td>\n",
       "      <td>32</td>\n",
       "      <td>8</td>\n",
       "      <td>other</td>\n",
       "      <td>True</td>\n",
       "      <td>47022.4</td>\n",
       "      <td>67137.1</td>\n",
       "      <td>59109.10</td>\n",
       "      <td>False</td>\n",
       "      <td>False</td>\n",
       "    </tr>\n",
       "    <tr>\n",
       "      <th>2672</th>\n",
       "      <td>False</td>\n",
       "      <td>47</td>\n",
       "      <td>10</td>\n",
       "      <td>other</td>\n",
       "      <td>True</td>\n",
       "      <td>48198.0</td>\n",
       "      <td>47968.1</td>\n",
       "      <td>55710.30</td>\n",
       "      <td>False</td>\n",
       "      <td>False</td>\n",
       "    </tr>\n",
       "    <tr>\n",
       "      <th>2673</th>\n",
       "      <td>False</td>\n",
       "      <td>54</td>\n",
       "      <td>0</td>\n",
       "      <td>hispanic</td>\n",
       "      <td>True</td>\n",
       "      <td>49228.5</td>\n",
       "      <td>44221.0</td>\n",
       "      <td>20540.40</td>\n",
       "      <td>False</td>\n",
       "      <td>False</td>\n",
       "    </tr>\n",
       "    <tr>\n",
       "      <th>2674</th>\n",
       "      <td>False</td>\n",
       "      <td>40</td>\n",
       "      <td>8</td>\n",
       "      <td>other</td>\n",
       "      <td>True</td>\n",
       "      <td>50940.9</td>\n",
       "      <td>55500.0</td>\n",
       "      <td>53198.20</td>\n",
       "      <td>False</td>\n",
       "      <td>False</td>\n",
       "    </tr>\n",
       "  </tbody>\n",
       "</table>\n",
       "<p>2675 rows × 10 columns</p>\n",
       "</div>"
      ],
      "text/plain": [
       "      treat  age  educ      ethn  married     re74     re75      re78    u74  \\\n",
       "0      True   37    11     black     True      0.0      0.0   9930.05   True   \n",
       "1      True   30    12     black    False      0.0      0.0  24909.50   True   \n",
       "2      True   27    11     black    False      0.0      0.0   7506.15   True   \n",
       "3      True   33     8     black    False      0.0      0.0    289.79   True   \n",
       "4      True   22     9     black    False      0.0      0.0   4056.49   True   \n",
       "...     ...  ...   ...       ...      ...      ...      ...       ...    ...   \n",
       "2670  False   47     8     other     True  44667.4  33837.1  38568.70  False   \n",
       "2671  False   32     8     other     True  47022.4  67137.1  59109.10  False   \n",
       "2672  False   47    10     other     True  48198.0  47968.1  55710.30  False   \n",
       "2673  False   54     0  hispanic     True  49228.5  44221.0  20540.40  False   \n",
       "2674  False   40     8     other     True  50940.9  55500.0  53198.20  False   \n",
       "\n",
       "        u75  \n",
       "0      True  \n",
       "1      True  \n",
       "2      True  \n",
       "3      True  \n",
       "4      True  \n",
       "...     ...  \n",
       "2670  False  \n",
       "2671  False  \n",
       "2672  False  \n",
       "2673  False  \n",
       "2674  False  \n",
       "\n",
       "[2675 rows x 10 columns]"
      ]
     },
     "execution_count": 110,
     "metadata": {},
     "output_type": "execute_result"
    }
   ],
   "source": [
    "treatment_file = \"./Data/treatment.csv\"\n",
    "treatment = pd.read_csv(treatment_file, sep = \"\\t\")\n",
    "treatment"
   ]
  },
  {
   "cell_type": "code",
   "execution_count": 111,
   "id": "053911b5-ca3c-49a3-8e83-91ac5f92e575",
   "metadata": {},
   "outputs": [
    {
     "name": "stdout",
     "output_type": "stream",
     "text": [
      "(30000, 3)\n",
      "(2675, 10)\n"
     ]
    }
   ],
   "source": [
    "col_row_citation = citation.shape\n",
    "print(col_row_citation)\n",
    "\n",
    "col_row_treatment = treatment.shape\n",
    "print(col_row_treatment)\n",
    "# both datasets looks reasonable"
   ]
  },
  {
   "cell_type": "markdown",
   "id": "22daa1bc-f1c4-40fa-8412-727624a2c315",
   "metadata": {},
   "source": [
    "**2) Show the distribution of income and citations on a histogram. As the histogram may not look good, do it in two ways: a) histogram of income/citations and b) histogram of log income/citations. In order to avoid issues with log of zero you can do log(1 + income) instead of log income.**"
   ]
  },
  {
   "cell_type": "code",
   "execution_count": 125,
   "id": "dc753a5a-9512-46c4-85ef-503f8739bdd8",
   "metadata": {},
   "outputs": [
    {
     "data": {
      "image/png": "[encoded data removed]",
      "text/plain": [
       "<Figure size 640x480 with 1 Axes>"
      ]
     },
     "metadata": {},
     "output_type": "display_data"
    }
   ],
   "source": [
    "import numpy as np\n",
    "import pandas as pd\n",
    "import matplotlib.pyplot as plt\n",
    "\n",
    "citations = citation[citation[\"citations\"] > 0].citations\n",
    "_ = plt.hist(citations, edgecolor='w', bins=20)\n",
    "_ = plt.xlabel('citation')\n",
    "_ = plt.ylabel('frequency')"
   ]
  },
  {
   "cell_type": "code",
   "execution_count": 130,
   "id": "8e867bac-8c68-4a84-9cf6-052110a0ca8e",
   "metadata": {},
   "outputs": [
    {
     "data": {
      "image/png": "[encoded data removed]",
      "text/plain": [
       "<Figure size 640x480 with 1 Axes>"
      ]
     },
     "metadata": {},
     "output_type": "display_data"
    }
   ],
   "source": [
    "citations = citation[citation[\"citations\"] > 0].citations\n",
    "citations = np.log(citations)\n",
    "_ = plt.hist(citations, edgecolor='w', bins=20)\n",
    "_ = plt.xlabel('citation')\n",
    "_ = plt.ylabel('frequency')"
   ]
  },
  {
   "cell_type": "code",
   "execution_count": 138,
   "id": "b73359a6-5dee-4cb2-99ae-db1c1ce4c8c2",
   "metadata": {},
   "outputs": [
    {
     "data": {
      "image/png": "[encoded data removed]",
      "text/plain": [
       "<Figure size 640x480 with 1 Axes>"
      ]
     },
     "metadata": {},
     "output_type": "display_data"
    }
   ],
   "source": [
    "re78_income = np.log(1 + treatment['re78'])\n",
    "_ = plt.hist(re78_income, edgecolor='w', bins=20)\n",
    "_ = plt.xlabel('Income')\n",
    "_ = plt.ylabel('Frequency')"
   ]
  },
  {
   "cell_type": "code",
   "execution_count": 137,
   "id": "aaec05c0-681c-4f69-a844-ec3f73281e48",
   "metadata": {},
   "outputs": [
    {
     "data": {
      "image/png": "[encoded data removed]",
      "text/plain": [
       "<Figure size 640x480 with 1 Axes>"
      ]
     },
     "metadata": {},
     "output_type": "display_data"
    }
   ],
   "source": [
    "re78_income = np.log(1+treatment['re78'])\n",
    "re78_income = np.log(re78_income[re78_income > 0])\n",
    "_ = plt.hist(re78_income, edgecolor='w', bins=20)\n",
    "_ = plt.xlabel('Income')\n",
    "_ = plt.ylabel('Frequency')"
   ]
  },
  {
   "cell_type": "markdown",
   "id": "8d2fc380-b1d8-490b-933c-027b0a2efb79",
   "metadata": {},
   "source": [
    "**3) Compute sample mean and standard deviation for both datasets. Compare these: how much smaller (or larger) is std. dev compared to the mean?**"
   ]
  },
  {
   "cell_type": "code",
   "execution_count": 190,
   "id": "100810ab-0033-44cf-ba8e-950bfe9de330",
   "metadata": {},
   "outputs": [
    {
     "name": "stdout",
     "output_type": "stream",
     "text": [
      "15.605633333333333\n",
      "79.17810312200979\n"
     ]
    }
   ],
   "source": [
    "mean = citation[\"citations\"].mean()\n",
    "std = citation[\"citations\"].std()\n",
    "print(mean)\n",
    "print(std)"
   ]
  },
  {
   "cell_type": "code",
   "execution_count": 191,
   "id": "ab95b8a1-7b80-4590-bb04-dea066b6f657",
   "metadata": {},
   "outputs": [
    {
     "name": "stdout",
     "output_type": "stream",
     "text": [
      "20502.37607865417\n",
      "15632.519774212507\n"
     ]
    }
   ],
   "source": [
    "mean = treatment[\"re78\"].mean()\n",
    "std = treatment[\"re78\"].std()\n",
    "print(mean)\n",
    "print(std)"
   ]
  },
  {
   "cell_type": "markdown",
   "id": "2682c7d6-64d4-4e16-a728-1473cfdf1802",
   "metadata": {},
   "source": [
    "The std for the second dataset which is treatment dataset 'income' specified has much larger std value which means that the data is much more spread out than the first dataset which is citation 'citations' focused dataset."
   ]
  },
  {
   "cell_type": "markdown",
   "id": "342ca94e-7d78-4b2a-b934-a73df619a8c6",
   "metadata": {},
   "source": [
    "**4) Compute the Pareto ratio for both distributions.**"
   ]
  },
  {
   "cell_type": "code",
   "execution_count": 144,
   "id": "226833b0-0ba2-4aae-bca6-c9a1d37a7fa6",
   "metadata": {},
   "outputs": [
    {
     "name": "stdout",
     "output_type": "stream",
     "text": [
      "pareto_citations: 1.5466637047732763\n",
      "pareto_income: 0.05085137396190429\n"
     ]
    }
   ],
   "source": [
    "citations = citation[citation[\"citations\"] > 0].citations\n",
    "re78_income = np.log(1+treatment['re78'])\n",
    "re78_income = re78_income[re78_income > 0]\n",
    "\n",
    "pareto_citations = max(citations) / sum(citations) * 100\n",
    "pareto_income = max(re78_income) / sum(re78_income) * 100\n",
    "print(\"pareto_citations:\", pareto_citations)\n",
    "print(\"pareto_income:\", pareto_income)"
   ]
  },
  {
   "cell_type": "markdown",
   "id": "95ff5704-3a79-435a-b9cd-39c3431bd285",
   "metadata": {},
   "source": [
    "## 4) Variance of mean (20pts)"
   ]
  },
  {
   "cell_type": "markdown",
   "id": "e2a009f7-0933-404f-9aaf-2e8fa57d731d",
   "metadata": {},
   "source": [
    "**1) Pick your number of repetitions R.**"
   ]
  },
  {
   "cell_type": "code",
   "execution_count": 146,
   "id": "30cacc30-31ff-4d03-8875-7dbd4ae2a730",
   "metadata": {},
   "outputs": [],
   "source": [
    "R = 1000"
   ]
  },
  {
   "cell_type": "markdown",
   "id": "b1fe346e-7263-4889-9c77-de8e179c07fd",
   "metadata": {},
   "source": [
    "**2) Now do R times in a loop: create a single realization of this RV. Store all these in a vector (list or np array). You should have a vector of R realizations.**"
   ]
  },
  {
   "cell_type": "code",
   "execution_count": 152,
   "id": "3a3ba645-1084-4de7-84a3-4e00bcc8c61b",
   "metadata": {},
   "outputs": [],
   "source": [
    "N = 3\n",
    "P = 0.6\n",
    "l = []\n",
    "np.random.seed(0)\n",
    "for i in range(R):\n",
    "    x = np.random.binomial(N, P)\n",
    "    l.append(x)"
   ]
  },
  {
   "cell_type": "markdown",
   "id": "774521b6-e2c2-4a5b-b575-afbfd0f68d29",
   "metadata": {},
   "source": [
    "**3) Compute variance of your sample.**"
   ]
  },
  {
   "cell_type": "code",
   "execution_count": 198,
   "id": "915b0cdd-f939-4f9a-9eea-480586eecdfd",
   "metadata": {},
   "outputs": [
    {
     "name": "stdout",
     "output_type": "stream",
     "text": [
      "0.7317909999999975\n"
     ]
    }
   ],
   "source": [
    "n = R\n",
    "mean = sum(l) / R\n",
    "variance = sum((x - mean) ** 2 for x in l) / R\n",
    "print(variance)"
   ]
  },
  {
   "cell_type": "markdown",
   "id": "b49178b5-58c0-47a2-b9fd-318a89d9008d",
   "metadata": {},
   "source": [
    "**4) Now do a loop of R again, but this time create a pair of realizations (S=2). Compute the pair mean, and store it in a vector. You should have R pair means.**"
   ]
  },
  {
   "cell_type": "code",
   "execution_count": 153,
   "id": "c1167094-7133-4dff-8971-10421fc4b089",
   "metadata": {},
   "outputs": [],
   "source": [
    "N = 3\n",
    "P = 0.6\n",
    "S = 2\n",
    "R = 1000\n",
    "means = []\n",
    "np.random.seed(0)\n",
    "for i in range(R):\n",
    "    x = np.random.binomial(N, P, size=S)\n",
    "    mean = np.mean(x)\n",
    "    means.append(mean)"
   ]
  },
  {
   "cell_type": "markdown",
   "id": "08bed238-1b86-46b5-8b59-e81f4b4baef4",
   "metadata": {},
   "source": [
    "**5) Compute variance of your pair means.**"
   ]
  },
  {
   "cell_type": "code",
   "execution_count": 203,
   "id": "95235254-a546-4131-9cb1-de6af474eade",
   "metadata": {},
   "outputs": [
    {
     "name": "stdout",
     "output_type": "stream",
     "text": [
      "0.3912977499999934\n"
     ]
    }
   ],
   "source": [
    "n = R\n",
    "mean = sum(means) / R\n",
    "variance = sum((x - mean) ** 2 for x in means) / R\n",
    "print(variance)"
   ]
  },
  {
   "cell_type": "markdown",
   "id": "0d954beb-cf9e-446b-b267-c87b2844bb71",
   "metadata": {},
   "source": [
    "**6) Repeat with S = 10-tuples (each time create 10 realizations in the loop and compute mean) and with S = 100-tuples. In both cases compute variance.**"
   ]
  },
  {
   "cell_type": "code",
   "execution_count": 154,
   "id": "a3668606-88c4-4eba-b209-4835f155e5e5",
   "metadata": {},
   "outputs": [],
   "source": [
    "N = 3\n",
    "P = 0.6\n",
    "R = 1000\n",
    "means = []\n",
    "S = 10\n",
    "np.random.seed(0)\n",
    "for i in range(R):\n",
    "    x = np.random.binomial(N, P, size=S)\n",
    "    mean = np.mean(x)\n",
    "    means.append(mean)"
   ]
  },
  {
   "cell_type": "code",
   "execution_count": 207,
   "id": "cb011ce8-f8c3-439e-a57e-88abfbba0bc3",
   "metadata": {},
   "outputs": [
    {
     "name": "stdout",
     "output_type": "stream",
     "text": [
      "0.07029595999999978\n"
     ]
    }
   ],
   "source": [
    "n = R\n",
    "mean = sum(means) / R\n",
    "variance = sum((x - mean) ** 2 for x in means) / R\n",
    "print(variance)"
   ]
  },
  {
   "cell_type": "code",
   "execution_count": 155,
   "id": "283da123-35f1-4773-a070-fc6fe9950c1c",
   "metadata": {},
   "outputs": [],
   "source": [
    "N = 3\n",
    "P = 0.6\n",
    "R = 1000\n",
    "means = []\n",
    "S = 100\n",
    "np.random.seed(0)\n",
    "for i in range(R):\n",
    "    x = np.random.binomial(N, P, size=S)\n",
    "    mean = np.mean(x)\n",
    "    means.append(mean)"
   ]
  },
  {
   "cell_type": "code",
   "execution_count": 156,
   "id": "8cbfdcbb-650e-477d-b262-4a4d5a71d6c7",
   "metadata": {},
   "outputs": [
    {
     "name": "stdout",
     "output_type": "stream",
     "text": [
      "0.007120873600000011\n"
     ]
    }
   ],
   "source": [
    "n = R\n",
    "mean = sum(means) / R\n",
    "variance = sum((x - mean) ** 2 for x in means) / R\n",
    "print(variance)"
   ]
  },
  {
   "cell_type": "markdown",
   "id": "43e4cf90-342a-4642-a90c-71fb67bda61d",
   "metadata": {},
   "source": [
    "**7) Explain why variance of mean gets smaller when sample size S gets larger.**"
   ]
  },
  {
   "cell_type": "markdown",
   "id": "2f9d3aaa-b6ff-4b74-8326-322855b385a6",
   "metadata": {},
   "source": [
    "It's because of the central limit theorem, which states that as the sample size increases, the distribution of the sample means becomes increasingly normal, regardless of the underlying distribution of the population."
   ]
  }
 ],
 "metadata": {
  "kernelspec": {
   "display_name": "Python 3 (ipykernel)",
   "language": "python",
   "name": "python3"
  },
  "language_info": {
   "codemirror_mode": {
    "name": "ipython",
    "version": 3
   },
   "file_extension": ".py",
   "mimetype": "text/x-python",
   "name": "python",
   "nbconvert_exporter": "python",
   "pygments_lexer": "ipython3",
   "version": "3.9.5"
  }
 },
 "nbformat": 4,
 "nbformat_minor": 5
}
